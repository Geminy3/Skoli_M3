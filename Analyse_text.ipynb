{
 "cells": [
  {
   "cell_type": "code",
   "execution_count": 1,
   "metadata": {},
   "outputs": [],
   "source": [
    "import pandas as pd"
   ]
  },
  {
   "cell_type": "code",
   "execution_count": 7,
   "metadata": {},
   "outputs": [],
   "source": [
    "df = pd.read_csv(\"data/data_article.csv\")"
   ]
  },
  {
   "cell_type": "code",
   "execution_count": 8,
   "metadata": {},
   "outputs": [
    {
     "data": {
      "text/html": [
       "<div>\n",
       "<style scoped>\n",
       "    .dataframe tbody tr th:only-of-type {\n",
       "        vertical-align: middle;\n",
       "    }\n",
       "\n",
       "    .dataframe tbody tr th {\n",
       "        vertical-align: top;\n",
       "    }\n",
       "\n",
       "    .dataframe thead th {\n",
       "        text-align: right;\n",
       "    }\n",
       "</style>\n",
       "<table border=\"1\" class=\"dataframe\">\n",
       "  <thead>\n",
       "    <tr style=\"text-align: right;\">\n",
       "      <th></th>\n",
       "      <th>Unnamed: 0</th>\n",
       "      <th>URL</th>\n",
       "      <th>TITRE</th>\n",
       "      <th>IDinDB</th>\n",
       "      <th>TYPE</th>\n",
       "      <th>RESUME</th>\n",
       "      <th>ARTICLE</th>\n",
       "      <th>DATE</th>\n",
       "    </tr>\n",
       "  </thead>\n",
       "  <tbody>\n",
       "    <tr>\n",
       "      <th>250</th>\n",
       "      <td>250</td>\n",
       "      <td>https://www.millenaire3.com/ressources/en-pass...</td>\n",
       "      <td>En passant par le centre : la rue de la Républ...</td>\n",
       "      <td>17077</td>\n",
       "      <td>Étude</td>\n",
       "      <td>Au plus fort des débats sur la \"dégradation\" d...</td>\n",
       "      <td>Sommaire  Chapitre I : De la flânerie1. Qui va...</td>\n",
       "      <td>01/01/1990</td>\n",
       "    </tr>\n",
       "    <tr>\n",
       "      <th>872</th>\n",
       "      <td>872</td>\n",
       "      <td>https://www.millenaire3.com/ressources/essai-s...</td>\n",
       "      <td>Essai sur la mémoire, les attitudes et les rêv...</td>\n",
       "      <td>35407</td>\n",
       "      <td>Texte</td>\n",
       "      <td>Cette contribution engagée donne le point de v...</td>\n",
       "      <td></td>\n",
       "      <td>01/01/1998</td>\n",
       "    </tr>\n",
       "    <tr>\n",
       "      <th>848</th>\n",
       "      <td>848</td>\n",
       "      <td>https://www.millenaire3.com/ressources/la-repu...</td>\n",
       "      <td>La République contre la ville : essai sur l’av...</td>\n",
       "      <td>29316</td>\n",
       "      <td>Texte</td>\n",
       "      <td>Article consacré au renouvellement des régulat...</td>\n",
       "      <td></td>\n",
       "      <td>01/01/1998</td>\n",
       "    </tr>\n",
       "    <tr>\n",
       "      <th>847</th>\n",
       "      <td>847</td>\n",
       "      <td>https://www.millenaire3.com/ressources/essai-s...</td>\n",
       "      <td>Essai sur l'avenir de la France urbaine : la n...</td>\n",
       "      <td>29357</td>\n",
       "      <td>Article</td>\n",
       "      <td>NaN</td>\n",
       "      <td>La société contemporaine n’est-elle pas en tra...</td>\n",
       "      <td>01/01/1998</td>\n",
       "    </tr>\n",
       "    <tr>\n",
       "      <th>2730</th>\n",
       "      <td>2730</td>\n",
       "      <td>https://www.millenaire3.com/ressources/lyon-to...</td>\n",
       "      <td>Lyon / Topographie d’une mémoire chrétienne</td>\n",
       "      <td>31680</td>\n",
       "      <td>Texte</td>\n",
       "      <td>Synthèse du texte publié en janvier 1987 par G...</td>\n",
       "      <td>Le texte porte sur la personnalité religieuse ...</td>\n",
       "      <td>01/01/1998</td>\n",
       "    </tr>\n",
       "    <tr>\n",
       "      <th>...</th>\n",
       "      <td>...</td>\n",
       "      <td>...</td>\n",
       "      <td>...</td>\n",
       "      <td>...</td>\n",
       "      <td>...</td>\n",
       "      <td>...</td>\n",
       "      <td>...</td>\n",
       "      <td>...</td>\n",
       "    </tr>\n",
       "    <tr>\n",
       "      <th>3161</th>\n",
       "      <td>3161</td>\n",
       "      <td>https://www.millenaire3.com/dossiers/2009/demo...</td>\n",
       "      <td>La concertation dans la conduite de projet : G...</td>\n",
       "      <td>481492</td>\n",
       "      <td>Étude</td>\n",
       "      <td>Ce guide méthodologique a été conçu comme un o...</td>\n",
       "      <td>Sommaire : Edito / PréambulePartie 1 : Les fon...</td>\n",
       "      <td>31/12/2007</td>\n",
       "    </tr>\n",
       "    <tr>\n",
       "      <th>1611</th>\n",
       "      <td>1611</td>\n",
       "      <td>https://www.millenaire3.com/dossiers/VILLE-ET-...</td>\n",
       "      <td>La « famille associative » du handicap à Lyon ...</td>\n",
       "      <td>18867</td>\n",
       "      <td>Étude</td>\n",
       "      <td>Les associations qui agissent dans le champ du...</td>\n",
       "      <td>Le répertoire d’actions associatif à l’égard d...</td>\n",
       "      <td>31/12/2010</td>\n",
       "    </tr>\n",
       "    <tr>\n",
       "      <th>1624</th>\n",
       "      <td>1624</td>\n",
       "      <td>https://www.millenaire3.com/dossiers/2011/vill...</td>\n",
       "      <td>La « famille associative » du handicap à Lyon ...</td>\n",
       "      <td>18867</td>\n",
       "      <td>Étude</td>\n",
       "      <td>Les associations qui agissent dans le champ du...</td>\n",
       "      <td>Le répertoire d’actions associatif à l’égard d...</td>\n",
       "      <td>31/12/2010</td>\n",
       "    </tr>\n",
       "    <tr>\n",
       "      <th>3589</th>\n",
       "      <td>3589</td>\n",
       "      <td>https://www.millenaire3.com/dossiers/2015/m3-s...</td>\n",
       "      <td>M3 Société urbaine et action publique - N°4</td>\n",
       "      <td>485612</td>\n",
       "      <td>Étude</td>\n",
       "      <td>La revue M3 – société urbaine et action publiq...</td>\n",
       "      <td>Sommaire du n°4 :  Grand entretien ■  François...</td>\n",
       "      <td>31/12/2012</td>\n",
       "    </tr>\n",
       "    <tr>\n",
       "      <th>972</th>\n",
       "      <td>972</td>\n",
       "      <td>https://www.millenaire3.com/ressources/m3_maga...</td>\n",
       "      <td>M3 Société urbaine et action publique - N°4</td>\n",
       "      <td>485612</td>\n",
       "      <td>Étude</td>\n",
       "      <td>La revue M3 – société urbaine et action publiq...</td>\n",
       "      <td>Sommaire du n°4 :  Grand entretien ■  François...</td>\n",
       "      <td>31/12/2012</td>\n",
       "    </tr>\n",
       "  </tbody>\n",
       "</table>\n",
       "<p>3971 rows × 8 columns</p>\n",
       "</div>"
      ],
      "text/plain": [
       "      Unnamed: 0                                                URL  \\\n",
       "250          250  https://www.millenaire3.com/ressources/en-pass...   \n",
       "872          872  https://www.millenaire3.com/ressources/essai-s...   \n",
       "848          848  https://www.millenaire3.com/ressources/la-repu...   \n",
       "847          847  https://www.millenaire3.com/ressources/essai-s...   \n",
       "2730        2730  https://www.millenaire3.com/ressources/lyon-to...   \n",
       "...          ...                                                ...   \n",
       "3161        3161  https://www.millenaire3.com/dossiers/2009/demo...   \n",
       "1611        1611  https://www.millenaire3.com/dossiers/VILLE-ET-...   \n",
       "1624        1624  https://www.millenaire3.com/dossiers/2011/vill...   \n",
       "3589        3589  https://www.millenaire3.com/dossiers/2015/m3-s...   \n",
       "972          972  https://www.millenaire3.com/ressources/m3_maga...   \n",
       "\n",
       "                                                  TITRE  IDinDB     TYPE  \\\n",
       "250   En passant par le centre : la rue de la Républ...   17077    Étude   \n",
       "872   Essai sur la mémoire, les attitudes et les rêv...   35407    Texte   \n",
       "848   La République contre la ville : essai sur l’av...   29316    Texte   \n",
       "847   Essai sur l'avenir de la France urbaine : la n...   29357  Article   \n",
       "2730        Lyon / Topographie d’une mémoire chrétienne   31680    Texte   \n",
       "...                                                 ...     ...      ...   \n",
       "3161  La concertation dans la conduite de projet : G...  481492    Étude   \n",
       "1611  La « famille associative » du handicap à Lyon ...   18867    Étude   \n",
       "1624  La « famille associative » du handicap à Lyon ...   18867    Étude   \n",
       "3589        M3 Société urbaine et action publique - N°4  485612    Étude   \n",
       "972         M3 Société urbaine et action publique - N°4  485612    Étude   \n",
       "\n",
       "                                                 RESUME  \\\n",
       "250   Au plus fort des débats sur la \"dégradation\" d...   \n",
       "872   Cette contribution engagée donne le point de v...   \n",
       "848   Article consacré au renouvellement des régulat...   \n",
       "847                                                 NaN   \n",
       "2730  Synthèse du texte publié en janvier 1987 par G...   \n",
       "...                                                 ...   \n",
       "3161  Ce guide méthodologique a été conçu comme un o...   \n",
       "1611  Les associations qui agissent dans le champ du...   \n",
       "1624  Les associations qui agissent dans le champ du...   \n",
       "3589  La revue M3 – société urbaine et action publiq...   \n",
       "972   La revue M3 – société urbaine et action publiq...   \n",
       "\n",
       "                                                ARTICLE        DATE  \n",
       "250   Sommaire  Chapitre I : De la flânerie1. Qui va...  01/01/1990  \n",
       "872                                                      01/01/1998  \n",
       "848                                                      01/01/1998  \n",
       "847   La société contemporaine n’est-elle pas en tra...  01/01/1998  \n",
       "2730  Le texte porte sur la personnalité religieuse ...  01/01/1998  \n",
       "...                                                 ...         ...  \n",
       "3161  Sommaire : Edito / PréambulePartie 1 : Les fon...  31/12/2007  \n",
       "1611  Le répertoire d’actions associatif à l’égard d...  31/12/2010  \n",
       "1624  Le répertoire d’actions associatif à l’égard d...  31/12/2010  \n",
       "3589  Sommaire du n°4 :  Grand entretien ■  François...  31/12/2012  \n",
       "972   Sommaire du n°4 :  Grand entretien ■  François...  31/12/2012  \n",
       "\n",
       "[3971 rows x 8 columns]"
      ]
     },
     "execution_count": 8,
     "metadata": {},
     "output_type": "execute_result"
    }
   ],
   "source": [
    "df.sort_values(by=\"DATE\")"
   ]
  },
  {
   "cell_type": "code",
   "execution_count": 9,
   "metadata": {},
   "outputs": [],
   "source": [
    "df.DATE = pd.to_datetime(df.DATE)"
   ]
  },
  {
   "cell_type": "code",
   "execution_count": 10,
   "metadata": {},
   "outputs": [
    {
     "data": {
      "text/plain": [
       "<AxesSubplot:>"
      ]
     },
     "execution_count": 10,
     "metadata": {},
     "output_type": "execute_result"
    },
    {
     "data": {
      "image/png": "[encoded data removed]",
      "text/plain": [
       "<Figure size 1440x720 with 1 Axes>"
      ]
     },
     "metadata": {
      "needs_background": "light"
     },
     "output_type": "display_data"
    }
   ],
   "source": [
    "df.DATE.value_counts().plot(figsize=(20,10))"
   ]
  },
  {
   "cell_type": "code",
   "execution_count": 11,
   "metadata": {},
   "outputs": [
    {
     "data": {
      "text/plain": [
       "<AxesSubplot:>"
      ]
     },
     "execution_count": 11,
     "metadata": {},
     "output_type": "execute_result"
    },
    {
     "data": {
      "image/png": "[encoded data removed]",
      "text/plain": [
       "<Figure size 1440x720 with 1 Axes>"
      ]
     },
     "metadata": {
      "needs_background": "light"
     },
     "output_type": "display_data"
    }
   ],
   "source": [
    "tmp = [date.date().year for date in df.DATE]\n",
    "tmp = pd.DataFrame({\"DATE\" : tmp})\n",
    "tmp.DATE.value_counts().sort_index().plot(kind = \"bar\", figsize=(20, 10))"
   ]
  },
  {
   "attachments": {},
   "cell_type": "markdown",
   "metadata": {},
   "source": [
    "### TEXTE\n"
   ]
  },
  {
   "cell_type": "code",
   "execution_count": 32,
   "metadata": {},
   "outputs": [
    {
     "name": "stdout",
     "output_type": "stream",
     "text": [
      "0\n"
     ]
    }
   ],
   "source": [
    "\n",
    "errors = []\n",
    "for i in range(df.shape[0]):\n",
    "    if type(df.loc[i, \"RESUME\"]) != str and type(df.loc[i, \"ARTICLE\"]) != str:\n",
    "        errors.append(df.URL[i])\n",
    "\n",
    "print(len(errors))\n",
    "for i, item in enumerate(errors): \n",
    "    print(i, item)"
   ]
  },
  {
   "cell_type": "code",
   "execution_count": 31,
   "metadata": {},
   "outputs": [
    {
     "data": {
      "text/html": [
       "<div>\n",
       "<style scoped>\n",
       "    .dataframe tbody tr th:only-of-type {\n",
       "        vertical-align: middle;\n",
       "    }\n",
       "\n",
       "    .dataframe tbody tr th {\n",
       "        vertical-align: top;\n",
       "    }\n",
       "\n",
       "    .dataframe thead th {\n",
       "        text-align: right;\n",
       "    }\n",
       "</style>\n",
       "<table border=\"1\" class=\"dataframe\">\n",
       "  <thead>\n",
       "    <tr style=\"text-align: right;\">\n",
       "      <th></th>\n",
       "      <th>Unnamed: 0</th>\n",
       "      <th>URL</th>\n",
       "      <th>TITRE</th>\n",
       "      <th>IDinDB</th>\n",
       "      <th>TYPE</th>\n",
       "      <th>RESUME</th>\n",
       "      <th>ARTICLE</th>\n",
       "      <th>DATE</th>\n",
       "    </tr>\n",
       "  </thead>\n",
       "  <tbody>\n",
       "    <tr>\n",
       "      <th>839</th>\n",
       "      <td>839</td>\n",
       "      <td>https://www.millenaire3.com/ressources/label-v...</td>\n",
       "      <td>Label ville Internet 2000. Une mesure de la vi...</td>\n",
       "      <td>26639</td>\n",
       "      <td>Texte</td>\n",
       "      <td>NaN</td>\n",
       "      <td>L’opération « Label villes Internet » soutenue...</td>\n",
       "      <td>2000-01-01</td>\n",
       "    </tr>\n",
       "  </tbody>\n",
       "</table>\n",
       "</div>"
      ],
      "text/plain": [
       "     Unnamed: 0                                                URL  \\\n",
       "839         839  https://www.millenaire3.com/ressources/label-v...   \n",
       "\n",
       "                                                 TITRE IDinDB   TYPE RESUME  \\\n",
       "839  Label ville Internet 2000. Une mesure de la vi...  26639  Texte    NaN   \n",
       "\n",
       "                                               ARTICLE       DATE  \n",
       "839  L’opération « Label villes Internet » soutenue... 2000-01-01  "
      ]
     },
     "execution_count": 31,
     "metadata": {},
     "output_type": "execute_result"
    }
   ],
   "source": [
    "df.loc[df.URL == \"https://www.millenaire3.com/ressources/label-ville-internet-2000.-une-mesure-de-la-vitalite-des-collectivites-dans-le-developpement-de-l-internet-citoyen\",]"
   ]
  },
  {
   "cell_type": "code",
   "execution_count": 37,
   "metadata": {},
   "outputs": [
    {
     "name": "stdout",
     "output_type": "stream",
     "text": [
      "3971\n",
      "3971\n"
     ]
    }
   ],
   "source": [
    "concat = []\n",
    "for i in range(df.shape[0]):\n",
    "    texte = \"\"\n",
    "    if type(df.loc[i, \"RESUME\"]) == str:\n",
    "        texte = df.loc[i, \"RESUME\"].replace(\"\\n\", \" \")\n",
    "    if type(df.loc[i, \"ARTICLE\"]) == str:\n",
    "        texte += \" \"+df.loc[i, \"ARTICLE\"].replace(\"\\n\", \" \")\n",
    "    concat.append(texte)\n",
    "\n",
    "print(len(df))\n",
    "print(len(concat))"
   ]
  },
  {
   "cell_type": "code",
   "execution_count": 54,
   "metadata": {},
   "outputs": [
    {
     "name": "stdout",
     "output_type": "stream",
     "text": [
      "No NA : (1109, 8)\n",
      "With NA : (2228, 8)\n"
     ]
    }
   ],
   "source": [
    "df2 = df.loc[df.TITRE.duplicated() != True,].sort_values(by=\"IDinDB\")\n",
    "dfnotna = df2.loc[df2.IDinDB.notna()]\n",
    "print(f\"No NA : {dfnotna.shape}\\nWith NA : {df2.shape}\")"
   ]
  },
  {
   "cell_type": "code",
   "execution_count": null,
   "metadata": {},
   "outputs": [],
   "source": []
  },
  {
   "cell_type": "code",
   "execution_count": 55,
   "metadata": {},
   "outputs": [],
   "source": [
    "import spacy\n",
    "#import openai #!pip install openai\n",
    "# Il faut aller chercher le token de openai pour utiliser leur API\n",
    "# L'idée est de constituer un résumé pour chacun des documents et utiliser un moteur de recherche par mot clé sur les textes ?\n",
    "# Ou sinon uniquement par tag ?\n",
    "\n",
    "#nlp = spacy.load(\"...\")"
   ]
  },
  {
   "cell_type": "code",
   "execution_count": null,
   "metadata": {},
   "outputs": [],
   "source": []
  }
 ],
 "metadata": {
  "kernelspec": {
   "display_name": "base",
   "language": "python",
   "name": "python3"
  },
  "language_info": {
   "codemirror_mode": {
    "name": "ipython",
    "version": 3
   },
   "file_extension": ".py",
   "mimetype": "text/x-python",
   "name": "python",
   "nbconvert_exporter": "python",
   "pygments_lexer": "ipython3",
   "version": "3.8.8"
  },
  "orig_nbformat": 4
 },
 "nbformat": 4,
 "nbformat_minor": 2
}
