{
 "cells": [
  {
   "cell_type": "code",
   "execution_count": 1,
   "metadata": {},
   "outputs": [],
   "source": [
    "import pandas as pd"
   ]
  },
  {
   "cell_type": "code",
   "execution_count": 6,
   "metadata": {},
   "outputs": [],
   "source": [
    "df = pd.read_csv(\"./data_web.csv\")"
   ]
  },
  {
   "cell_type": "code",
   "execution_count": 7,
   "metadata": {},
   "outputs": [
    {
     "data": {
      "text/html": [
       "<div>\n",
       "<style scoped>\n",
       "    .dataframe tbody tr th:only-of-type {\n",
       "        vertical-align: middle;\n",
       "    }\n",
       "\n",
       "    .dataframe tbody tr th {\n",
       "        vertical-align: top;\n",
       "    }\n",
       "\n",
       "    .dataframe thead th {\n",
       "        text-align: right;\n",
       "    }\n",
       "</style>\n",
       "<table border=\"1\" class=\"dataframe\">\n",
       "  <thead>\n",
       "    <tr style=\"text-align: right;\">\n",
       "      <th></th>\n",
       "      <th>Unnamed: 0</th>\n",
       "      <th>URL</th>\n",
       "      <th>TITRE</th>\n",
       "      <th>IDinDB</th>\n",
       "      <th>TYPE</th>\n",
       "      <th>RESUME</th>\n",
       "      <th>ARTICLE</th>\n",
       "      <th>DATE</th>\n",
       "    </tr>\n",
       "  </thead>\n",
       "  <tbody>\n",
       "    <tr>\n",
       "      <th>1353</th>\n",
       "      <td>1353</td>\n",
       "      <td>https://www.millenaire3.com/ressources/en-pass...</td>\n",
       "      <td>En passant par le centre : la rue de la Républ...</td>\n",
       "      <td>17077</td>\n",
       "      <td>Étude</td>\n",
       "      <td>Au plus fort des débats sur la \"dégradation\" d...</td>\n",
       "      <td>Sommaire  Chapitre I : De la flânerie1. Qui va...</td>\n",
       "      <td>01/01/1990</td>\n",
       "    </tr>\n",
       "    <tr>\n",
       "      <th>1625</th>\n",
       "      <td>1625</td>\n",
       "      <td>https://www.millenaire3.com/ressources/lyon-to...</td>\n",
       "      <td>Lyon / Topographie d’une mémoire chrétienne</td>\n",
       "      <td>31680</td>\n",
       "      <td>Texte</td>\n",
       "      <td>Synthèse du texte publié en janvier 1987 par G...</td>\n",
       "      <td>Le texte porte sur la personnalité religieuse ...</td>\n",
       "      <td>01/01/1998</td>\n",
       "    </tr>\n",
       "    <tr>\n",
       "      <th>110</th>\n",
       "      <td>110</td>\n",
       "      <td>https://www.millenaire3.com/ressources/Le-viei...</td>\n",
       "      <td>Le vieillissement de la population interroge l...</td>\n",
       "      <td>50049</td>\n",
       "      <td>Texte</td>\n",
       "      <td>Les pays d’Europe et leurs citoyens ne sont pa...</td>\n",
       "      <td>Qu’est-ce que la vieillesse ? Quelles question...</td>\n",
       "      <td>01/01/1998</td>\n",
       "    </tr>\n",
       "    <tr>\n",
       "      <th>1341</th>\n",
       "      <td>1341</td>\n",
       "      <td>https://www.millenaire3.com/ressources/les-pay...</td>\n",
       "      <td>Les pays industrialisés s’engagent à réduire l...</td>\n",
       "      <td>47670</td>\n",
       "      <td>Texte</td>\n",
       "      <td>NaN</td>\n",
       "      <td>Le compromis trouvé à l’issue de la conférence...</td>\n",
       "      <td>01/01/1998</td>\n",
       "    </tr>\n",
       "    <tr>\n",
       "      <th>364</th>\n",
       "      <td>364</td>\n",
       "      <td>https://www.millenaire3.com/ressources/formati...</td>\n",
       "      <td>Formation en alternance : où en est-on dans la...</td>\n",
       "      <td>36945</td>\n",
       "      <td>Texte</td>\n",
       "      <td>NaN</td>\n",
       "      <td>Cette étude faite à la demande du Grand Lyon, ...</td>\n",
       "      <td>01/01/1998</td>\n",
       "    </tr>\n",
       "    <tr>\n",
       "      <th>...</th>\n",
       "      <td>...</td>\n",
       "      <td>...</td>\n",
       "      <td>...</td>\n",
       "      <td>...</td>\n",
       "      <td>...</td>\n",
       "      <td>...</td>\n",
       "      <td>...</td>\n",
       "      <td>...</td>\n",
       "    </tr>\n",
       "    <tr>\n",
       "      <th>1682</th>\n",
       "      <td>1682</td>\n",
       "      <td>https://www.millenaire3.com/ressources/La-vill...</td>\n",
       "      <td>La ville intelligente : modèles et finalités</td>\n",
       "      <td>41844</td>\n",
       "      <td>Étude</td>\n",
       "      <td>Si les villes sont aujourd’hui le lieu où vive...</td>\n",
       "      <td>De fait, la première « révolution urbaine », ...</td>\n",
       "      <td>31/10/2014</td>\n",
       "    </tr>\n",
       "    <tr>\n",
       "      <th>1403</th>\n",
       "      <td>1403</td>\n",
       "      <td>https://www.millenaire3.com/ressources/La-conc...</td>\n",
       "      <td>La concertation dans la conduite de projet : G...</td>\n",
       "      <td>481492</td>\n",
       "      <td>Étude</td>\n",
       "      <td>Ce guide méthodologique a été conçu comme un o...</td>\n",
       "      <td>Sommaire : Edito / PréambulePartie 1 : Les fon...</td>\n",
       "      <td>31/12/2007</td>\n",
       "    </tr>\n",
       "    <tr>\n",
       "      <th>1759</th>\n",
       "      <td>1759</td>\n",
       "      <td>https://www.millenaire3.com/dossiers/VILLE-ET-...</td>\n",
       "      <td>La « famille associative » du handicap à Lyon ...</td>\n",
       "      <td>18867</td>\n",
       "      <td>Étude</td>\n",
       "      <td>Les associations qui agissent dans le champ du...</td>\n",
       "      <td>Le répertoire d’actions associatif à l’égard d...</td>\n",
       "      <td>31/12/2010</td>\n",
       "    </tr>\n",
       "    <tr>\n",
       "      <th>35</th>\n",
       "      <td>35</td>\n",
       "      <td>https://www.millenaire3.com/dossiers/2011/vill...</td>\n",
       "      <td>La « famille associative » du handicap à Lyon ...</td>\n",
       "      <td>18867</td>\n",
       "      <td>Étude</td>\n",
       "      <td>Les associations qui agissent dans le champ du...</td>\n",
       "      <td>Le répertoire d’actions associatif à l’égard d...</td>\n",
       "      <td>31/12/2010</td>\n",
       "    </tr>\n",
       "    <tr>\n",
       "      <th>1568</th>\n",
       "      <td>1568</td>\n",
       "      <td>https://www.millenaire3.com/ressources/m3_maga...</td>\n",
       "      <td>M3 Société urbaine et action publique - N°4</td>\n",
       "      <td>485612</td>\n",
       "      <td>Étude</td>\n",
       "      <td>La revue M3 – société urbaine et action publiq...</td>\n",
       "      <td>Sommaire du n°4 :  Grand entretien ■  François...</td>\n",
       "      <td>31/12/2012</td>\n",
       "    </tr>\n",
       "  </tbody>\n",
       "</table>\n",
       "<p>1809 rows × 8 columns</p>\n",
       "</div>"
      ],
      "text/plain": [
       "      Unnamed: 0                                                URL  \\\n",
       "1353        1353  https://www.millenaire3.com/ressources/en-pass...   \n",
       "1625        1625  https://www.millenaire3.com/ressources/lyon-to...   \n",
       "110          110  https://www.millenaire3.com/ressources/Le-viei...   \n",
       "1341        1341  https://www.millenaire3.com/ressources/les-pay...   \n",
       "364          364  https://www.millenaire3.com/ressources/formati...   \n",
       "...          ...                                                ...   \n",
       "1682        1682  https://www.millenaire3.com/ressources/La-vill...   \n",
       "1403        1403  https://www.millenaire3.com/ressources/La-conc...   \n",
       "1759        1759  https://www.millenaire3.com/dossiers/VILLE-ET-...   \n",
       "35            35  https://www.millenaire3.com/dossiers/2011/vill...   \n",
       "1568        1568  https://www.millenaire3.com/ressources/m3_maga...   \n",
       "\n",
       "                                                  TITRE  IDinDB   TYPE  \\\n",
       "1353  En passant par le centre : la rue de la Républ...   17077  Étude   \n",
       "1625        Lyon / Topographie d’une mémoire chrétienne   31680  Texte   \n",
       "110   Le vieillissement de la population interroge l...   50049  Texte   \n",
       "1341  Les pays industrialisés s’engagent à réduire l...   47670  Texte   \n",
       "364   Formation en alternance : où en est-on dans la...   36945  Texte   \n",
       "...                                                 ...     ...    ...   \n",
       "1682       La ville intelligente : modèles et finalités   41844  Étude   \n",
       "1403  La concertation dans la conduite de projet : G...  481492  Étude   \n",
       "1759  La « famille associative » du handicap à Lyon ...   18867  Étude   \n",
       "35    La « famille associative » du handicap à Lyon ...   18867  Étude   \n",
       "1568        M3 Société urbaine et action publique - N°4  485612  Étude   \n",
       "\n",
       "                                                 RESUME  \\\n",
       "1353  Au plus fort des débats sur la \"dégradation\" d...   \n",
       "1625  Synthèse du texte publié en janvier 1987 par G...   \n",
       "110   Les pays d’Europe et leurs citoyens ne sont pa...   \n",
       "1341                                                NaN   \n",
       "364                                                 NaN   \n",
       "...                                                 ...   \n",
       "1682  Si les villes sont aujourd’hui le lieu où vive...   \n",
       "1403  Ce guide méthodologique a été conçu comme un o...   \n",
       "1759  Les associations qui agissent dans le champ du...   \n",
       "35    Les associations qui agissent dans le champ du...   \n",
       "1568  La revue M3 – société urbaine et action publiq...   \n",
       "\n",
       "                                                ARTICLE        DATE  \n",
       "1353  Sommaire  Chapitre I : De la flânerie1. Qui va...  01/01/1990  \n",
       "1625  Le texte porte sur la personnalité religieuse ...  01/01/1998  \n",
       "110   Qu’est-ce que la vieillesse ? Quelles question...  01/01/1998  \n",
       "1341  Le compromis trouvé à l’issue de la conférence...  01/01/1998  \n",
       "364   Cette étude faite à la demande du Grand Lyon, ...  01/01/1998  \n",
       "...                                                 ...         ...  \n",
       "1682   De fait, la première « révolution urbaine », ...  31/10/2014  \n",
       "1403  Sommaire : Edito / PréambulePartie 1 : Les fon...  31/12/2007  \n",
       "1759  Le répertoire d’actions associatif à l’égard d...  31/12/2010  \n",
       "35    Le répertoire d’actions associatif à l’égard d...  31/12/2010  \n",
       "1568  Sommaire du n°4 :  Grand entretien ■  François...  31/12/2012  \n",
       "\n",
       "[1809 rows x 8 columns]"
      ]
     },
     "execution_count": 7,
     "metadata": {},
     "output_type": "execute_result"
    }
   ],
   "source": [
    "df.sort_values(by=\"DATE\")"
   ]
  },
  {
   "cell_type": "code",
   "execution_count": 23,
   "metadata": {},
   "outputs": [],
   "source": [
    "df.DATE = pd.to_datetime(df.DATE)"
   ]
  },
  {
   "cell_type": "code",
   "execution_count": 31,
   "metadata": {},
   "outputs": [
    {
     "data": {
      "text/plain": [
       "<AxesSubplot:>"
      ]
     },
     "execution_count": 31,
     "metadata": {},
     "output_type": "execute_result"
    },
    {
     "data": {
      "image/png": "[encoded data removed]",
      "text/plain": [
       "<Figure size 1440x720 with 1 Axes>"
      ]
     },
     "metadata": {
      "needs_background": "light"
     },
     "output_type": "display_data"
    }
   ],
   "source": [
    "df.DATE.value_counts().plot(figsize=(20,10))"
   ]
  },
  {
   "cell_type": "code",
   "execution_count": 73,
   "metadata": {},
   "outputs": [
    {
     "data": {
      "text/plain": [
       "<AxesSubplot:>"
      ]
     },
     "execution_count": 73,
     "metadata": {},
     "output_type": "execute_result"
    },
    {
     "data": {
      "image/png": "[encoded data removed]",
      "text/plain": [
       "<Figure size 1440x720 with 1 Axes>"
      ]
     },
     "metadata": {
      "needs_background": "light"
     },
     "output_type": "display_data"
    }
   ],
   "source": [
    "tmp = [date.date().year for date in df.DATE]\n",
    "tmp = pd.DataFrame({\"DATE\" : tmp})\n",
    "tmp.DATE.value_counts().sort_index().plot(kind = \"bar\", figsize=(20, 10))"
   ]
  },
  {
   "attachments": {},
   "cell_type": "markdown",
   "metadata": {},
   "source": [
    "### TEXTE\n"
   ]
  },
  {
   "cell_type": "code",
   "execution_count": 90,
   "metadata": {},
   "outputs": [
    {
     "name": "stdout",
     "output_type": "stream",
     "text": [
      "123\n",
      "0 https://www.millenaire3.com/ressources/vivre-et-imaginer-la-ville-entre-cite-et-metropole\n",
      "1 https://www.millenaire3.com/ressources/l-integration-de-l-animal-familier-au-sein-des-institutions-pour-personnes-agees\n",
      "2 https://www.millenaire3.com/ressources/diversite-culturelle-religion-et-modernite-l-experience-de-la-france-contemporaine\n",
      "3 https://www.millenaire3.com/ressources/les-tsiganes-de-hongrie-et-les-politiques-d-integration\n",
      "4 https://www.millenaire3.com/ressources/forces-spirituelles-une-dette-a-l-egard-de-l-humanite\n",
      "5 https://www.millenaire3.com/ressources/vers-un-developpement-durable-de-qualite-a-quelles-conditions-peut-on-agir\n",
      "6 https://www.millenaire3.com/ressources/consultation-sur-la-condition-penitentiaire\n",
      "7 https://www.millenaire3.com/ressources/la-situation-des-personnes-agees-immigrees-dans-le-contexte-urbain-suisse-l-exemple-de-geneve\n",
      "8 https://www.millenaire3.com/ressources/lyon-2020-synthese-du-groupe-de-travail-sur-la-scene-artistique-de-la-metropole-lyonnaise\n",
      "9 https://www.millenaire3.com/ressources/les-quartiers-de-la-politique-de-la-ville-une-categorie-territoriale-pour-une-politique-de-discrimination-positive\n",
      "10 https://www.millenaire3.com/ressources/les-sorties-du-systeme-scolaire-sans-qualification\n",
      "11 https://www.millenaire3.com/ressources/comment-lutter-contre-les-discriminations-raciales-des-pistes-d-action-dans-les-secteurs-du-logement-de-l-education-et-de-l-emploi\n",
      "12 https://www.millenaire3.com/ressources/la-croix-rousse-un-hopital-et-son-quartier\n",
      "13 https://www.millenaire3.com/ressources/les-programmes-europeens-lyon-comparee-a-d-autres-metropoles-europeennes\n",
      "14 https://www.millenaire3.com/ressources/observatoire-territorial-du-contrat-de-ville-de-l-agglomeration-lyonnaise-rapport-annuel-2002\n",
      "15 https://www.millenaire3.com/ressources/lyon-2020-solidarite-dialogue\n",
      "16 https://www.millenaire3.com/ressources/la-revanche-du-multitaskeur\n",
      "17 https://www.millenaire3.com/ressources/prevention-des-risques-majeurs-emergence-d-une-politique\n",
      "18 https://www.millenaire3.com/ressources/l-ecole-et-l-education-au-coeur-des-politiques-urbaines-et-sociales\n",
      "19 https://www.millenaire3.com/ressources/la-haute-technologie-dans-les-principales-aires-urbaines-francaises-lyon-comparee-a-d-autres-metropoles-europeennes\n",
      "20 https://www.millenaire3.com/ressources/royaume-uni-du-groupe-a-l-individu-la-gestion-de-la-diversite\n",
      "21 https://www.millenaire3.com/ressources/logement-et-integration-des-minorites-ethniques-dans-les-villes-europeennes\n",
      "22 https://www.millenaire3.com/ressources/pole-rhone-alpes-environnement-pour-un-developpement-durable\n",
      "23 https://www.millenaire3.com/ressources/vallee-de-la-chimie-diagnostic-artistique-et-culturel\n",
      "24 https://www.millenaire3.com/ressources/la-relation-homme-animal-un-veritable-enjeu-de-bien-etre\n",
      "25 https://www.millenaire3.com/ressources/elements-de-bilan-de-la-politique-de-participation-regards-croises-des-parties-prenantes\n",
      "26 https://www.millenaire3.com/ressources/la-diversite-principe-actif\n",
      "27 https://www.millenaire3.com/ressources/formation-en-alternance-ou-en-est-on-dans-la-region-lyonnaise\n",
      "28 https://www.millenaire3.com/ressources/faut-il-supprimer-les-zep\n",
      "29 https://www.millenaire3.com/ressources/lyon-2020-cinema-jeux-video-audio-visuel-media\n",
      "30 https://www.millenaire3.com/ressources/marius-berliet-1866-1949\n",
      "31 https://www.millenaire3.com/ressources/responsabilite-sociale-des-entreprises-preoccupation-ou-alibi\n",
      "32 https://www.millenaire3.com/ressources/quel-role-pour-les-elus\n",
      "33 https://www.millenaire3.com/ressources/le-systeme-scolaire-en-france-et-les-discriminations-entre-resultat-et-cause-des-segregations\n",
      "34 https://www.millenaire3.com/ressources/curitiba-succes-et-limites-du-metro-de-surface\n",
      "35 https://www.millenaire3.com/ressources/la-nuit-entre-tabou-et-atout\n",
      "36 https://www.millenaire3.com/ressources/logement-et-integration-des-minorites-ethniques-dans-les-villes-neerlandaises-diagnostic-synthese\n",
      "37 https://www.millenaire3.com/ressources/michel-jouvet-et-la-decouverte-du-sommeil-paradoxal\n",
      "38 https://www.millenaire3.com/ressources/la-quete-du-bien-etre-social-enjeu-majeur-de-sante-publique\n",
      "39 https://www.millenaire3.com/ressources/la-haye-pays-bas-un-changement-dans-la-pensee-politique\n",
      "40 https://www.millenaire3.com/ressources/communaute-communautarisme-et-lien-communautaire-dans-les-differents-pays-de-l-integration\n",
      "41 https://www.millenaire3.com/ressources/refonder-des-civilites-urbaines-adapter-les-lieux-publics\n",
      "42 https://www.millenaire3.com/ressources/le-temps-du-label\n",
      "43 https://www.millenaire3.com/ressources/en-quels-temps-vivons-nous\n",
      "44 https://www.millenaire3.com/ressources/etude-exploratoire-sur-differentes-structures-tarifaires-et-sur-les-enjeux-de-la-telereleve\n",
      "45 https://www.millenaire3.com/ressources/commune-centre-agglomeration-aire-urbaine-quelle-pertinence-pour-l-etude-des-villes\n",
      "46 https://www.millenaire3.com/ressources/villes-et-politiques-migratoires-au-portugal-un-bref-apercu\n",
      "47 https://www.millenaire3.com/ressources/glasgow-ecosse-comment-creer-une-communaute-sure-pour-tous\n",
      "48 https://www.millenaire3.com/ressources/Tendances-autour-de-la-generation-diplomee-emergeante-contribution-a-l-elaboration-d-une-vision-d-avenir-pour-la-Part-Dieu\n",
      "49 https://www.millenaire3.com/ressources/la-presse-lyon-dans-la-presse-etrangere\n",
      "50 https://www.millenaire3.com/ressources/l-agenda-d-une-autre-mondialisation\n",
      "51 https://www.millenaire3.com/ressources/les-services-a-la-personne-un-secteur-en-pleine-expansion\n",
      "52 https://www.millenaire3.com/ressources/les-visual-studies-quand-l-image-ouvre-des-horizons\n",
      "53 https://www.millenaire3.com/ressources/le-poids-demographique-lyon-comparee-a-d-autres-metropoles-europeennes\n",
      "54 https://www.millenaire3.com/ressources/lyon-la-banlieue-et-leur-centre-entre-la-rue-de-la-republique-et-la-part-dieu\n",
      "55 https://www.millenaire3.com/ressources/johannesburg-des-engagements-publics-sont-a-prendre\n",
      "56 https://www.millenaire3.com/ressources/le-temps-une-question-de-pouvoir\n",
      "57 https://www.millenaire3.com/ressources/le-temps-du-travail-dicte-t-il-l-emploi-du-temps-des-citadins\n",
      "58 https://www.millenaire3.com/ressources/la-psycho-ethnologie-d-entreprises-pour-des-projets-psycho-friendly\n",
      "59 https://www.millenaire3.com/ressources/accueil-des-etudiants-etrangers-dans-l-agglomeration-lyonnaise\n",
      "60 https://www.millenaire3.com/ressources/quel-role-une-collectivite-comme-le-grand-lyon-peut-elle-jouer-dans-le-systeme-local-de-l-emploi\n",
      "61 https://www.millenaire3.com/ressources/colloque-indicateurs-de-developpement-durable-jeux-et-enjeux\n",
      "62 https://www.millenaire3.com/ressources/le-biopole-lyonnais-recits-d-une-dynamique-d-excellence-tome-2\n",
      "63 https://www.millenaire3.com/ressources/l-avenir-qui-s-invente-pratiques-representations-et-attentes-societales-du-developpement-durable\n",
      "64 https://www.millenaire3.com/ressources/privatiser-ou-planifier-le-developpement-durable-il-faut-choisir\n",
      "65 https://www.millenaire3.com/ressources/lyon-metropole-de-la-lumiere\n",
      "66 https://www.millenaire3.com/ressources/2014/reconstruire-un-consensus-sur-la-densite\n",
      "67 https://www.millenaire3.com/ressources/un-approfondissement-ou-une-densification-ethique-du-developpement-durable-qu-est-ce-a-dire-sur-le-fond\n",
      "68 https://www.millenaire3.com/ressources/securite-un-des-aspects-du-vivre-ensemble-quelle-securite-pour-les-habitants-du-grand-lyon\n",
      "69 https://www.millenaire3.com/ressources/des-innovations-non-technologiques-le-service-covoiturage-du-grand-lyon-quelles-implications-en-termes-de-decision-publique-et-de-conduite-du-changement\n",
      "70 https://www.millenaire3.com/ressources/shopping-de-luxe-lyon-comparee-a-d-autres-villes-europeennes-et-francaises\n",
      "71 https://www.millenaire3.com/ressources/sur-le-moment-ecologique\n",
      "72 https://www.millenaire3.com/ressources/un-laboratoire-d-idees-pour-une-prospective-du-management-de-l-action-publique-urbaine\n",
      "73 https://www.millenaire3.com/ressources/Un-fleuve-pratique-un-fleuve-anime-Sports-et-loisirs-nautiques\n",
      "74 https://www.millenaire3.com/ressources/Les-personnes-agees-dans-le-Rhone\n",
      "75 https://www.millenaire3.com/ressources/les-politiques-culturelles\n",
      "76 https://www.millenaire3.com/ressources/les-eco-activites-en-region-lyonnaise\n",
      "77 https://www.millenaire3.com/ressources/les-biotechnologies-dans-la-region-lyonnaise-entre-sante-et-developpement-economique-elements-de-repere\n",
      "78 https://www.millenaire3.com/ressources/l-entrepreneuriat-dans-la-metropole-lyonnaise\n",
      "79 https://www.millenaire3.com/ressources/le-reseau-social-c-est-la-ville-la-complexite-des-cultures-urbaines\n",
      "80 https://www.millenaire3.com/ressources/les-valeurs-du-travail-vivre-pour-travailler\n",
      "81 https://www.millenaire3.com/ressources/l-orientation-scolaire-et-professionnelle\n",
      "82 https://www.millenaire3.com/ressources/des-innovations-non-technologiques-le-service-covoiturage-du-grand-lyon-quelles-implications-en-termes-de-decision-publique-et-de-conduite-du-cha\n",
      "83 https://www.millenaire3.com/ressources/waterscapes-les-paysages-de-l-eau\n",
      "84 https://www.millenaire3.com/ressources/lyon-2020-synthese-du-groupe-sante\n",
      "85 https://www.millenaire3.com/ressources/logement-et-integration-des-minorites-ethniques-dans-les-villes-francaises-diagnostic-synthese\n",
      "86 https://www.millenaire3.com/ressources/kyoto-et-la-necessite-d-une-regulation-metropolitaine-des-deplacements\n",
      "87 https://www.millenaire3.com/ressources/indicateurs-de-la-frequentation-touristique-en-ete-dans-quelques-villes-continentales-europeennes\n",
      "88 https://www.millenaire3.com/ressources/politiques-temporelles-un-enjeu-essentiel-de-la-politique-de-la-ville\n",
      "89 https://www.millenaire3.com/ressources/le-biopole-lyonnais-recits-d-une-dynamique-d-excellence-tome-3\n",
      "90 https://www.millenaire3.com/ressources/sante-psychique-et-logement-un-habitat-adapte-aux-besoins-de-chacun\n",
      "91 https://www.millenaire3.com/ressources/les-discriminations-situation-francaise-evolutions-communautaires-europeennes-juin-2002\n",
      "92 https://www.millenaire3.com/ressources/les-instruments-de-la-gouvernance-un-enjeu-d-actualite\n",
      "93 https://www.millenaire3.com/ressources/quand-malaise-social-rime-avec-souffrance-psychique\n",
      "94 https://www.millenaire3.com/ressources/vers-johannesburg-des-priorites-et-des-interpellations-l-homme-et-la-terre-n-attendront-pas\n",
      "95 https://www.millenaire3.com/ressources/les-pays-industrialises-s-engagent-a-reduire-les-emissions-de-gaz-a-effet-de-serre\n",
      "96 https://www.millenaire3.com/ressources/la-responsabilite-des-medias\n",
      "97 https://www.millenaire3.com/ressources/la-flexibilite-du-travail-pourquoi\n",
      "98 https://www.millenaire3.com/ressources/culture-et-quartiers-entre-proximite-et-mobilite\n",
      "99 https://www.millenaire3.com/ressources/quand-design-et-participation-citoyenne-se-rencontrent\n",
      "100 https://www.millenaire3.com/ressources/fin-de-millenaire-l-ere-de-l-information.-conclusion-generale-de-la-trilogie\n",
      "101 https://www.millenaire3.com/ressources/accessibilite-le-transport-aerien-de-passagers-a-lyon-et-dans-d-autres-metropoles-europeennes\n",
      "102 https://www.millenaire3.com/ressources/pratiques-urbaines-le-temps-cash\n",
      "103 https://www.millenaire3.com/ressources/vers-une-nouvelle-societe-la-societe-en-reseaux\n",
      "104 https://www.millenaire3.com/ressources/les-valeurs-parlons-en\n",
      "105 https://www.millenaire3.com/ressources/hommes-et-animaux-comment-vivre-en-harmonie-l-experience-des-villes-belges\n",
      "106 https://www.millenaire3.com/ressources/lyon-et-la-question-des-arts\n",
      "107 https://www.millenaire3.com/ressources/le-college-unique-realisations-difficultes-propositions\n",
      "108 https://www.millenaire3.com/ressources/sante-et-solidarite-une-conjonction-preventive\n",
      "109 https://www.millenaire3.com/ressources/le-developpement-durable-un-espace-d-action-majeur-pour-les-associations\n",
      "110 https://www.millenaire3.com/ressources/trois-espaces-pour-un-autre-temps-urbain\n",
      "111 https://www.millenaire3.com/ressources/l-antidiscrimination-une-volonte-de-l-union-europeenne\n",
      "112 https://www.millenaire3.com/ressources/labellisation-et-creation-des-standards\n",
      "113 https://www.millenaire3.com/ressources/quel-avenir-pour-les-services-publics\n",
      "114 https://www.millenaire3.com/ressources/mesurer-pour-connaitre-connaitre-pour-agir\n",
      "115 https://www.millenaire3.com/ressources/corps-intermediaires-ou-citoyens-ordinaires-pour-une-democratie-participative-inclusive\n",
      "116 https://www.millenaire3.com/ressources/exploration-internationale-des-tendances-de-l-architecture-et-de-l-espace-public\n",
      "117 https://www.millenaire3.com/ressources/mobilite-et-formes-de-la-ville-de-la-ville-du-fleuve-a-la-ville-de-l-automobile\n",
      "118 https://www.millenaire3.com/ressources/les-relations-entre-l-ecole-et-les-familles-populaires-etat-des-lieux-analyses-et-pistes-d-action\n",
      "119 https://www.millenaire3.com/ressources/La-souffrance-psychique-des-adolescents-et-des-jeunes-adultes\n",
      "120 https://www.millenaire3.com/ressources/pratiques-et-politiques-d-integration-a-la-haye-pays-bas\n",
      "121 https://www.millenaire3.com/ressources/les-rapports-entre-droit-et-medecine-a-la-recherche-de-l-equilibre\n",
      "122 https://www.millenaire3.com/ressources/lyon-2020-synthese-du-groupe-de-travail-mode-design-creation\n"
     ]
    }
   ],
   "source": [
    "\n",
    "errors = []\n",
    "for i, item in enumerate(df.RESUME):\n",
    "    if type(item) != str:\n",
    "        errors.append(df.URL[i])\n",
    "\n",
    "print(len(errors))\n",
    "for i, item in enumerate(errors): \n",
    "    print(i, item)"
   ]
  },
  {
   "cell_type": "code",
   "execution_count": 93,
   "metadata": {},
   "outputs": [],
   "source": [
    "concat = []\n",
    "for i, item in enumerate(df.RESUME):\n",
    "    if type(item) == str:\n",
    "        concat.append(item.replace(\"\\n\", \" \"))\n",
    "txt = \"\".join(concat)"
   ]
  },
  {
   "cell_type": "code",
   "execution_count": 97,
   "metadata": {},
   "outputs": [
    {
     "ename": "OSError",
     "evalue": "[E050] Can't find model 'Fr-fr'. It doesn't seem to be a Python package or a valid path to a data directory.",
     "output_type": "error",
     "traceback": [
      "\u001b[0;31m---------------------------------------------------------------------------\u001b[0m",
      "\u001b[0;31mOSError\u001b[0m                                   Traceback (most recent call last)",
      "\u001b[0;32m/var/folders/96/70zwd2vj3hvcyjlcgv7y0vth0000gn/T/ipykernel_7029/3132259424.py\u001b[0m in \u001b[0;36m<module>\u001b[0;34m\u001b[0m\n\u001b[1;32m      1\u001b[0m \u001b[0;32mimport\u001b[0m \u001b[0mspacy\u001b[0m\u001b[0;34m\u001b[0m\u001b[0;34m\u001b[0m\u001b[0m\n\u001b[0;32m----> 2\u001b[0;31m \u001b[0mnlp\u001b[0m \u001b[0;34m=\u001b[0m \u001b[0mspacy\u001b[0m\u001b[0;34m.\u001b[0m\u001b[0mload\u001b[0m\u001b[0;34m(\u001b[0m\u001b[0;34m\"Fr-fr\"\u001b[0m\u001b[0;34m)\u001b[0m\u001b[0;34m\u001b[0m\u001b[0;34m\u001b[0m\u001b[0m\n\u001b[0m",
      "\u001b[0;32m/opt/anaconda3/lib/python3.8/site-packages/spacy/__init__.py\u001b[0m in \u001b[0;36mload\u001b[0;34m(name, vocab, disable, exclude, config)\u001b[0m\n\u001b[1;32m     49\u001b[0m     \u001b[0mRETURNS\u001b[0m \u001b[0;34m(\u001b[0m\u001b[0mLanguage\u001b[0m\u001b[0;34m)\u001b[0m\u001b[0;34m:\u001b[0m \u001b[0mThe\u001b[0m \u001b[0mloaded\u001b[0m \u001b[0mnlp\u001b[0m \u001b[0mobject\u001b[0m\u001b[0;34m.\u001b[0m\u001b[0;34m\u001b[0m\u001b[0;34m\u001b[0m\u001b[0m\n\u001b[1;32m     50\u001b[0m     \"\"\"\n\u001b[0;32m---> 51\u001b[0;31m     return util.load_model(\n\u001b[0m\u001b[1;32m     52\u001b[0m         \u001b[0mname\u001b[0m\u001b[0;34m,\u001b[0m \u001b[0mvocab\u001b[0m\u001b[0;34m=\u001b[0m\u001b[0mvocab\u001b[0m\u001b[0;34m,\u001b[0m \u001b[0mdisable\u001b[0m\u001b[0;34m=\u001b[0m\u001b[0mdisable\u001b[0m\u001b[0;34m,\u001b[0m \u001b[0mexclude\u001b[0m\u001b[0;34m=\u001b[0m\u001b[0mexclude\u001b[0m\u001b[0;34m,\u001b[0m \u001b[0mconfig\u001b[0m\u001b[0;34m=\u001b[0m\u001b[0mconfig\u001b[0m\u001b[0;34m\u001b[0m\u001b[0;34m\u001b[0m\u001b[0m\n\u001b[1;32m     53\u001b[0m     )\n",
      "\u001b[0;32m/opt/anaconda3/lib/python3.8/site-packages/spacy/util.py\u001b[0m in \u001b[0;36mload_model\u001b[0;34m(name, vocab, disable, exclude, config)\u001b[0m\n\u001b[1;32m    352\u001b[0m     \u001b[0;32mif\u001b[0m \u001b[0mname\u001b[0m \u001b[0;32min\u001b[0m \u001b[0mOLD_MODEL_SHORTCUTS\u001b[0m\u001b[0;34m:\u001b[0m\u001b[0;34m\u001b[0m\u001b[0;34m\u001b[0m\u001b[0m\n\u001b[1;32m    353\u001b[0m         \u001b[0;32mraise\u001b[0m \u001b[0mIOError\u001b[0m\u001b[0;34m(\u001b[0m\u001b[0mErrors\u001b[0m\u001b[0;34m.\u001b[0m\u001b[0mE941\u001b[0m\u001b[0;34m.\u001b[0m\u001b[0mformat\u001b[0m\u001b[0;34m(\u001b[0m\u001b[0mname\u001b[0m\u001b[0;34m=\u001b[0m\u001b[0mname\u001b[0m\u001b[0;34m,\u001b[0m \u001b[0mfull\u001b[0m\u001b[0;34m=\u001b[0m\u001b[0mOLD_MODEL_SHORTCUTS\u001b[0m\u001b[0;34m[\u001b[0m\u001b[0mname\u001b[0m\u001b[0;34m]\u001b[0m\u001b[0;34m)\u001b[0m\u001b[0;34m)\u001b[0m\u001b[0;34m\u001b[0m\u001b[0;34m\u001b[0m\u001b[0m\n\u001b[0;32m--> 354\u001b[0;31m     \u001b[0;32mraise\u001b[0m \u001b[0mIOError\u001b[0m\u001b[0;34m(\u001b[0m\u001b[0mErrors\u001b[0m\u001b[0;34m.\u001b[0m\u001b[0mE050\u001b[0m\u001b[0;34m.\u001b[0m\u001b[0mformat\u001b[0m\u001b[0;34m(\u001b[0m\u001b[0mname\u001b[0m\u001b[0;34m=\u001b[0m\u001b[0mname\u001b[0m\u001b[0;34m)\u001b[0m\u001b[0;34m)\u001b[0m\u001b[0;34m\u001b[0m\u001b[0;34m\u001b[0m\u001b[0m\n\u001b[0m\u001b[1;32m    355\u001b[0m \u001b[0;34m\u001b[0m\u001b[0m\n\u001b[1;32m    356\u001b[0m \u001b[0;34m\u001b[0m\u001b[0m\n",
      "\u001b[0;31mOSError\u001b[0m: [E050] Can't find model 'Fr-fr'. It doesn't seem to be a Python package or a valid path to a data directory."
     ]
    }
   ],
   "source": [
    "import spacy\n",
    "nlp = spacy.load()"
   ]
  },
  {
   "cell_type": "code",
   "execution_count": null,
   "metadata": {},
   "outputs": [],
   "source": []
  }
 ],
 "metadata": {
  "kernelspec": {
   "display_name": "base",
   "language": "python",
   "name": "python3"
  },
  "language_info": {
   "codemirror_mode": {
    "name": "ipython",
    "version": 3
   },
   "file_extension": ".py",
   "mimetype": "text/x-python",
   "name": "python",
   "nbconvert_exporter": "python",
   "pygments_lexer": "ipython3",
   "version": "3.8.8"
  },
  "orig_nbformat": 4
 },
 "nbformat": 4,
 "nbformat_minor": 2
}
