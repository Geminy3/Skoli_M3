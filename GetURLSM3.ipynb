{
 "cells": [
  {
   "cell_type": "code",
   "execution_count": 3,
   "metadata": {},
   "outputs": [],
   "source": [
    "import requests\n",
    "from urllib.parse import urljoin\n",
    "from bs4 import BeautifulSoup\n",
    "import re\n",
    "from multiprocessing import Pool, Process\n",
    "import os\n"
   ]
  },
  {
   "cell_type": "code",
   "execution_count": 47,
   "metadata": {},
   "outputs": [],
   "source": [
    "def getAllUrl(url, url_base, urls, errors):\n",
    "    \n",
    "    page = requests.get(url)\n",
    "\n",
    "    if page.status_code == 200:\n",
    "        page = requests.get(url)\n",
    "        soup = BeautifulSoup(page.content, \"html.parser\")\n",
    "        for anchor in soup.find_all(\"a\"):\n",
    "            if \"href\" in anchor.attrs:\n",
    "                if anchor[\"href\"] == \"JavaScript:void(0);\" and anchor[\"class\"] == \"lien-page\":\n",
    "                    absolute_url == url+\"?pR=\"+anchor[\"page\"]\n",
    "                # Manque \"?pI=\" pour les interviews\n",
    "                absolute_url = urljoin(url_base, anchor[\"href\"])\n",
    "                if \"download\" not in absolute_url and absolute_url not in urls:\n",
    "                    if re.search(url_base, absolute_url):\n",
    "                        urls.append(absolute_url)\n",
    "\n",
    "        # Export des pages html ?\n",
    "\n",
    "    else:\n",
    "        print(\" \", page.status_code)\n",
    "        errors.append(url)\n",
    "\n"
   ]
  },
  {
   "cell_type": "code",
   "execution_count": 24,
   "metadata": {},
   "outputs": [],
   "source": [
    "def read_urls(EXPORT_FILE):\n",
    "    with open(EXPORT_FILE, \"r\") as f:\n",
    "        urls = f.read().split(\"\\n\") \n",
    "    print(len(urls))\n",
    "    return(urls)"
   ]
  },
  {
   "cell_type": "code",
   "execution_count": 31,
   "metadata": {},
   "outputs": [],
   "source": [
    "def get_all_page(urls):\n",
    "\n",
    "    pattern = \"https://www.millenaire3.com/m3_search?page=1&sort_by=0&SearchText=&modeRecherche=1&titre=&auteurId=&auteurText=&100%25=&100%25_new_value=true&date_debut=&date_debut_mobile=&date_fin=&date_fin_mobile=&identifiers=cactualite_a_la_une%2CrArticle%2Ccdossier%2Cr%C3%89tude%2Ccinterview%2Ccressource_generique%2CrTexte+d%27auteur&rubriques=\"\n",
    "    html = requests.get(pattern)\n",
    "    soup = BeautifulSoup(html.content, \"html.parser\")\n",
    "    last_page = soup.find(\"a\", {\"title\" : \"Dernière page\"})[\"page\"]\n",
    "    print(last_page)\n",
    "    for i in range(1, int(last_page)+1):\n",
    "        urls.append(pattern.replace(\"m3_search?page=1\", f\"m3_search?page={i}\"))\n",
    "    return(urls)"
   ]
  },
  {
   "cell_type": "code",
   "execution_count": 48,
   "metadata": {},
   "outputs": [
    {
     "name": "stdout",
     "output_type": "stream",
     "text": [
      "168\n",
      "40 / 591 : https://www.millenaire3.com/m3_search?page=40&sort_by=0&SearchText=&modeRecherche=1&titre=&auteurId=&auteurText=&100%25=&100%25_new_value=true&date_debut=&date_debut_mobile=&date_fin=&date_fin_mobile=&identifiers=cactualite_a_la_une%2CrArticle%2Ccdossier%2Cr%C3%89tude%2Ccinterview%2Ccressource_generique%2CrTexte+d%27auteur&rubriques="
     ]
    }
   ],
   "source": [
    "\n",
    "EXPORT_FILE = \"M3urls3.txt\"\n",
    "\n",
    "if __name__ == \"__main__\":\n",
    "    \n",
    "    url_base = 'https://www.millenaire3.com'\n",
    "    errors = []\n",
    "    urls = get_all_page(urls = [])\n",
    "    # if EXPORT_FILE in os.listdir():\n",
    "    #     urls = read_urls(EXPORT_FILE)\n",
    "    # else:\n",
    "    #     urls = [url_base]\n",
    "\n",
    "    # url_base = \"https://www.millenaire3.com/dossiers/cycle-veille-m3-energie-quels-nouveaux-modes-de-vie-dans-un-monde-plus-sobre/veille-m3-l-ordre-electrique-l-architecture-des-infrastructures-energetiques-matrice-de-nos-imaginaires-sociaux\"   \n",
    "    i = 0 # On peut changer la valeur de départ\n",
    "    while i <= len(urls)-1:\n",
    "        getAllUrl(urls[i], url_base, urls, errors)\n",
    "        i += 1\n",
    "        print(f\"\\r{i} / {len(urls)} : {urls[i-1]}\", end = \"\")\n",
    "\n",
    "with open(EXPORT_FILE, \"w\", encoding=\"utf-8\") as f:\n",
    "    for url in urls:\n",
    "        f.write(url+\"\\n\")"
   ]
  },
  {
   "cell_type": "code",
   "execution_count": 34,
   "metadata": {},
   "outputs": [
    {
     "name": "stdout",
     "output_type": "stream",
     "text": [
      "12367\n"
     ]
    }
   ],
   "source": [
    "urls = read_urls(EXPORT_FILE)"
   ]
  }
 ],
 "metadata": {
  "kernelspec": {
   "display_name": "base",
   "language": "python",
   "name": "python3"
  },
  "language_info": {
   "codemirror_mode": {
    "name": "ipython",
    "version": 3
   },
   "file_extension": ".py",
   "mimetype": "text/x-python",
   "name": "python",
   "nbconvert_exporter": "python",
   "pygments_lexer": "ipython3",
   "version": "3.9.13"
  },
  "orig_nbformat": 4
 },
 "nbformat": 4,
 "nbformat_minor": 2
}
