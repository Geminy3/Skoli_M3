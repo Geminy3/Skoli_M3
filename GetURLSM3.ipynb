{
 "cells": [
  {
   "cell_type": "code",
   "execution_count": 2,
   "metadata": {},
   "outputs": [],
   "source": [
    "import requests\n",
    "from urllib.parse import urljoin\n",
    "import urllib\n",
    "from bs4 import BeautifulSoup"
   ]
  },
  {
   "cell_type": "code",
   "execution_count": 3,
   "metadata": {},
   "outputs": [],
   "source": [
    "def getAllUrl(url):\n",
    "    urlList = []\n",
    "    print(url)\n",
    "    try:\n",
    "        page = requests.get(url).text\n",
    "        soup = BeautifulSoup(page)\n",
    "    except:\n",
    "        print(\"Nope\")\n",
    "        return []\n",
    "    try:\n",
    "        for anchor in soup.find_all(\"a\"):\n",
    "            if \"href\" in anchor.attrs:\n",
    "                if \"download\" not in anchor[\"href\"]:\n",
    "                    if \"https://\" not in anchor[\"href\"] and anchor[\"href\"][0] == '/':\n",
    "                        urlList.append(\"https://www.millenaire3.com\"+anchor[\"href\"])\n",
    "                    elif \"https://www.millenaire3.com\" in anchor[\"href\"]:\n",
    "                        urlList.append(anchor[\"href\"])\n",
    "\n",
    "        return(urlList)\n",
    "    except:\n",
    "        print(\"http error\")\n",
    "        return(None)"
   ]
  },
  {
   "cell_type": "code",
   "execution_count": 1,
   "metadata": {},
   "outputs": [
    {
     "ename": "NameError",
     "evalue": "name 'getAllUrl' is not defined",
     "output_type": "error",
     "traceback": [
      "\u001b[1;31m---------------------------------------------------------------------------\u001b[0m",
      "\u001b[1;31mNameError\u001b[0m                                 Traceback (most recent call last)",
      "\u001b[1;32m~\\AppData\\Local\\Temp\\ipykernel_24428\\3189058299.py\u001b[0m in \u001b[0;36m<module>\u001b[1;34m\u001b[0m\n\u001b[0;32m      1\u001b[0m \u001b[1;32mif\u001b[0m \u001b[0m__name__\u001b[0m \u001b[1;33m==\u001b[0m \u001b[1;34m\"__main__\"\u001b[0m\u001b[1;33m:\u001b[0m\u001b[1;33m\u001b[0m\u001b[1;33m\u001b[0m\u001b[0m\n\u001b[1;32m----> 2\u001b[1;33m     \u001b[0murls\u001b[0m \u001b[1;33m=\u001b[0m \u001b[0mgetAllUrl\u001b[0m\u001b[1;33m(\u001b[0m\u001b[1;34m'https://www.millenaire3.com'\u001b[0m\u001b[1;33m)\u001b[0m\u001b[1;33m\u001b[0m\u001b[1;33m\u001b[0m\u001b[0m\n\u001b[0m\u001b[0;32m      3\u001b[0m     \u001b[0mi\u001b[0m \u001b[1;33m=\u001b[0m \u001b[1;36m0\u001b[0m\u001b[1;33m\u001b[0m\u001b[1;33m\u001b[0m\u001b[0m\n\u001b[0;32m      4\u001b[0m     \u001b[1;32mwhile\u001b[0m \u001b[0mi\u001b[0m \u001b[1;33m<\u001b[0m \u001b[0mlen\u001b[0m\u001b[1;33m(\u001b[0m\u001b[0murls\u001b[0m\u001b[1;33m)\u001b[0m\u001b[1;33m:\u001b[0m\u001b[1;33m\u001b[0m\u001b[1;33m\u001b[0m\u001b[0m\n\u001b[0;32m      5\u001b[0m         \u001b[0murlList\u001b[0m \u001b[1;33m=\u001b[0m \u001b[0mgetAllUrl\u001b[0m\u001b[1;33m(\u001b[0m\u001b[0murls\u001b[0m\u001b[1;33m[\u001b[0m\u001b[0mi\u001b[0m\u001b[1;33m]\u001b[0m\u001b[1;33m)\u001b[0m\u001b[1;33m\u001b[0m\u001b[1;33m\u001b[0m\u001b[0m\n",
      "\u001b[1;31mNameError\u001b[0m: name 'getAllUrl' is not defined"
     ]
    }
   ],
   "source": [
    "\n",
    "if __name__ == \"__main__\":\n",
    "    urls = getAllUrl('https://www.millenaire3.com')\n",
    "    i = 0\n",
    "    while i < len(urls):\n",
    "        urlList = getAllUrl(urls[i])\n",
    "        if urlList != None:\n",
    "            urls = urls + urlList\n",
    "            urls = list(set(urls))\n",
    "        i += 1\n",
    "        print(i, len(urls))\n",
    "\n",
    "with open(\"M3urls.txt\", \"w\", encoding=\"utf-8\") as f:\n",
    "    for url in urls:\n",
    "        f.writelines(url)"
   ]
  }
 ],
 "metadata": {
  "kernelspec": {
   "display_name": "base",
   "language": "python",
   "name": "python3"
  },
  "language_info": {
   "codemirror_mode": {
    "name": "ipython",
    "version": 3
   },
   "file_extension": ".py",
   "mimetype": "text/x-python",
   "name": "python",
   "nbconvert_exporter": "python",
   "pygments_lexer": "ipython3",
   "version": "3.9.13"
  },
  "orig_nbformat": 4
 },
 "nbformat": 4,
 "nbformat_minor": 2
}
