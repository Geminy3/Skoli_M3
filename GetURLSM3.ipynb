{
 "cells": [
  {
   "cell_type": "code",
   "execution_count": 2,
   "metadata": {},
   "outputs": [],
   "source": [
    "import requests\n",
    "from urllib.parse import urljoin\n",
    "from bs4 import BeautifulSoup\n",
    "import re\n",
    "from multiprocessing import Pool, Process\n",
    "import os\n"
   ]
  },
  {
   "cell_type": "code",
   "execution_count": 2,
   "metadata": {},
   "outputs": [],
   "source": [
    "def getAllUrl(url, url_base, urls, errors):\n",
    "    \n",
    "    page = requests.get(url)\n",
    "\n",
    "    if page.status_code == 200:\n",
    "        page = requests.get(url)\n",
    "        soup = BeautifulSoup(page.content, \"html.parser\")\n",
    "        for anchor in soup.find_all(\"a\"):\n",
    "            if \"href\" in anchor.attrs:\n",
    "                if anchor[\"href\"] == \"JavaScript:void(0);\" and anchor[\"class\"] == \"lien-page\":\n",
    "                    absolute_url == url+\"?pR=\"+anchor[\"page\"]\n",
    "                # Manque \"?pI=\" pour les interviews\n",
    "                absolute_url = urljoin(url_base, anchor[\"href\"])\n",
    "                if \"download\" not in absolute_url and absolute_url not in urls:\n",
    "                    if re.search(url_base, absolute_url):\n",
    "                        urls.append(absolute_url)\n",
    "\n",
    "        # Export des pages html ?\n",
    "\n",
    "    else:\n",
    "        print(\" \", page.status_code)\n",
    "        errors.append(url)\n",
    "\n"
   ]
  },
  {
   "cell_type": "code",
   "execution_count": 3,
   "metadata": {},
   "outputs": [],
   "source": [
    "def read_urls(EXPORT_FILE):\n",
    "    with open(EXPORT_FILE, \"r\") as f:\n",
    "        urls = f.read().split(\"\\n\") \n",
    "    print(len(urls))\n",
    "    return(urls)"
   ]
  },
  {
   "cell_type": "code",
   "execution_count": 127,
   "metadata": {},
   "outputs": [],
   "source": [
    "def get_all_page(urls, pattern):\n",
    "\n",
    "    html = requests.get(pattern)\n",
    "    soup = BeautifulSoup(html.content, \"html.parser\")\n",
    "    last_page = soup.find(\"a\", {\"title\" : \"Dernière page\"})[\"page\"]\n",
    "\n",
    "    iter = soup.find_all(\"div\", {\"class\" : re.compile(\"m3-pagination print_hidden|print_hidden pagination\")})\n",
    "    for item in iter:\n",
    "        lst = re.findall(\"url.*?;\", item.find_next_sibling().text)\n",
    "        nw_url = \"\"\n",
    "        if len(lst) > 0:\n",
    "            for item in lst:\n",
    "                if re.search(\"querystring\", item):\n",
    "                    continue\n",
    "                else:\n",
    "                    item = re.sub(\"url =|url \\+=|url\", \"\", item)\n",
    "                    item = item.replace(\";\", \"\").replace(\"\\\"\", \"\").strip()\n",
    "                    item = item.split(\" + \")\n",
    "                for part in item:\n",
    "                    nw_url += part\n",
    "            match = re.compile(\"\\$\\(this\\)\\.attr\\(page\\)\")\n",
    "            for i in range(1, int(last_page)+1):\n",
    "                urls.append(re.sub(match,str(i), nw_url))\n",
    "        \n",
    "        else:\n",
    "            for i in range(1, int(last_page)+1):\n",
    "                urls.append(re.sub(\"page=.\", f\"page={i}\", pattern))\n",
    "    \n",
    "    return(urls)"
   ]
  },
  {
   "cell_type": "code",
   "execution_count": 6,
   "metadata": {},
   "outputs": [
    {
     "name": "stdout",
     "output_type": "stream",
     "text": [
      "363\n",
      "2507 / 10277 : https://www.millenaire3.com/ressources/conception-eco-culturelle-d-un-centre-de-rechercheuesetudeepreuve-des-exigences-renouvelees-des-usagers-en-francenpied-et-les-deux-roues-soient-plus-efficaces1%2F12%2F2025&date_fin_mobile=&identifiers=&rubriques=  404\n",
      "4016 / 13523 : https://www.millenaire3.com/toutes-les-videosgeneric-vie-j-habitentreelisme-de-l-economie-au-caeur-des-enjeux-deja-la-generation-zes-precairesyonnaiseuees-de-brevets-et-d-innovationsaeslyon-et-turin"
     ]
    }
   ],
   "source": [
    "\n",
    "EXPORT_FILE = \"M3urls3.txt\"\n",
    "\n",
    "if __name__ == \"__main__\":\n",
    "    \n",
    "    url_base = 'https://www.millenaire3.com'\n",
    "    errors = []\n",
    "    urls = get_all_page(urls = [], pattern=\"https://www.millenaire3.com/m3_search?page=1&sort_by=0&SearchText=&modeRecherche=1&titre=&auteurId=&auteurText=&100%25=&100%25_new_value=true&date_debut=01%2F01%2F1900&date_debut_mobile=&date_fin=31%2F12%2F2025&date_fin_mobile=&identifiers=&rubriques=\")\n",
    "    # if EXPORT_FILE in os.listdir():\n",
    "    #     urls = read_urls(EXPORT_FILE)\n",
    "    # else:\n",
    "    #     urls = [url_base]\n",
    "\n",
    "    i = 0# On peut changer la valeur de départ\n",
    "    while i <= len(urls)-1:\n",
    "        if re.search(\"/partage_email/|/generated_pdf/\", urls[i]):\n",
    "            errors.append(urls[i])\n",
    "            print(f\"\\r{i} / {len(urls)}\")\n",
    "        else:\n",
    "            getAllUrl(urls[i], url_base, urls, errors)\n",
    "            i += 1\n",
    "            print(f\"\\r{i} / {len(urls)} : {urls[i-1]}\", end = \"\")\n",
    "\n",
    "with open(EXPORT_FILE, \"w\", encoding=\"utf-8\") as f:\n",
    "    for url in urls:\n",
    "        f.write(url+\"\\n\")"
   ]
  },
  {
   "cell_type": "code",
   "execution_count": null,
   "metadata": {},
   "outputs": [],
   "source": [
    "print(errors[0])"
   ]
  },
  {
   "cell_type": "code",
   "execution_count": 34,
   "metadata": {},
   "outputs": [
    {
     "name": "stdout",
     "output_type": "stream",
     "text": [
      "12367\n"
     ]
    }
   ],
   "source": [
    "urls = read_urls(EXPORT_FILE)"
   ]
  },
  {
   "cell_type": "code",
   "execution_count": 175,
   "metadata": {},
   "outputs": [
    {
     "name": "stdout",
     "output_type": "stream",
     "text": [
      "/tag/cohesion-sociale?pr=1\n",
      "/tag/cohesion-sociale?pr=2\n",
      "/tag/cohesion-sociale?pr=3\n",
      "/tag/cohesion-sociale?pr=4\n",
      "/tag/cohesion-sociale?pr=5\n",
      "/tag/cohesion-sociale?pr=6\n",
      "/tag/cohesion-sociale?pr=7\n",
      "/tag/cohesion-sociale?pr=8\n"
     ]
    }
   ],
   "source": [
    "# pattern = \"https://www.millenaire3.com/tous-les-auteurs?p=1&l=B&&l=B&&l=B&l=B\"\n",
    "# html = requests.get(pattern)\n",
    "# soup = BeautifulSoup(html.content, \"html.parser\")\n",
    "# last_page = soup.find(\"a\", {\"title\" : \"Dernière page\"})[\"page\"]\n",
    "# last_page\n",
    "\n",
    "# item = soup.find(\"div\", {\"class\" : \"m3-pagination print_hidden\"})\n",
    "# print(item.find_next_sibling().text)\n",
    "# lst = re.findall(\"url.*?;\", item.find_next_sibling().text)\n",
    "# if lst != None:\n",
    "#     for item in lst:\n",
    "#         if \"$(this).attr\" in item : \n",
    "#             print(item.split(\" \")[2])\n",
    "\n",
    "url = \"https://www.millenaire3.com/tous-les-auteurs?p=1&l=B&&l=B&&l=B&l=B\"\n",
    "url2 = \"https://www.millenaire3.com/auteurs/piessat-lucas\"\n",
    "url3 = \"https://www.millenaire3.com/tag/cohesion-sociale\"\n",
    "url4 = \"https://www.millenaire3.com/auteurs/vievard-ludovic\"\n",
    "\n",
    "pattern = url3\n",
    "\n",
    "html = requests.get(pattern)\n",
    "soup = BeautifulSoup(html.content, \"html.parser\")\n",
    "last_page = soup.find(\"a\", {\"title\" : \"Dernière page\"})[\"page\"]\n",
    "\n",
    "iter = soup.find_all(\"div\", {\"class\" : re.compile(\"m3-pagination print_hidden|print_hidden pagination\")})\n",
    "for item in iter:\n",
    "    lst = re.findall(\"url.*?;\", item.find_next_sibling().text)\n",
    "    nw_url = \"\"\n",
    "    if len(lst) > 0:\n",
    "        for item in lst:\n",
    "            if re.search(\"querystring\", item):\n",
    "                continue\n",
    "            else:\n",
    "                item = re.sub(\"url =|url \\+=|url\", \"\", item)\n",
    "                item = item.replace(\";\", \"\").replace(\"\\\"\", \"\").strip()\n",
    "                item = item.split(\" + \")\n",
    "            for part in item:\n",
    "                nw_url += part\n",
    "        match = re.compile(\"\\$\\(this\\)\\.attr\\(page\\)\")\n",
    "        for i in range(1, int(last_page)+1):\n",
    "            print(re.sub(match,str(i), nw_url))"
   ]
  },
  {
   "cell_type": "code",
   "execution_count": 84,
   "metadata": {},
   "outputs": [
    {
     "data": {
      "text/plain": [
       "'?'"
      ]
     },
     "execution_count": 84,
     "metadata": {},
     "output_type": "execute_result"
    }
   ],
   "source": [
    "\"https://www.millenaire3.com/tous-les-auteurs?p=1&l=B&&l=B&&l=B&l=B\"[re.search(\"\\?\", \"https://www.millenaire3.com/tous-les-auteurs?p=1&l=B&&l=B&&l=B&l=B\").span()[0]]"
   ]
  }
 ],
 "metadata": {
  "kernelspec": {
   "display_name": "base",
   "language": "python",
   "name": "python3"
  },
  "language_info": {
   "codemirror_mode": {
    "name": "ipython",
    "version": 3
   },
   "file_extension": ".py",
   "mimetype": "text/x-python",
   "name": "python",
   "nbconvert_exporter": "python",
   "pygments_lexer": "ipython3",
   "version": "3.9.13"
  },
  "orig_nbformat": 4
 },
 "nbformat": 4,
 "nbformat_minor": 2
}
