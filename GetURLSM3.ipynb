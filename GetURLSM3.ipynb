{
 "cells": [
  {
   "cell_type": "code",
   "execution_count": 8,
   "metadata": {},
   "outputs": [],
   "source": [
    "import requests\n",
    "from urllib.parse import urljoin\n",
    "from bs4 import BeautifulSoup\n",
    "import re\n",
    "#from multiprocessing import Pool, Process\n",
    "import os\n"
   ]
  },
  {
   "cell_type": "code",
   "execution_count": 20,
   "metadata": {},
   "outputs": [],
   "source": [
    "def get_all_page(urls, pattern, url_base):\n",
    "\n",
    "    if pattern in urls:\n",
    "        return(urls)\n",
    "    \n",
    "    html = requests.get(pattern)\n",
    "    soup = BeautifulSoup(html.content, \"html.parser\")\n",
    "    last_page = soup.find(\"a\", {\"title\" : \"Dernière page\"})[\"page\"]\n",
    "\n",
    "    iter = soup.find_all(\"div\", {\"class\" : re.compile(\"m3-pagination print_hidden|print_hidden pagination\")})\n",
    "    for item in iter:\n",
    "        lst = re.findall(\"url.*?;\", item.find_next_sibling().text)\n",
    "        nw_url = \"\"\n",
    "        if len(lst) > 0:\n",
    "            for item in lst:\n",
    "                if re.search(\"querystring\", item):\n",
    "                    continue\n",
    "                else:\n",
    "                    item = re.sub(\"url =|url \\+=|url\", \"\", item)\n",
    "                    item = item.replace(\";\", \"\").replace(\"\\\"\", \"\").strip()\n",
    "                    item = item.split(\" + \")\n",
    "                for part in item:\n",
    "                    nw_url += part\n",
    "            match = re.compile(\"\\$\\(this\\)\\.attr\\(page\\)\")\n",
    "            for i in range(1, int(last_page)+1):\n",
    "                url = urljoin(url_base, re.sub(match,str(i), nw_url))\n",
    "                if url not in urls:\n",
    "                    urls.append(url)\n",
    "                    \n",
    "        else:\n",
    "            for i in range(1, int(last_page)+1):\n",
    "                urls.append(urljoin(url_base, re.sub(\"page=.\", f\"page={i}\", pattern)))\n",
    "    \n",
    "    return(urls)"
   ]
  },
  {
   "cell_type": "code",
   "execution_count": 57,
   "metadata": {},
   "outputs": [],
   "source": [
    "def getAllUrl(url, url_base, urls, EXPORT_FILE, page):\n",
    "\n",
    "    soup = BeautifulSoup(page.content, \"html.parser\")\n",
    "    for anchor in soup.find_all(\"a\"):\n",
    "        if \"href\" in anchor.attrs:\n",
    "            if anchor[\"href\"] == \"JavaScript:void(0);\" and anchor[\"class\"] == \"lien-page\":\n",
    "                try:\n",
    "                    urls.extend(get_all_page(urls), url, url_base)\n",
    "                except:\n",
    "                    continue\n",
    "            absolute_url = urljoin(url_base, anchor[\"href\"])\n",
    "            if \"download\" not in absolute_url and absolute_url not in urls and anchor[\"href\"] != \"JavaScript:void(0);\":\n",
    "                if re.search(url_base, absolute_url):\n",
    "                    counter += 1\n",
    "                    urls.append(absolute_url)\n",
    "    # Export des pages html ?\n",
    "                    with open(EXPORT_FILE, \"a\", encoding=\"utf-8\") as f:\n",
    "                        f.write(absolute_url + '\\n')\n",
    "\n",
    "    return(urls)"
   ]
  },
  {
   "cell_type": "code",
   "execution_count": 34,
   "metadata": {},
   "outputs": [],
   "source": [
    "def read_urls(EXPORT_FILE):\n",
    "    with open(EXPORT_FILE, \"r\") as f:\n",
    "        urls = f.read().split(\"\\n\") \n",
    "    print(len(urls))\n",
    "    return(urls)"
   ]
  },
  {
   "cell_type": "code",
   "execution_count": 58,
   "metadata": {},
   "outputs": [
    {
     "name": "stdout",
     "output_type": "stream",
     "text": [
      "1076 / 7303, 1076 : https://www.millenaire3.com/auteurs/buthion-valerieflex-cabinetmdeices-publics-locaux-du-grand-lyon-ccsplites-satellitese-du-collectifnellestnsnte_debut=01%2F01%2F1900&date_debut_mobile=&date_fin=31%2F12%2F2025&date_fin_mobile=&identifiers=&rubriques="
     ]
    }
   ],
   "source": [
    "\n",
    "EXPORT_FILE = \"M3urls3.txt\"\n",
    "HTML_FOLDER = \"urls/\"\n",
    "DATA_FOLDER = \"data/\"\n",
    "\n",
    "if __name__ == \"__main__\":\n",
    "    \n",
    "    url_base = 'https://www.millenaire3.com'\n",
    "    errors = []\n",
    "\n",
    "    if EXPORT_FILE in os.listdir(DATA_FOLDER):\n",
    "        urls = read_urls(DATA_FOLDER+EXPORT_FILE)\n",
    "    else:\n",
    "        with open(DATA_FOLDER+EXPORT_FILE, \"w\", encoding=\"utf-8\") as f:\n",
    "            for url in urls:\n",
    "                f.write(\"\")\n",
    "        urls = get_all_page(urls = [], \n",
    "                    pattern=\"https://www.millenaire3.com/m3_search?page=1&sort_by=0&SearchText=&modeRecherche=1&titre=&auteurId=&auteurText=&100%25=&100%25_new_value=true&date_debut=01%2F01%2F1900&date_debut_mobile=&date_fin=31%2F12%2F2025&date_fin_mobile=&identifiers=&rubriques=\",\n",
    "                    url_base = url_base)\n",
    "        \n",
    "    files = os.listdir(HTML_FOLDER)\n",
    "\n",
    "    i = 0 # On peut changer la valeur de départ\n",
    "    while i <= len(urls)-1:\n",
    "        if f\"{str(i)}.html\" in files:\n",
    "            continue\n",
    "        elif re.search(\"/partage_email/|/generated_pdf/\", urls[i]):\n",
    "            errors.append(urls[i])\n",
    "            print(f\"\\r{i} / {len(urls)}, errors\", end = \"\")\n",
    "            continue\n",
    "        else:\n",
    "            print(f\"\\r{i} / {len(urls)}: {urls[i-1]}\", end = \"\")\n",
    "\n",
    "            page = requests.get(url)\n",
    "            if page.status_code == 200:\n",
    "                getAllUrl(urls[i], url_base, urls, EXPORT_FILE, page)\n",
    "                with open(f\"{HTML_FOLDER}{str(i)}.html\", \"w\", encoding=\"utf-8\") as f:\n",
    "                    f.write(page.text)\n",
    "            else:\n",
    "                print(\" \", page.status_code)\n",
    "                errors.append(url)\n",
    "\n",
    "        i += 1"
   ]
  },
  {
   "cell_type": "code",
   "execution_count": 45,
   "metadata": {},
   "outputs": [
    {
     "data": {
      "text/plain": [
       "'https://www.millenaire3.com/dossiers/2022/cycle-veille-m3-air-ameliorer-la-qualite-de-ce-que-l-on-respire-une-urgence-vitale'"
      ]
     },
     "execution_count": 45,
     "metadata": {},
     "output_type": "execute_result"
    }
   ],
   "source": [
    "urls[468]"
   ]
  },
  {
   "cell_type": "code",
   "execution_count": 34,
   "metadata": {},
   "outputs": [
    {
     "name": "stdout",
     "output_type": "stream",
     "text": [
      "12367\n"
     ]
    }
   ],
   "source": [
    "urls = read_urls(EXPORT_FILE)"
   ]
  },
  {
   "cell_type": "code",
   "execution_count": 5,
   "metadata": {},
   "outputs": [
    {
     "data": {
      "text/plain": [
       "['https://www.millenaire3.com#',\n",
       " 'https://www.millenaire3.com/toutes-les-videos?p=1',\n",
       " 'https://www.millenaire3.com/toutes-les-videos?p=2',\n",
       " 'https://www.millenaire3.com/toutes-les-videos?p=3',\n",
       " 'https://www.millenaire3.com/toutes-les-videos?p=4',\n",
       " 'https://www.millenaire3.com/toutes-les-videos?p=5',\n",
       " 'https://www.millenaire3.com/toutes-les-videos?p=6',\n",
       " 'https://www.millenaire3.com/toutes-les-videos?p=7',\n",
       " 'https://www.millenaire3.com/toutes-les-videos?p=8',\n",
       " 'https://www.millenaire3.com/toutes-les-videos?p=9',\n",
       " 'https://www.millenaire3.com/toutes-les-videos?p=10',\n",
       " 'https://www.millenaire3.com/toutes-les-videos?p=11',\n",
       " 'https://www.millenaire3.com/toutes-les-videos?p=12',\n",
       " 'https://www.millenaire3.com/',\n",
       " 'https://www.millenaire3.com/#content',\n",
       " 'https://www.millenaire3.com/#main-menu',\n",
       " 'https://www.millenaire3.com/#block-search',\n",
       " 'https://www.millenaire3.com/nos-flux-rss',\n",
       " 'https://www.millenaire3.com/societe',\n",
       " 'https://www.millenaire3.com/modes-d-action',\n",
       " 'https://www.millenaire3.com/transformation-urbaine',\n",
       " 'https://www.millenaire3.com/politiques-publiques',\n",
       " 'https://www.millenaire3.com/territoire',\n",
       " 'https://www.millenaire3.com/soutenabilite',\n",
       " 'https://www.millenaire3.com/actualites-a-la-une/le-rapport-a-la-proprete-urbaine',\n",
       " 'https://www.millenaire3.com/actualites-a-la-une/veille-m3-famille-du-concept-de-fraternite',\n",
       " 'https://www.millenaire3.com/actualites-a-la-une/le-spectacle-vivant-au-defi-de-la-jeunesse-et-du-numerique',\n",
       " 'https://www.millenaire3.com/actualites-a-la-une/crise-ecologique-le-metabolisme-de-l-economie-au-caeur-des-enjeux',\n",
       " 'https://www.millenaire3.com/#carousel-example-generic',\n",
       " 'https://www.millenaire3.com/#onglet_101',\n",
       " 'https://www.millenaire3.com/Interview/2023/j.-f.-spindler-chimiste-il-y-a-de-nouvelles-filieres-a-construire-et-de-nouvelles-competences-scientifiques-a-developper.-c-est-ce-que-j-appel',\n",
       " 'https://www.millenaire3.com/ressources/2023/le-rapport-a-la-proprete-urbaine',\n",
       " 'https://www.millenaire3.com/Interview/2023/julien-baltazar-doctorant-en-ingenierie-l-electrification-ne-resout-pas-tous-les-problemes-que-pose-la-mobilite-!',\n",
       " 'https://www.millenaire3.com/Interview/2023/daniel-mugnier-l-enjeu-pour-la-technologie-photovoltaique-n-est-plus-celui-des-couts-de-production-mais-de-la-valeur-d-un-projet',\n",
       " 'https://www.millenaire3.com/Interview/2023/alexandre-peutin-materiautheque-de-la-cite-du-design-la-question-ecologique-ne-se-reduit-pas-a-un-simple-changement-de-materiau',\n",
       " 'https://www.millenaire3.com/ressources/2023/veille-m3-du-concept-de-fraternite-devra-t-on-depasser-l-analogie-entre-famille-et-societe',\n",
       " 'https://www.millenaire3.com/ressources/2023/jeunesse-culture-numerique-les-six-grands-constats-qui-concernent-deja-la-generation-z',\n",
       " 'https://www.millenaire3.com/ressources/2023/2040-le-programme-culturel-du-territoire',\n",
       " 'https://www.millenaire3.com/ressources/2023/culture-et-numerique-cinq-scenarios-prospectifs-pour-la-metropole-de-lyon',\n",
       " 'https://www.millenaire3.com/ressources/2023/pratiques-et-preferences-culturelles-des-jeunes-metropolitains',\n",
       " 'https://www.millenaire3.com/ressources/2023/mediations-culturelles-des-innovations-deja-la',\n",
       " 'https://www.millenaire3.com/ressources/2023/le-rapport-des-jeunes-a-la-culture',\n",
       " 'https://www.millenaire3.com/toutes-les-videos',\n",
       " 'https://www.millenaire3.com/auteurs/vievard-ludovic',\n",
       " 'https://www.millenaire3.com/tous-les-auteurs',\n",
       " 'https://www.millenaire3.com/ /tous-les-dossiers ',\n",
       " 'https://www.millenaire3.com/dossiers/2023/action-publique-comment-penser-la-solidarite-depuis-un-territoire',\n",
       " 'https://www.millenaire3.com/tous-les-dossiers',\n",
       " 'https://www.millenaire3.com/tous-les-tags',\n",
       " 'https://www.millenaire3.com/newsletter_subscribe',\n",
       " 'https://www.millenaire3.com/qui-sommes-nous',\n",
       " 'https://www.millenaire3.com/formulaire/contactez_nous',\n",
       " 'https://www.millenaire3.com/Accessibilite',\n",
       " 'https://www.millenaire3.com/plan-du-site',\n",
       " 'https://www.millenaire3.com/mentions-legales',\n",
       " 'https://www.millenaire3.com/donnees-personnelles']"
      ]
     },
     "execution_count": 5,
     "metadata": {},
     "output_type": "execute_result"
    }
   ],
   "source": [
    "tmp = get_all_page([\"https://www.millenaire3.com#\"], \n",
    "             \"https://www.millenaire3.com/toutes-les-videos\",\n",
    "             \"https://www.millenaire3.com/\")\n",
    "\n",
    "errors = []\n",
    "\n",
    "getAllUrl(\"https://www.millenaire3.com#\", \"https://www.millenaire3.com/\", tmp, errors)"
   ]
  }
 ],
 "metadata": {
  "kernelspec": {
   "display_name": "base",
   "language": "python",
   "name": "python3"
  },
  "language_info": {
   "codemirror_mode": {
    "name": "ipython",
    "version": 3
   },
   "file_extension": ".py",
   "mimetype": "text/x-python",
   "name": "python",
   "nbconvert_exporter": "python",
   "pygments_lexer": "ipython3",
   "version": "3.9.13"
  },
  "orig_nbformat": 4
 },
 "nbformat": 4,
 "nbformat_minor": 2
}
