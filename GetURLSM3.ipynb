{
 "cells": [
  {
   "cell_type": "code",
   "execution_count": 2,
   "metadata": {},
   "outputs": [],
   "source": [
    "import requests\n",
    "from urllib.parse import urljoin\n",
    "from bs4 import BeautifulSoup\n",
    "import re\n",
    "#from multiprocessing import Pool, Process\n",
    "import os\n"
   ]
  },
  {
   "cell_type": "code",
   "execution_count": 3,
   "metadata": {},
   "outputs": [],
   "source": [
    "def get_all_page(urls, pattern, url_base):\n",
    "\n",
    "    if pattern in urls:\n",
    "        return(urls)\n",
    "    \n",
    "    html = requests.get(pattern)\n",
    "    soup = BeautifulSoup(html.content, \"html.parser\")\n",
    "    last_page = soup.find(\"a\", {\"title\" : \"Dernière page\"})[\"page\"]\n",
    "\n",
    "    iter = soup.find_all(\"div\", {\"class\" : re.compile(\"m3-pagination print_hidden|print_hidden pagination\")})\n",
    "    for item in iter:\n",
    "        lst = re.findall(\"url.*?;\", item.find_next_sibling().text)\n",
    "        nw_url = \"\"\n",
    "        if len(lst) > 0:\n",
    "            for item in lst:\n",
    "                if re.search(\"querystring\", item):\n",
    "                    continue\n",
    "                else:\n",
    "                    item = re.sub(\"url =|url \\+=|url\", \"\", item)\n",
    "                    item = item.replace(\";\", \"\").replace(\"\\\"\", \"\").strip()\n",
    "                    item = item.split(\" + \")\n",
    "                for part in item:\n",
    "                    nw_url += part\n",
    "            match = re.compile(\"\\$\\(this\\)\\.attr\\(page\\)\")\n",
    "            for i in range(1, int(last_page)+1):\n",
    "                url = urljoin(url_base, re.sub(match,str(i), nw_url))\n",
    "                if url not in urls:\n",
    "                    urls.append(url)\n",
    "                    \n",
    "        else:\n",
    "            for i in range(1, int(last_page)+1):\n",
    "                urls.append(urljoin(url_base, re.sub(\"page=.\", f\"page={i}\", pattern)))\n",
    "    \n",
    "    return(urls)"
   ]
  },
  {
   "cell_type": "code",
   "execution_count": 4,
   "metadata": {},
   "outputs": [],
   "source": [
    "def getAllUrl(url, url_base, urls, EXPORT_FILE, DATA_FOLDER, page):\n",
    "\n",
    "    soup = BeautifulSoup(page.content, \"html.parser\")\n",
    "    for anchor in soup.find_all(\"a\"):\n",
    "        if \"href\" in anchor.attrs:\n",
    "            if anchor[\"href\"] == \"JavaScript:void(0);\" and anchor[\"class\"] == \"lien-page\":\n",
    "                try:\n",
    "                    urls.extend(get_all_page(urls), url, url_base)\n",
    "                except:\n",
    "                    continue\n",
    "            absolute_url = urljoin(url_base, anchor[\"href\"])\n",
    "            if \"download\" not in absolute_url and absolute_url not in urls and anchor[\"href\"] != \"JavaScript:void(0);\":\n",
    "                if re.search(url_base, absolute_url):\n",
    "                    urls.append(absolute_url)\n",
    "    # Export des pages html ?\n",
    "                    with open(DATA_FOLDER+EXPORT_FILE, \"a\", encoding=\"utf-8\") as f:\n",
    "                        f.write(absolute_url + '\\n')\n",
    "\n",
    "    return(urls)"
   ]
  },
  {
   "cell_type": "code",
   "execution_count": 5,
   "metadata": {},
   "outputs": [],
   "source": [
    "def read_urls(EXPORT_FILE):\n",
    "    with open(EXPORT_FILE, \"r\") as f:\n",
    "        urls = f.read().split(\"\\n\") \n",
    "    print(len(urls))\n",
    "    return(urls)"
   ]
  },
  {
   "cell_type": "code",
   "execution_count": 21,
   "metadata": {},
   "outputs": [
    {
     "name": "stdout",
     "output_type": "stream",
     "text": [
      "15879\n",
      "15878 / 15879, errors"
     ]
    }
   ],
   "source": [
    "\n",
    "EXPORT_FILE = \"M3urls_mac.txt\"\n",
    "HTML_FOLDER = \"urls/\"\n",
    "DATA_FOLDER = \"data/\"\n",
    "\n",
    "if __name__ == \"__main__\":\n",
    "    \n",
    "    url_base = 'https://www.millenaire3.com'\n",
    "    errors = []\n",
    "\n",
    "    if EXPORT_FILE in os.listdir(DATA_FOLDER):\n",
    "        urls = read_urls(DATA_FOLDER+EXPORT_FILE)\n",
    "    else:\n",
    "        urls = get_all_page(urls = [], \n",
    "                    pattern=\"https://www.millenaire3.com/m3_search?page=1&sort_by=0&SearchText=&modeRecherche=1&titre=&auteurId=&auteurText=&100%25=&100%25_new_value=true&date_debut=01%2F01%2F1900&date_debut_mobile=&date_fin=31%2F12%2F2025&date_fin_mobile=&identifiers=&rubriques=\",\n",
    "                    url_base = url_base)\n",
    "        with open(DATA_FOLDER+EXPORT_FILE, \"w\", encoding=\"utf-8\") as f:\n",
    "            for url in urls:\n",
    "                f.write(url+'\\n')\n",
    "        \n",
    "    files = os.listdir(HTML_FOLDER)\n",
    "\n",
    "    i = 15850 #len(files) ? # On peut changer la valeur de départ\n",
    "    while i <= len(urls)-1:\n",
    "        if f\"{str(i)}.html\" in files:\n",
    "            pass\n",
    "        elif re.search(\"/partage_email/|/generated_pdf/|\", urls[i]):\n",
    "            errors.append(urls[i])\n",
    "            print(f\"\\r{i} / {len(urls)}, errors\", end = \"\")\n",
    "            pass\n",
    "        else:\n",
    "            print(f\"\\r{i} / {len(urls)}: {urls[i-1]}\", end = \"\")\n",
    "\n",
    "            page = requests.get(urls[i])\n",
    "            if page.status_code == 200:\n",
    "                getAllUrl(urls[i], url_base, urls, EXPORT_FILE, DATA_FOLDER, page)\n",
    "                with open(f\"{HTML_FOLDER}{str(i)}.html\", \"w\", encoding=\"utf-8\") as f:\n",
    "                    f.write(page.text)\n",
    "            else:\n",
    "                print(\" \", page.status_code)\n",
    "                errors.append(urls[i])\n",
    "\n",
    "        i += 1"
   ]
  }
 ],
 "metadata": {
  "kernelspec": {
   "display_name": "base",
   "language": "python",
   "name": "python3"
  },
  "language_info": {
   "codemirror_mode": {
    "name": "ipython",
    "version": 3
   },
   "file_extension": ".py",
   "mimetype": "text/x-python",
   "name": "python",
   "nbconvert_exporter": "python",
   "pygments_lexer": "ipython3",
   "version": "3.8.8"
  },
  "orig_nbformat": 4
 },
 "nbformat": 4,
 "nbformat_minor": 2
}
