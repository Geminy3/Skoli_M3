{
 "cells": [
  {
   "cell_type": "code",
   "execution_count": 2,
   "metadata": {},
   "outputs": [],
   "source": [
    "import requests\n",
    "from urllib.parse import urljoin\n",
    "from bs4 import BeautifulSoup\n",
    "import re\n",
    "from multiprocessing import Pool, Process\n",
    "import os\n"
   ]
  },
  {
   "cell_type": "code",
   "execution_count": 15,
   "metadata": {},
   "outputs": [],
   "source": [
    "def get_all_page(urls, pattern, url_base):\n",
    "\n",
    "    if pattern in urls:\n",
    "        return(urls)\n",
    "    \n",
    "    html = requests.get(pattern)\n",
    "    soup = BeautifulSoup(html.content, \"html.parser\")\n",
    "    last_page = soup.find(\"a\", {\"title\" : \"Dernière page\"})[\"page\"]\n",
    "\n",
    "    iter = soup.find_all(\"div\", {\"class\" : re.compile(\"m3-pagination print_hidden|print_hidden pagination\")})\n",
    "    for item in iter:\n",
    "        lst = re.findall(\"url.*?;\", item.find_next_sibling().text)\n",
    "        nw_url = \"\"\n",
    "        if len(lst) > 0:\n",
    "            for item in lst:\n",
    "                if re.search(\"querystring\", item):\n",
    "                    continue\n",
    "                else:\n",
    "                    item = re.sub(\"url =|url \\+=|url\", \"\", item)\n",
    "                    item = item.replace(\";\", \"\").replace(\"\\\"\", \"\").strip()\n",
    "                    item = item.split(\" + \")\n",
    "                for part in item:\n",
    "                    nw_url += part\n",
    "            match = re.compile(\"\\$\\(this\\)\\.attr\\(page\\)\")\n",
    "            for i in range(1, int(last_page)+1):\n",
    "                url = urljoin(url_base, re.sub(match,str(i), nw_url))\n",
    "                if url not in urls:\n",
    "                    urls.append(url)\n",
    "                    \n",
    "        else:\n",
    "            for i in range(1, int(last_page)+1):\n",
    "                urls.append(urljoin(url_base, re.sub(\"page=.\", f\"page={i}\", pattern)))\n",
    "    \n",
    "    return(urls)"
   ]
  },
  {
   "cell_type": "code",
   "execution_count": 18,
   "metadata": {},
   "outputs": [],
   "source": [
    "def getAllUrl(url, url_base, urls, errors):\n",
    "    \n",
    "    page = requests.get(url)\n",
    "\n",
    "    if page.status_code == 200:\n",
    "        soup = BeautifulSoup(page.content, \"html.parser\")\n",
    "        for anchor in soup.find_all(\"a\"):\n",
    "            if \"href\" in anchor.attrs:\n",
    "                if anchor[\"href\"] == \"JavaScript:void(0);\" and anchor[\"class\"] == \"lien-page\":\n",
    "                    try:\n",
    "                        urls.extend(get_all_page(urls), url, url_base)\n",
    "                    except:\n",
    "                        continue\n",
    "                absolute_url = urljoin(url_base, anchor[\"href\"])\n",
    "                if \"download\" not in absolute_url and absolute_url not in urls:\n",
    "                    if re.search(url_base, absolute_url):\n",
    "                        urls.append(absolute_url)\n",
    "\n",
    "        # Export des pages html ?\n",
    "\n",
    "    else:\n",
    "        print(\" \", page.status_code)\n",
    "        errors.append(url)\n",
    "\n",
    "    return(urls)"
   ]
  },
  {
   "cell_type": "code",
   "execution_count": 5,
   "metadata": {},
   "outputs": [],
   "source": [
    "def read_urls(EXPORT_FILE):\n",
    "    with open(EXPORT_FILE, \"r\") as f:\n",
    "        urls = f.read().split(\"\\n\") \n",
    "    print(len(urls))\n",
    "    return(urls)"
   ]
  },
  {
   "cell_type": "code",
   "execution_count": 22,
   "metadata": {},
   "outputs": [
    {
     "name": "stdout",
     "output_type": "stream",
     "text": [
      "2507 / 10276 : https://www.millenaire3.com/ressources/conception-eco-culturelle-d-un-centre-de-rechercheuesetudeepreuve-des-exigences-renouvelees-des-usagers-en-francenpied-et-les-deux-roues-soient-plus-efficaces1%2F12%2F2025&date_fin_mobile=&identifiers=&rubriques=  404\n",
      "3854 / 13162 : https://www.millenaire3.com/ressources/Les-discriminations-raciales-Comment-agirvernanceent-de-la-population-et-ses-consequencesn-debatnnaise-specificites-et-evolution-par-la-cofremcaeslyon-et-turin"
     ]
    }
   ],
   "source": [
    "\n",
    "EXPORT_FILE = \"M3urls3.txt\"\n",
    "\n",
    "if __name__ == \"__main__\":\n",
    "    \n",
    "    url_base = 'https://www.millenaire3.com'\n",
    "    errors = []\n",
    "    urls = get_all_page(urls = [], \n",
    "                        pattern=\"https://www.millenaire3.com/m3_search?page=1&sort_by=0&SearchText=&modeRecherche=1&titre=&auteurId=&auteurText=&100%25=&100%25_new_value=true&date_debut=01%2F01%2F1900&date_debut_mobile=&date_fin=31%2F12%2F2025&date_fin_mobile=&identifiers=&rubriques=\",\n",
    "                        url_base = url_base)\n",
    "    # if EXPORT_FILE in os.listdir():\n",
    "    #     urls = read_urls(EXPORT_FILE)\n",
    "    # else:\n",
    "    #     urls = [url_base]\n",
    "\n",
    "    i = 0# On peut changer la valeur de départ\n",
    "    while i <= len(urls)-1:\n",
    "        if re.search(\"/partage_email/|/generated_pdf/|/toutes-les-videos\", urls[i]):\n",
    "            errors.append(urls[i])\n",
    "            print(f\"\\r{i} / {len(urls)}\")\n",
    "        else:\n",
    "            getAllUrl(urls[i], url_base, urls, errors)\n",
    "            i += 1\n",
    "            print(f\"\\r{i} / {len(urls)} : {urls[i-1]}\", end = \"\")\n",
    "\n",
    "with open(EXPORT_FILE, \"w\", encoding=\"utf-8\") as f:\n",
    "    for url in urls:\n",
    "        f.write(url+\"\\n\")"
   ]
  },
  {
   "cell_type": "code",
   "execution_count": 34,
   "metadata": {},
   "outputs": [
    {
     "name": "stdout",
     "output_type": "stream",
     "text": [
      "12367\n"
     ]
    }
   ],
   "source": [
    "urls = read_urls(EXPORT_FILE)"
   ]
  },
  {
   "cell_type": "code",
   "execution_count": 20,
   "metadata": {},
   "outputs": [
    {
     "data": {
      "text/plain": [
       "['https://www.millenaire3.com/toutes-les-videos?p=1',\n",
       " 'https://www.millenaire3.com/toutes-les-videos?p=2',\n",
       " 'https://www.millenaire3.com/toutes-les-videos?p=3',\n",
       " 'https://www.millenaire3.com/toutes-les-videos?p=4',\n",
       " 'https://www.millenaire3.com/toutes-les-videos?p=5',\n",
       " 'https://www.millenaire3.com/toutes-les-videos?p=6',\n",
       " 'https://www.millenaire3.com/toutes-les-videos?p=7',\n",
       " 'https://www.millenaire3.com/toutes-les-videos?p=8',\n",
       " 'https://www.millenaire3.com/toutes-les-videos?p=9',\n",
       " 'https://www.millenaire3.com/toutes-les-videos?p=10',\n",
       " 'https://www.millenaire3.com/toutes-les-videos?p=11',\n",
       " 'https://www.millenaire3.com/toutes-les-videos?p=12',\n",
       " 'https://www.millenaire3.com/',\n",
       " 'https://www.millenaire3.com/#content',\n",
       " 'https://www.millenaire3.com/#main-menu',\n",
       " 'https://www.millenaire3.com/#block-search',\n",
       " 'https://www.millenaire3.com/nos-flux-rss',\n",
       " 'https://www.millenaire3.com/societe',\n",
       " 'https://www.millenaire3.com/modes-d-action',\n",
       " 'https://www.millenaire3.com/transformation-urbaine',\n",
       " 'https://www.millenaire3.com/politiques-publiques',\n",
       " 'https://www.millenaire3.com/territoire',\n",
       " 'https://www.millenaire3.com/soutenabilite',\n",
       " 'https://www.millenaire3.com/partage_email/145',\n",
       " 'https://www.millenaire3.com/media/videos/comment-faites-vous-avec-la-chaleur',\n",
       " 'https://www.millenaire3.com/media/veillem3/veille-sport3-angleterre-forest-green-rovers-club-de-foot-ecolo',\n",
       " 'https://www.millenaire3.com/media/veillem3/veille-sport3-jeux-olympiques-paris-2024-des-jo-verts-et-responsables',\n",
       " 'https://www.millenaire3.com/media/veillem3/veille-sport3-l-impact-des-stations-de-ski-sur-l-environnement',\n",
       " 'https://www.millenaire3.com/media/videos/la-symphonie-du-vivant-l-epigenetique-c-est-fantastique-par-joel-de-rosnay',\n",
       " 'https://www.millenaire3.com/media/videos/reseaux-sociaux-tous-accros-decod-actu',\n",
       " 'https://www.millenaire3.com/media/videos/la-methode-scientifique-joel-de-rosnay',\n",
       " 'https://www.millenaire3.com/media/videos/de-l-ia-a-l-intelligence-humaine-augmentee-impact-sur-l-entreprise-du-futur',\n",
       " 'https://www.millenaire3.com/media/veillem3/conference-joel-de-rosnay-voyage-vers-le-futur-mon-entreprise-en-2030',\n",
       " 'https://www.millenaire3.com/media/videos/la-strategie-europe-2020',\n",
       " 'https://www.millenaire3.com/media/videos/comment-les-friches-sont-devenues-les-temples-de-la-hype',\n",
       " 'https://www.millenaire3.com/media/veillem3/combien-pese-la-culture-en-france-decod-actu-lumni',\n",
       " 'https://www.millenaire3.com/ /tous-les-dossiers ',\n",
       " 'https://www.millenaire3.com/dossiers/2023/action-publique-comment-penser-la-solidarite-depuis-un-territoire',\n",
       " 'https://www.millenaire3.com/tous-les-dossiers',\n",
       " 'https://www.millenaire3.com/tous-les-tags',\n",
       " 'https://www.millenaire3.com/newsletter_subscribe',\n",
       " 'https://www.millenaire3.com/qui-sommes-nous',\n",
       " 'https://www.millenaire3.com/formulaire/contactez_nous',\n",
       " 'https://www.millenaire3.com/Accessibilite',\n",
       " 'https://www.millenaire3.com/plan-du-site',\n",
       " 'https://www.millenaire3.com/mentions-legales',\n",
       " 'https://www.millenaire3.com/donnees-personnelles']"
      ]
     },
     "execution_count": 20,
     "metadata": {},
     "output_type": "execute_result"
    }
   ],
   "source": [
    "tmp = get_all_page([], \n",
    "             \"https://www.millenaire3.com/toutes-les-videos\",\n",
    "             \"https://www.millenaire3.com/\")\n",
    "\n",
    "errors = []\n",
    "\n",
    "getAllUrl(\"https://www.millenaire3.com/toutes-les-videos\", \"https://www.millenaire3.com/\", tmp, errors)"
   ]
  }
 ],
 "metadata": {
  "kernelspec": {
   "display_name": "base",
   "language": "python",
   "name": "python3"
  },
  "language_info": {
   "codemirror_mode": {
    "name": "ipython",
    "version": 3
   },
   "file_extension": ".py",
   "mimetype": "text/x-python",
   "name": "python",
   "nbconvert_exporter": "python",
   "pygments_lexer": "ipython3",
   "version": "3.9.13"
  },
  "orig_nbformat": 4
 },
 "nbformat": 4,
 "nbformat_minor": 2
}
