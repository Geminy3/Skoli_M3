{
 "cells": [
  {
   "cell_type": "code",
   "execution_count": 33,
   "metadata": {},
   "outputs": [],
   "source": [
    "import os\n",
    "import torch\n",
    "import pickle\n",
    "from transformers import BertTokenizer, BertModel, CamembertModel, CamembertTokenizer, AutoTokenizer, AutoModel\n",
    "from sklearn.metrics.pairwise import cosine_similarity\n",
    "import pandas as pd"
   ]
  },
  {
   "attachments": {},
   "cell_type": "markdown",
   "metadata": {},
   "source": [
    "# Avec CamemBERT (pas au point)"
   ]
  },
  {
   "cell_type": "code",
   "execution_count": 136,
   "metadata": {},
   "outputs": [],
   "source": [
    "def get_document_embeddings_batch(texts, model, tokenizer, df):\n",
    "    vectors = []\n",
    "    for i, text in enumerate(df.text):\n",
    "        print(f\"\\r{i} / {len(df)}\", end=\"\")\n",
    "        input_ids = tokenizer(text, return_tensors=\"pt\", truncation = True, padding = True)\n",
    "        with torch.no_grad():\n",
    "            outputs = model(**input_ids)\n",
    "        vectors.append(outputs.last_hidden_state.mean(dim = 1))\n",
    "    return(torch.cat(vectors, dim=0))\n",
    "\n",
    "def semantic_search(query, model, tokenizer, document_embeddings, n_results=5):\n",
    "    query_embedding = get_document_embeddings_batch(query, model, tokenizer)\n",
    "    similarity_scores = cosine_similarity(query_embedding, document_embeddings)[0]\n",
    "    return(similarity_scores)\n",
    "    # sorted_indices = similarity_scores.argsort()\n",
    "    # return(sorted_indices[::-1][:n_results])\n",
    "\n",
    "def save_embeddings(embeddings, output_file):\n",
    "    with open(output_file, 'wb') as f:\n",
    "        pickle.dump(embeddings, f)\n",
    "\n",
    "def load_embeddings(input_file):\n",
    "    with open(input_file, 'rb') as f:\n",
    "        return pickle.load(f)\n",
    "    \n",
    "def sortfunc(x):\n",
    "    return(int(x))"
   ]
  },
  {
   "cell_type": "code",
   "execution_count": 135,
   "metadata": {},
   "outputs": [
    {
     "name": "stderr",
     "output_type": "stream",
     "text": [
      "Some weights of the model checkpoint at camembert-base were not used when initializing CamembertModel: ['lm_head.layer_norm.weight', 'lm_head.bias', 'lm_head.layer_norm.bias', 'lm_head.dense.weight', 'lm_head.decoder.weight', 'lm_head.dense.bias']\n",
      "- This IS expected if you are initializing CamembertModel from the checkpoint of a model trained on another task or with another architecture (e.g. initializing a BertForSequenceClassification model from a BertForPreTraining model).\n",
      "- This IS NOT expected if you are initializing CamembertModel from the checkpoint of a model that you expect to be exactly identical (initializing a BertForSequenceClassification model from a BertForSequenceClassification model).\n"
     ]
    },
    {
     "name": "stdout",
     "output_type": "stream",
     "text": [
      "2784CONVERTING DOCUMENTS INTO EMBEDDINGS\n"
     ]
    },
    {
     "ename": "ValueError",
     "evalue": "Expected a 1D array, got an array with shape (2774, 768)",
     "output_type": "error",
     "traceback": [
      "\u001b[1;31m---------------------------------------------------------------------------\u001b[0m",
      "\u001b[1;31mKeyError\u001b[0m                                  Traceback (most recent call last)",
      "\u001b[1;32mc:\\Users\\Alioscha\\anaconda3\\lib\\site-packages\\pandas\\core\\indexes\\base.py\u001b[0m in \u001b[0;36mget_loc\u001b[1;34m(self, key)\u001b[0m\n\u001b[0;32m   3651\u001b[0m         \u001b[1;32mtry\u001b[0m\u001b[1;33m:\u001b[0m\u001b[1;33m\u001b[0m\u001b[1;33m\u001b[0m\u001b[0m\n\u001b[1;32m-> 3652\u001b[1;33m             \u001b[1;32mreturn\u001b[0m \u001b[0mself\u001b[0m\u001b[1;33m.\u001b[0m\u001b[0m_engine\u001b[0m\u001b[1;33m.\u001b[0m\u001b[0mget_loc\u001b[0m\u001b[1;33m(\u001b[0m\u001b[0mcasted_key\u001b[0m\u001b[1;33m)\u001b[0m\u001b[1;33m\u001b[0m\u001b[1;33m\u001b[0m\u001b[0m\n\u001b[0m\u001b[0;32m   3653\u001b[0m         \u001b[1;32mexcept\u001b[0m \u001b[0mKeyError\u001b[0m \u001b[1;32mas\u001b[0m \u001b[0merr\u001b[0m\u001b[1;33m:\u001b[0m\u001b[1;33m\u001b[0m\u001b[1;33m\u001b[0m\u001b[0m\n",
      "\u001b[1;32mc:\\Users\\Alioscha\\anaconda3\\lib\\site-packages\\pandas\\_libs\\index.pyx\u001b[0m in \u001b[0;36mpandas._libs.index.IndexEngine.get_loc\u001b[1;34m()\u001b[0m\n",
      "\u001b[1;32mc:\\Users\\Alioscha\\anaconda3\\lib\\site-packages\\pandas\\_libs\\index.pyx\u001b[0m in \u001b[0;36mpandas._libs.index.IndexEngine.get_loc\u001b[1;34m()\u001b[0m\n",
      "\u001b[1;32mpandas\\_libs\\hashtable_class_helper.pxi\u001b[0m in \u001b[0;36mpandas._libs.hashtable.PyObjectHashTable.get_item\u001b[1;34m()\u001b[0m\n",
      "\u001b[1;32mpandas\\_libs\\hashtable_class_helper.pxi\u001b[0m in \u001b[0;36mpandas._libs.hashtable.PyObjectHashTable.get_item\u001b[1;34m()\u001b[0m\n",
      "\u001b[1;31mKeyError\u001b[0m: 'vectors'",
      "\nThe above exception was the direct cause of the following exception:\n",
      "\u001b[1;31mKeyError\u001b[0m                                  Traceback (most recent call last)",
      "\u001b[1;32mc:\\Users\\Alioscha\\anaconda3\\lib\\site-packages\\pandas\\core\\frame.py\u001b[0m in \u001b[0;36m_set_item_mgr\u001b[1;34m(self, key, value)\u001b[0m\n\u001b[0;32m   4109\u001b[0m         \u001b[1;32mtry\u001b[0m\u001b[1;33m:\u001b[0m\u001b[1;33m\u001b[0m\u001b[1;33m\u001b[0m\u001b[0m\n\u001b[1;32m-> 4110\u001b[1;33m             \u001b[0mloc\u001b[0m \u001b[1;33m=\u001b[0m \u001b[0mself\u001b[0m\u001b[1;33m.\u001b[0m\u001b[0m_info_axis\u001b[0m\u001b[1;33m.\u001b[0m\u001b[0mget_loc\u001b[0m\u001b[1;33m(\u001b[0m\u001b[0mkey\u001b[0m\u001b[1;33m)\u001b[0m\u001b[1;33m\u001b[0m\u001b[1;33m\u001b[0m\u001b[0m\n\u001b[0m\u001b[0;32m   4111\u001b[0m         \u001b[1;32mexcept\u001b[0m \u001b[0mKeyError\u001b[0m\u001b[1;33m:\u001b[0m\u001b[1;33m\u001b[0m\u001b[1;33m\u001b[0m\u001b[0m\n",
      "\u001b[1;32mc:\\Users\\Alioscha\\anaconda3\\lib\\site-packages\\pandas\\core\\indexes\\base.py\u001b[0m in \u001b[0;36mget_loc\u001b[1;34m(self, key)\u001b[0m\n\u001b[0;32m   3653\u001b[0m         \u001b[1;32mexcept\u001b[0m \u001b[0mKeyError\u001b[0m \u001b[1;32mas\u001b[0m \u001b[0merr\u001b[0m\u001b[1;33m:\u001b[0m\u001b[1;33m\u001b[0m\u001b[1;33m\u001b[0m\u001b[0m\n\u001b[1;32m-> 3654\u001b[1;33m             \u001b[1;32mraise\u001b[0m \u001b[0mKeyError\u001b[0m\u001b[1;33m(\u001b[0m\u001b[0mkey\u001b[0m\u001b[1;33m)\u001b[0m \u001b[1;32mfrom\u001b[0m \u001b[0merr\u001b[0m\u001b[1;33m\u001b[0m\u001b[1;33m\u001b[0m\u001b[0m\n\u001b[0m\u001b[0;32m   3655\u001b[0m         \u001b[1;32mexcept\u001b[0m \u001b[0mTypeError\u001b[0m\u001b[1;33m:\u001b[0m\u001b[1;33m\u001b[0m\u001b[1;33m\u001b[0m\u001b[0m\n",
      "\u001b[1;31mKeyError\u001b[0m: 'vectors'",
      "\nDuring handling of the above exception, another exception occurred:\n",
      "\u001b[1;31mValueError\u001b[0m                                Traceback (most recent call last)",
      "\u001b[1;32m~\\AppData\\Local\\Temp\\ipykernel_12736\\2512610348.py\u001b[0m in \u001b[0;36m<module>\u001b[1;34m\u001b[0m\n\u001b[0;32m     42\u001b[0m     \u001b[1;32melse\u001b[0m\u001b[1;33m:\u001b[0m\u001b[1;33m\u001b[0m\u001b[1;33m\u001b[0m\u001b[0m\n\u001b[0;32m     43\u001b[0m         \u001b[0mprint\u001b[0m\u001b[1;33m(\u001b[0m\u001b[1;34m\"CONVERTING DOCUMENTS INTO EMBEDDINGS\"\u001b[0m\u001b[1;33m)\u001b[0m\u001b[1;33m\u001b[0m\u001b[1;33m\u001b[0m\u001b[0m\n\u001b[1;32m---> 44\u001b[1;33m         \u001b[0mdocument_embeddings\u001b[0m \u001b[1;33m=\u001b[0m \u001b[0mget_document_embeddings_batch\u001b[0m\u001b[1;33m(\u001b[0m\u001b[0mdocuments\u001b[0m\u001b[1;33m,\u001b[0m \u001b[0mmodel\u001b[0m\u001b[1;33m,\u001b[0m \u001b[0mtokenizer\u001b[0m\u001b[1;33m,\u001b[0m \u001b[0mdf\u001b[0m\u001b[1;33m)\u001b[0m\u001b[1;33m\u001b[0m\u001b[1;33m\u001b[0m\u001b[0m\n\u001b[0m\u001b[0;32m     45\u001b[0m         \u001b[0msave_embeddings\u001b[0m\u001b[1;33m(\u001b[0m\u001b[0mdocument_embeddings\u001b[0m\u001b[1;33m,\u001b[0m \u001b[0membeddings_file\u001b[0m\u001b[1;33m)\u001b[0m\u001b[1;33m\u001b[0m\u001b[1;33m\u001b[0m\u001b[0m\n",
      "\u001b[1;32m~\\AppData\\Local\\Temp\\ipykernel_12736\\2701510787.py\u001b[0m in \u001b[0;36mget_document_embeddings_batch\u001b[1;34m(texts, model, tokenizer, df)\u001b[0m\n\u001b[0;32m      6\u001b[0m             \u001b[0moutputs\u001b[0m \u001b[1;33m=\u001b[0m \u001b[0mmodel\u001b[0m\u001b[1;33m(\u001b[0m\u001b[1;33m**\u001b[0m\u001b[0minput_ids\u001b[0m\u001b[1;33m)\u001b[0m\u001b[1;33m\u001b[0m\u001b[1;33m\u001b[0m\u001b[0m\n\u001b[0;32m      7\u001b[0m         \u001b[0mvectors\u001b[0m\u001b[1;33m.\u001b[0m\u001b[0mappend\u001b[0m\u001b[1;33m(\u001b[0m\u001b[0moutputs\u001b[0m\u001b[1;33m.\u001b[0m\u001b[0mlast_hidden_state\u001b[0m\u001b[1;33m.\u001b[0m\u001b[0mmean\u001b[0m\u001b[1;33m(\u001b[0m\u001b[0mdim\u001b[0m \u001b[1;33m=\u001b[0m \u001b[1;36m1\u001b[0m\u001b[1;33m)\u001b[0m\u001b[1;33m)\u001b[0m\u001b[1;33m\u001b[0m\u001b[1;33m\u001b[0m\u001b[0m\n\u001b[1;32m----> 8\u001b[1;33m     \u001b[0mdf\u001b[0m\u001b[1;33m[\u001b[0m\u001b[1;34m\"vectors\"\u001b[0m\u001b[1;33m]\u001b[0m \u001b[1;33m=\u001b[0m \u001b[0mtorch\u001b[0m\u001b[1;33m.\u001b[0m\u001b[0mcat\u001b[0m\u001b[1;33m(\u001b[0m\u001b[0mvectors\u001b[0m\u001b[1;33m,\u001b[0m \u001b[0mdim\u001b[0m\u001b[1;33m=\u001b[0m\u001b[1;36m0\u001b[0m\u001b[1;33m)\u001b[0m\u001b[1;33m\u001b[0m\u001b[1;33m\u001b[0m\u001b[0m\n\u001b[0m\u001b[0;32m      9\u001b[0m     \u001b[1;32mreturn\u001b[0m\u001b[1;33m(\u001b[0m\u001b[0mdf\u001b[0m\u001b[1;33m)\u001b[0m\u001b[1;33m\u001b[0m\u001b[1;33m\u001b[0m\u001b[0m\n\u001b[0;32m     10\u001b[0m \u001b[1;33m\u001b[0m\u001b[0m\n",
      "\u001b[1;32mc:\\Users\\Alioscha\\anaconda3\\lib\\site-packages\\pandas\\core\\frame.py\u001b[0m in \u001b[0;36m__setitem__\u001b[1;34m(self, key, value)\u001b[0m\n\u001b[0;32m   3948\u001b[0m         \u001b[1;32melse\u001b[0m\u001b[1;33m:\u001b[0m\u001b[1;33m\u001b[0m\u001b[1;33m\u001b[0m\u001b[0m\n\u001b[0;32m   3949\u001b[0m             \u001b[1;31m# set column\u001b[0m\u001b[1;33m\u001b[0m\u001b[1;33m\u001b[0m\u001b[0m\n\u001b[1;32m-> 3950\u001b[1;33m             \u001b[0mself\u001b[0m\u001b[1;33m.\u001b[0m\u001b[0m_set_item\u001b[0m\u001b[1;33m(\u001b[0m\u001b[0mkey\u001b[0m\u001b[1;33m,\u001b[0m \u001b[0mvalue\u001b[0m\u001b[1;33m)\u001b[0m\u001b[1;33m\u001b[0m\u001b[1;33m\u001b[0m\u001b[0m\n\u001b[0m\u001b[0;32m   3951\u001b[0m \u001b[1;33m\u001b[0m\u001b[0m\n\u001b[0;32m   3952\u001b[0m     \u001b[1;32mdef\u001b[0m \u001b[0m_setitem_slice\u001b[0m\u001b[1;33m(\u001b[0m\u001b[0mself\u001b[0m\u001b[1;33m,\u001b[0m \u001b[0mkey\u001b[0m\u001b[1;33m:\u001b[0m \u001b[0mslice\u001b[0m\u001b[1;33m,\u001b[0m \u001b[0mvalue\u001b[0m\u001b[1;33m)\u001b[0m \u001b[1;33m->\u001b[0m \u001b[1;32mNone\u001b[0m\u001b[1;33m:\u001b[0m\u001b[1;33m\u001b[0m\u001b[1;33m\u001b[0m\u001b[0m\n",
      "\u001b[1;32mc:\\Users\\Alioscha\\anaconda3\\lib\\site-packages\\pandas\\core\\frame.py\u001b[0m in \u001b[0;36m_set_item\u001b[1;34m(self, key, value)\u001b[0m\n\u001b[0;32m   4154\u001b[0m                     \u001b[0mvalue\u001b[0m \u001b[1;33m=\u001b[0m \u001b[0mnp\u001b[0m\u001b[1;33m.\u001b[0m\u001b[0mtile\u001b[0m\u001b[1;33m(\u001b[0m\u001b[0mvalue\u001b[0m\u001b[1;33m,\u001b[0m \u001b[1;33m(\u001b[0m\u001b[0mlen\u001b[0m\u001b[1;33m(\u001b[0m\u001b[0mexisting_piece\u001b[0m\u001b[1;33m.\u001b[0m\u001b[0mcolumns\u001b[0m\u001b[1;33m)\u001b[0m\u001b[1;33m,\u001b[0m \u001b[1;36m1\u001b[0m\u001b[1;33m)\u001b[0m\u001b[1;33m)\u001b[0m\u001b[1;33m.\u001b[0m\u001b[0mT\u001b[0m\u001b[1;33m\u001b[0m\u001b[1;33m\u001b[0m\u001b[0m\n\u001b[0;32m   4155\u001b[0m \u001b[1;33m\u001b[0m\u001b[0m\n\u001b[1;32m-> 4156\u001b[1;33m         \u001b[0mself\u001b[0m\u001b[1;33m.\u001b[0m\u001b[0m_set_item_mgr\u001b[0m\u001b[1;33m(\u001b[0m\u001b[0mkey\u001b[0m\u001b[1;33m,\u001b[0m \u001b[0mvalue\u001b[0m\u001b[1;33m)\u001b[0m\u001b[1;33m\u001b[0m\u001b[1;33m\u001b[0m\u001b[0m\n\u001b[0m\u001b[0;32m   4157\u001b[0m \u001b[1;33m\u001b[0m\u001b[0m\n\u001b[0;32m   4158\u001b[0m     def _set_value(\n",
      "\u001b[1;32mc:\\Users\\Alioscha\\anaconda3\\lib\\site-packages\\pandas\\core\\frame.py\u001b[0m in \u001b[0;36m_set_item_mgr\u001b[1;34m(self, key, value)\u001b[0m\n\u001b[0;32m   4111\u001b[0m         \u001b[1;32mexcept\u001b[0m \u001b[0mKeyError\u001b[0m\u001b[1;33m:\u001b[0m\u001b[1;33m\u001b[0m\u001b[1;33m\u001b[0m\u001b[0m\n\u001b[0;32m   4112\u001b[0m             \u001b[1;31m# This item wasn't present, just insert at end\u001b[0m\u001b[1;33m\u001b[0m\u001b[1;33m\u001b[0m\u001b[0m\n\u001b[1;32m-> 4113\u001b[1;33m             \u001b[0mself\u001b[0m\u001b[1;33m.\u001b[0m\u001b[0m_mgr\u001b[0m\u001b[1;33m.\u001b[0m\u001b[0minsert\u001b[0m\u001b[1;33m(\u001b[0m\u001b[0mlen\u001b[0m\u001b[1;33m(\u001b[0m\u001b[0mself\u001b[0m\u001b[1;33m.\u001b[0m\u001b[0m_info_axis\u001b[0m\u001b[1;33m)\u001b[0m\u001b[1;33m,\u001b[0m \u001b[0mkey\u001b[0m\u001b[1;33m,\u001b[0m \u001b[0mvalue\u001b[0m\u001b[1;33m)\u001b[0m\u001b[1;33m\u001b[0m\u001b[1;33m\u001b[0m\u001b[0m\n\u001b[0m\u001b[0;32m   4114\u001b[0m         \u001b[1;32melse\u001b[0m\u001b[1;33m:\u001b[0m\u001b[1;33m\u001b[0m\u001b[1;33m\u001b[0m\u001b[0m\n\u001b[0;32m   4115\u001b[0m             \u001b[0mself\u001b[0m\u001b[1;33m.\u001b[0m\u001b[0m_iset_item_mgr\u001b[0m\u001b[1;33m(\u001b[0m\u001b[0mloc\u001b[0m\u001b[1;33m,\u001b[0m \u001b[0mvalue\u001b[0m\u001b[1;33m)\u001b[0m\u001b[1;33m\u001b[0m\u001b[1;33m\u001b[0m\u001b[0m\n",
      "\u001b[1;32mc:\\Users\\Alioscha\\anaconda3\\lib\\site-packages\\pandas\\core\\internals\\managers.py\u001b[0m in \u001b[0;36minsert\u001b[1;34m(self, loc, item, value)\u001b[0m\n\u001b[0;32m   1401\u001b[0m             \u001b[0mvalue\u001b[0m \u001b[1;33m=\u001b[0m \u001b[0mvalue\u001b[0m\u001b[1;33m.\u001b[0m\u001b[0mT\u001b[0m\u001b[1;33m\u001b[0m\u001b[1;33m\u001b[0m\u001b[0m\n\u001b[0;32m   1402\u001b[0m             \u001b[1;32mif\u001b[0m \u001b[0mlen\u001b[0m\u001b[1;33m(\u001b[0m\u001b[0mvalue\u001b[0m\u001b[1;33m)\u001b[0m \u001b[1;33m>\u001b[0m \u001b[1;36m1\u001b[0m\u001b[1;33m:\u001b[0m\u001b[1;33m\u001b[0m\u001b[1;33m\u001b[0m\u001b[0m\n\u001b[1;32m-> 1403\u001b[1;33m                 raise ValueError(\n\u001b[0m\u001b[0;32m   1404\u001b[0m                     \u001b[1;34mf\"Expected a 1D array, got an array with shape {value.T.shape}\"\u001b[0m\u001b[1;33m\u001b[0m\u001b[1;33m\u001b[0m\u001b[0m\n\u001b[0;32m   1405\u001b[0m                 )\n",
      "\u001b[1;31mValueError\u001b[0m: Expected a 1D array, got an array with shape (2774, 768)"
     ]
    }
   ],
   "source": [
    "\n",
    "if __name__ == \"__main__\":\n",
    "    # Replace 'bert-base-uncased' with any other suitable pre-trained model if needed.\n",
    "    # tokenizer = BertTokenizer.from_pretrained('bert-base-uncased')\n",
    "    # model = BertModel.from_pretrained('bert-base-uncased')\n",
    "    modelname = 'camembert/camembert-base'\n",
    "    model = AutoModel.from_pretrained(\"camembert-base\")\n",
    "    tokenizer = AutoTokenizer.from_pretrained(\"camembert-base\")\n",
    "    \n",
    "    MODE = \"Update\"\n",
    "    \n",
    "    embeddings_file = \"document_embeddings.pkl\"\n",
    "\n",
    "    data_folder = \"./data/Texte/\"\n",
    "    n_results = 5  # Change this value to get a different number of relevant documents.\n",
    "\n",
    "    # Load and process your text data from separate folders.\n",
    "    documents = []\n",
    "    index = []\n",
    "    \n",
    "    listdir = list(os.listdir(\"./data/Texte/\"))\n",
    "    listdir.sort(key=sortfunc)\n",
    "    \n",
    "    for folder_name in listdir:\n",
    "        print(f\"\\r{folder_name}\", end = \"\")\n",
    "        folder_path = os.path.join(data_folder, folder_name)\n",
    "        if not os.path.isdir(folder_path):\n",
    "            continue\n",
    "        for file_name in os.listdir(folder_path):\n",
    "            if file_name == \"full.txt\" :\n",
    "                file_path = os.path.join(folder_path, file_name)\n",
    "                with open(file_path, \"r\", encoding=\"utf-8\") as file:\n",
    "                    text = file.read()\n",
    "                    documents.append(text)\n",
    "                    index.append(int(folder_name))\n",
    "    \n",
    "    df = pd.DataFrame(documents, columns = [\"text\"])\n",
    "    df.index = index\n",
    "    # Get embeddings for all the documents.\n",
    "    if os.path.exists(embeddings_file) and MODE != \"Update\":\n",
    "        print(\"\\nLOADING EMBEDDINGS\")\n",
    "        document_embeddings = load_embeddings(embeddings_file)\n",
    "    else:\n",
    "        print(\"\\nCONVERTING DOCUMENTS INTO EMBEDDINGS\")\n",
    "        document_embeddings = get_document_embeddings_batch(documents, model, tokenizer, df)\n",
    "        save_embeddings(document_embeddings, embeddings_file)"
   ]
  },
  {
   "cell_type": "code",
   "execution_count": 134,
   "metadata": {},
   "outputs": [
    {
     "data": {
      "text/plain": [
       "tensor([[ 0.0420,  0.0376, -0.0085,  ..., -0.0484,  0.0512,  0.0441],\n",
       "        [ 0.0593,  0.0805, -0.0157,  ..., -0.0258,  0.0395,  0.0781],\n",
       "        [ 0.0485, -0.0184, -0.0465,  ..., -0.0457,  0.0394,  0.0570],\n",
       "        ...,\n",
       "        [ 0.0398, -0.0043, -0.0474,  ..., -0.0452,  0.0478,  0.0528],\n",
       "        [ 0.0383, -0.0159, -0.0229,  ..., -0.0343,  0.0216,  0.0570],\n",
       "        [ 0.0424, -0.0213, -0.0600,  ..., -0.0345,  0.0487,  0.0616]])"
      ]
     },
     "execution_count": 134,
     "metadata": {},
     "output_type": "execute_result"
    }
   ],
   "source": [
    "document_embeddings"
   ]
  },
  {
   "cell_type": "code",
   "execution_count": 63,
   "metadata": {},
   "outputs": [
    {
     "data": {
      "text/html": [
       "<div>\n",
       "<style scoped>\n",
       "    .dataframe tbody tr th:only-of-type {\n",
       "        vertical-align: middle;\n",
       "    }\n",
       "\n",
       "    .dataframe tbody tr th {\n",
       "        vertical-align: top;\n",
       "    }\n",
       "\n",
       "    .dataframe thead th {\n",
       "        text-align: right;\n",
       "    }\n",
       "</style>\n",
       "<table border=\"1\" class=\"dataframe\">\n",
       "  <thead>\n",
       "    <tr style=\"text-align: right;\">\n",
       "      <th></th>\n",
       "      <th>Doc</th>\n",
       "      <th>Cos</th>\n",
       "    </tr>\n",
       "  </thead>\n",
       "  <tbody>\n",
       "    <tr>\n",
       "      <th>906</th>\n",
       "      <td>Petit lexique des fleuves\\nnan\\n</td>\n",
       "      <td>0.668709</td>\n",
       "    </tr>\n",
       "    <tr>\n",
       "      <th>157</th>\n",
       "      <td>1-test ressource\\nnan\\nnan</td>\n",
       "      <td>0.642991</td>\n",
       "    </tr>\n",
       "    <tr>\n",
       "      <th>368</th>\n",
       "      <td>La longue marche de solid’arte\\nnan\\nArrêt sur...</td>\n",
       "      <td>0.611183</td>\n",
       "    </tr>\n",
       "    <tr>\n",
       "      <th>1141</th>\n",
       "      <td>Ritualités et transmission : le symptôme commé...</td>\n",
       "      <td>0.536674</td>\n",
       "    </tr>\n",
       "    <tr>\n",
       "      <th>381</th>\n",
       "      <td>La sécurité urbaine : un bien public\\nnan\\nDan...</td>\n",
       "      <td>0.505748</td>\n",
       "    </tr>\n",
       "    <tr>\n",
       "      <th>986</th>\n",
       "      <td>Moncey, pour un aménagement adapté\\nnan\\nTexte...</td>\n",
       "      <td>0.498714</td>\n",
       "    </tr>\n",
       "    <tr>\n",
       "      <th>1045</th>\n",
       "      <td>L’Etat au coeur : le meccano de la gouvernance...</td>\n",
       "      <td>0.488320</td>\n",
       "    </tr>\n",
       "    <tr>\n",
       "      <th>204</th>\n",
       "      <td>Acquérir de nouvelles compétences : quelques p...</td>\n",
       "      <td>0.476472</td>\n",
       "    </tr>\n",
       "    <tr>\n",
       "      <th>347</th>\n",
       "      <td>Lyon, métropole de la lumière\\nnan\\nUsages et ...</td>\n",
       "      <td>0.475257</td>\n",
       "    </tr>\n",
       "    <tr>\n",
       "      <th>388</th>\n",
       "      <td>Deux exemples de stratégie hospitalière visant...</td>\n",
       "      <td>0.471568</td>\n",
       "    </tr>\n",
       "    <tr>\n",
       "      <th>528</th>\n",
       "      <td>La culture est nécessaire pour qu’une collecti...</td>\n",
       "      <td>0.450403</td>\n",
       "    </tr>\n",
       "    <tr>\n",
       "      <th>950</th>\n",
       "      <td>Chercheurs, citoyens : au café (des sciences !...</td>\n",
       "      <td>0.446088</td>\n",
       "    </tr>\n",
       "    <tr>\n",
       "      <th>1163</th>\n",
       "      <td>Technologies éducatives : déjà une longue hist...</td>\n",
       "      <td>0.444601</td>\n",
       "    </tr>\n",
       "    <tr>\n",
       "      <th>742</th>\n",
       "      <td>Logement et « intégration » des minorités ethn...</td>\n",
       "      <td>0.433833</td>\n",
       "    </tr>\n",
       "    <tr>\n",
       "      <th>741</th>\n",
       "      <td>Logement et « intégration » des minorités ethn...</td>\n",
       "      <td>0.425519</td>\n",
       "    </tr>\n",
       "    <tr>\n",
       "      <th>235</th>\n",
       "      <td>Les politiques culturelles : vision prospectiv...</td>\n",
       "      <td>0.423408</td>\n",
       "    </tr>\n",
       "    <tr>\n",
       "      <th>947</th>\n",
       "      <td>Fin de millénaire, l’ère de l’information. Con...</td>\n",
       "      <td>0.421662</td>\n",
       "    </tr>\n",
       "    <tr>\n",
       "      <th>616</th>\n",
       "      <td>Pour une police de la qualité de la vie. L a m...</td>\n",
       "      <td>0.421396</td>\n",
       "    </tr>\n",
       "    <tr>\n",
       "      <th>649</th>\n",
       "      <td>Petit vocabulaire des formes d’engagement\\nnan...</td>\n",
       "      <td>0.420796</td>\n",
       "    </tr>\n",
       "    <tr>\n",
       "      <th>654</th>\n",
       "      <td>Le Grand Rendez-Vous : récit d'un dialogue cit...</td>\n",
       "      <td>0.420060</td>\n",
       "    </tr>\n",
       "  </tbody>\n",
       "</table>\n",
       "</div>"
      ],
      "text/plain": [
       "                                                    Doc       Cos\n",
       "906          Petit lexique des fleuves\\nnan\\n            0.668709\n",
       "157                          1-test ressource\\nnan\\nnan  0.642991\n",
       "368   La longue marche de solid’arte\\nnan\\nArrêt sur...  0.611183\n",
       "1141  Ritualités et transmission : le symptôme commé...  0.536674\n",
       "381   La sécurité urbaine : un bien public\\nnan\\nDan...  0.505748\n",
       "986   Moncey, pour un aménagement adapté\\nnan\\nTexte...  0.498714\n",
       "1045  L’Etat au coeur : le meccano de la gouvernance...  0.488320\n",
       "204   Acquérir de nouvelles compétences : quelques p...  0.476472\n",
       "347   Lyon, métropole de la lumière\\nnan\\nUsages et ...  0.475257\n",
       "388   Deux exemples de stratégie hospitalière visant...  0.471568\n",
       "528   La culture est nécessaire pour qu’une collecti...  0.450403\n",
       "950   Chercheurs, citoyens : au café (des sciences !...  0.446088\n",
       "1163  Technologies éducatives : déjà une longue hist...  0.444601\n",
       "742   Logement et « intégration » des minorités ethn...  0.433833\n",
       "741   Logement et « intégration » des minorités ethn...  0.425519\n",
       "235   Les politiques culturelles : vision prospectiv...  0.423408\n",
       "947   Fin de millénaire, l’ère de l’information. Con...  0.421662\n",
       "616   Pour une police de la qualité de la vie. L a m...  0.421396\n",
       "649   Petit vocabulaire des formes d’engagement\\nnan...  0.420796\n",
       "654   Le Grand Rendez-Vous : récit d'un dialogue cit...  0.420060"
      ]
     },
     "execution_count": 63,
     "metadata": {},
     "output_type": "execute_result"
    }
   ],
   "source": [
    "# Example query.\n",
    "query = \"manger, faim, bouffe\"\n",
    "\n",
    "# Get the most relevant documents.\n",
    "relevant_indices  = semantic_search(query, model, tokenizer, document_embeddings.vectors, n_results)\n",
    "# Print the most relevant documents.\n",
    "res = pd.DataFrame(zip(documents, relevant_indices), columns = [\"Doc\", \"Cos\"]).sort_values(by=\"Cos\", ascending=False)\n",
    "res.head(20)\n",
    "# print(\"Most relevant documents:\")\n",
    "# for i, index in enumerate(relevant_indices):\n",
    "#     print(documents[index])\n",
    "#     print(\"------------------------\")"
   ]
  },
  {
   "cell_type": "code",
   "execution_count": 68,
   "metadata": {},
   "outputs": [
    {
     "data": {
      "text/plain": [
       "'Le marché du tourisme urbain dans les métropoles françaises\\nAtout France a pour missions de promouvoir et développer la marque France à l’international, d’adapter l’oﬀre française à la demande touristique nationale et internationale, d’accompagner les acteurs privés et publics du secteur touristique.Dans cette interview, Sophie Mandrillon et Marie-Laure Desmet évoquent les efforts engagés par les métropoles françaises, et notamment Lyon, pour se positionner sur le marché européen du tourisme urbain.\\n\\n\\nOn sait que le tourisme urbain est en plein essor dans le monde. Quel regard portez-vous sur le marché mondial aujourd’hui\\xa0?Les destinations urbaines constituent effectivement de puissants moteurs de croissance du tourisme dans le monde, à la fois comme émettrices et comme réceptrices de flux touristiques. Elles concentrent une activité économique, administrative, universitaire, une offre de commerce et de loisirs et un patrimoine culturel qui leur permettent de capter une grande partie des flux du tourisme d’affaires, d’agrément et de proximité. Au sein du marché européen, on constate en particulier que l’essor du tourisme urbain profite largement de l’évolution des modes de consommation touristique, et notamment du développement des courts séjours. Les villes correspondent bien à ce type de demande puisqu’elles concentrent, comme on vient de le voir, en un seul lieu une offre d’activités très large. Enfin, la progression du tourisme urbain s’appuie également sur le développement des lignes aériennes « low-cost » ou de liaisons ferroviaires à grande vitesse, qui ont rendu accessibles rapidement et/ou à moindre coût de nombreuses destinations. De plus, l’émergence de la tendance à fractionner ses vacances et la hausse des courts-séjours, a largement profité au tourisme en ville. D’une manière générale, il est important de distinguer l’évolution des marchés de proximité, par exemple la clientèle européenne voyageant au sein de l’Europe, de celle des marchés lointains, c’est-à-dire les clientèles effectuant un voyage longue distance.Pour autant, la croissance du tourisme urbain ne concerne pas tous les types de produits et toutes les régions du monde. L’offre et la demande sont en constante évolution au niveau international. On observe tout d’abord une croissance très forte de la demande asiatique, croissance qui reflète le boom économique de cette région. A contrario, la dynamique de la demande est moins forte en Europe, du fait de la crise bien sûr mais aussi du vieillissement de la population. Du côté de l’offre, on assiste à l’éclosion d’une multitude de nouvelles destinations, en Asie à nouveau, au Moyen-Orient, mais aussi en Europe (notamment en Europe de l’Est) où de plus en plus de villes aspirent à devenir des destinations touristiques. Bilbao ou encore Liverpool en sont des exemples emblématiques. Autrement dit, l’offre de destination s’accroit à une vitesse accélérée, ce qui tend à exacerber la concurrence entre régions et au sein des régions.\\xa0\\xa0Aujourd’hui, comment voyez-vous évoluer la concurrence entre métropoles au sein du marché européen\\xa0?Les métropoles leaders restent globalement les mêmes, avec deux villes hors catégorie que sont Londres et Paris. Pour le reste, il faut rester prudent sur les classements de villes. Ils dépendent des types de variables prises en compte. De plus, chaque ville a son propre système d’observation des clientèles. Le champ d’observation le plus évident est celui de la fréquentation hôtelière pour laquelle nous avons des données relativement homogènes. A cet égard, les travaux du réseau European Cities Marketing (ECM) constituent une réelle avancée et apparaissent comme les plus solides aujourd’hui pour comparer les métropoles européennes. Il faut cependant garder à l’esprit que l’approche par les nuitées marchandes repose sur des données déclaratives et, surtout, laisse le plus souvent de côté les excursionnistes à la journée, ou les séjours dans des hébergements « non marchands » (famille, amis mais aussi hébergements locatifs). Autrement dit, les outils d’observation actuels ne mesurent qu’une partie des flux touristiques qui irriguent les villes. D’une manière générale, nous manquons cruellement d’informations pour évaluer les retombées économiques du tourisme sur les territoires. Le développement des outils d’observation de ces flux et de l’économie qu’ils génèrent constitue à l’évidence un enjeu majeur pour mieux valoriser le tourisme et mieux positionner les villes les unes par rapport aux autres.\\xa0Selon vous, en dehors de Paris, comment se situent les métropoles françaises sur la scène touristique européenne\\xa0?\\xa0La spécificité des villes françaises est qu’elles ont aujourd’hui une visibilité plus faible que celles d’autres pays. On pense notamment à des pays comme l’Allemagne, l’Espagne ou l’Italie qui disposent de plusieurs métropoles régionales bien identifiées et qui sont en capacité de capter des flux touristiques importants. Le constat sur le manque de visibilité est particulièrement notable sur le champ des offres numériques (packages, WE...). Pour autant, certaines villes françaises ont fait des progrès sensibles ces dernières années et ont émergé sur la scène européenne. On peut citer par exemple Nantes, Nice, Montpellier, Marseille, Toulouse, Bordeaux, Lyon, Strasbourg ou encore Lille.\\xa0Les villes françaises n’accusent-elles pas un certain retard par rapport à d’autres métropoles européennes dans la prise en compte des enjeux touristiques\\xa0?D’une manière générale, il faut se rappeler que les villes ont longtemps été perçues comme des lieux de travail, comme des lieux dissociés des lieux de loisirs. De même, le phénomène touristique a pu apparaitre comme noyé dans la vie urbaine, passant plutôt inaperçu ou pouvant paraitre négligeable. Or, tel n’est plus le cas aujourd’hui. Tout d’abord, depuis plus de vingt ans, les villes européennes sont engagées dans de multiples démarches visant à améliorer la qualité de vie urbaine. Une illustration de cette évolution est le lancement de travaux de restructuration et de valorisation des centre-villes et de leur patrimoine. En France, Lyon et Bordeaux, mais aussi Lille, Nice, Toulouse, Rennes et d’autres en sont de magnifiques exemples. L’économie touristique a pris appui sur cette préoccupation pour la qualité de vie et s’est développée à partir de cette mise en valeur. Les villes ont en retour pris conscience qu’elles pouvaient être agréables et attractives non seulement pour leurs habitants mais également pour une clientèle de loisirs. Aujourd’hui, on assiste à un approfondissement de cette logique dans la mesure où les villes réalisent que leur attractivité économique comme résidentielle dépend aussi de leur attractivité touristique. Il y a un effet cumulatif qui laisse à penser que l’intérêt des villes pour le tourisme va s’amplifier à l’avenir.Pour répondre à votre question, la prise de conscience de l’enjeu touristique a été effectivement plus tardive en France que dans d’autres métropoles européennes. Toutefois, les choses sont en train d’évoluer rapidement. Nombre de villes se sont emparées de la question touristique. Les élus\\xa0 prennent conscience que le tourisme constitue un enjeu de premier plan non seulement en termes de retombées économiques mais aussi d’attractivité globale. Ils portent un discours de plus en plus mobilisateur sur le sujet. La mobilisation de Metz suite à l’arrivée du Centre Pompidou est un bon exemple de cela. Nantes est un autre exemple de volontarisme politique en faveur du tourisme. Sur un plan opérationnel, les villes sont en train de renforcer les compétences de leur office de tourisme pour développer leur attractivité touristique. Dans les grandes villes, les offices de tourisme tendent à devenir de véritables agences de développement prenant en charge non seulement l’accueil des touristes mais également le développement et la promotion de l’offre, voire l’exploitation d’équipements (musées, ...). Pour autant, on observe de grandes disparités au niveau des moyens alloués aux offices de tourisme d’une ville à l’autre. A cet égard, on voit bien que l’amélioration de l’évaluation des retombées économiques du tourisme que l’on évoquait précédemment pourrait permettre d’accélérer et d’amplifier la mobilisation politique dans certaines villes. Il y a encore un besoin de faire la démonstration de l’effet d’entrainement du tourisme sur l’économie locale.\\xa0Quel regard portez-vous justement sur les initiatives de l’office de tourisme de Lyon ces dernières années\\xa0?\\xa0De notre point de vue, Lyon est l’une des premières destinations urbaines non historiquement touristiques en France, à avoir développé une démarche de développement touristique ambitieuse, portant à la fois sur l’offre et la demande. L’office du tourisme de Lyon apparait tout d’abord comme professionnel et innovant et nombre de ses initiatives sont reprises ailleurs. Citons la mise en place des greeters, le panier dynamique de la centrale de réservation, son city pass numérique intégrant transport en commun et VLS.... La ville de Lyon est également souvent citée en matière de réflexion marketing. Elle a ainsi été la première ville en France à expérimenter\\xa0 le city branding ou marque de destination partagée. En termes de lisibilité et de visibilité, Only Lyon constitue réellement un outil très puissant tout en institutionnalisant finalement le fait que le tourisme est une composante forte de l’attractivité globale. Lyon parait ainsi avoir un temps d’avance sur les autres métropoles françaises, même si la dynamique est aujourd’hui collective.On sent également à Lyon une volonté de raisonner et de se positionner à l’échelle européenne. C’est l’une des rares villes françaises à participer au réseau ECM dont nous avons parlé tout à l’heure. Il y a une démarche construite et déterminée pour faire exister la destination Lyon sur la scène internationale. C’est essentiel lorsque l’on sait que pour ce qui concerne le tourisme urbain, ce sont les clientèles internationales qui portent la croissance. On peut noter aussi qu’à l’opposé de cette ambition internationale, Lyon a fait preuve d’un fort investissement sur la clientèle de proximité avec le site internet « mon week-end à Lyon ». Là encore, cette démarche est importante aujourd’hui, où les habitants sont de plus en plus touristes sur leur propre territoire. On notera enfin, et c’est un des préalables au développement, que la démarche est portée au niveau politique. Jean-Michel Daclin, l’élu en charge de ces questions au Grand Lyon, a bien compris les enjeux du tourisme et il s’en fait un très bon porte-parole. Il porte également une vision de la destination Lyon.\\xa0Quelles pourraient être les lacunes de la politique touristique lyonnaise aujourd’hui\\xa0? Comme on vient de le voir, l’office de tourisme est aujourd’hui très performant dans sa mission de promotion de la destination Lyon. Il pourrait cependant pousser plus loin la réflexion concernant le contenu de l’offre et sa qualité (hébergements,\\xa0 équipements, transports, etc.). Une piste à étudier aussi pourrait consister à répondre à l’évolution de la demande internationale qui souhaite faire l’expérience de « vivre à la française\\xa0». Sur ce point, Lyon aurait sans doute une belle carte à jouer. Par ailleurs, Lyon pourrait aussi s’inspirer de Nantes au niveau du travail de fédération des différents acteurs concernés par le tourisme autour d’un projet commun et d’une nouvelle lecture de la ville. C’est l’une des difficultés du tourisme : il n’y pas un acteur qui maitrise l’ensemble des composantes du produit et la communication qui en est faite. Le contenu d’une destination dépend de l’implication et de l’articulation de multiples acteurs. Et si un maillon fait défaut, par exemple si un touriste a une mauvaise expérience dans un commerce ou un taxi, cela rejaillit sur tous les autres maillons.Or, on observe que les commerçants peuvent se sentir éloignés de la question touristique alors qu’elle les concerne directement. De même, pour les sociétés de transports publics urbains, on se rend compte que les touristes sont parfois complètement absents des préoccupations en termes de produits, dessertes, services, information.... Tout cela pour dire que l’un des enjeux de demain pour les villes est d’arriver à attiser la «\\xa0conscience touristique\\xa0» des acteurs et de fédérer et de mettre en cohérence toute cette chaine de services et de produits autour d’un positionnement et d’une feuille de route. La responsabilité de l’attractivité touristique serait ainsi plus largement partagée, avec une répartition des tâches entre les partenaires.\\xa0Vous évoquiez précédemment l’idée d’une convergence entre attractivité touristique, économique et résidentielle. Pouvez-vous nous en dire plus\\xa0? En effet, on se rend compte que certaines métropoles sont en train de passer à une nouvelle étape dans le pilotage de leur attractivité. Elles développent désormais une stratégie globale d’attractivité de la ville dans laquelle les différentes facettes, touristique, résidentielle, économique entrent en résonance les unes avec les autres et se renforcent mutuellement. Ainsi, le tourisme devient une préoccupation partagée par l’ensemble des acteurs intervenant dans l’attractivité de la métropole. En Europe, Londres et Amsterdam sont emblématiques de cette évolution. Ces deux métropoles ont fusionné leurs différentes agences de développement et d’attractivité.En France, nous n’en sommes pas encore là mais nous assistons à des rapprochements fertiles. Notamment entre tourisme et culture comme à Nantes où les services en charge de la gestion des équipements culturels ont fusionné avec l’office de tourisme pour favoriser la construction d’un projet global de destination. On voit également émerger des stratégies plus intégrées. Lyon est un bon exemple avec sa marque partagée. Saint-Etienne également développe une stratégie d’attractivité globale dont le tourisme est une des composantes. Ces stratégies sont l’occasion de mieux travailler ensemble, de concevoir de nouveaux produits, d’échanger des personnels afin que chacun comprenne mieux les problématiques quotidiennes des autres, et de créer de la valeur. Ces démarches privilégiant une approche globale nous paraissent essentielles pour l’avenir car bien souvent les activités des uns servent celles des autres et de nombreuses voies restent à explorer (n’oublions pas que les habitants ou les étudiants sont aussi des touristes ou encore que les touristes peuvent devenir des habitants, des étudiants voire des investisseurs...).\\xa0Toujours sur ce registre de convergence des efforts en matière d’attractivité touristique, le renforcement des destinations métropolitaines ne se joue-t-il pas aussi dans la valorisation des attraits des territoires alentours\\xa0? Pour nous c’est une évidence. Dans le contexte français, votre question renvoie à la problématique de l’articulation entre les offices de tourisme urbains et les comités départementaux et régionaux du tourisme mais aussi de coopération entre territoires voisins. Cette articulation fonctionne plus ou moins bien selon les territoires et leur organisation administrative. Dans certains d’entre eux, les villes apparaissent comme des phares et des portes d’entrée de la région sur lesquels il faut s’appuyer pour valoriser l’ensemble du territoire. On est alors dans une logique gagnant-gagnant. En revanche, dans certains cas, il peut y avoir des visions différentes et la thématique du tourisme urbain être insuffisamment valorisée.De notre point de vue, cette seconde approche est plutôt une erreur parce que les villes sont partout des portes d’entrée vers les territoires alentours. Nos enquêtes ont en effet bien montré qu’environ la moitié des touristes urbains sortent des villes pour visiter les environs au cours de leur séjour et à l’inverse, les personnes en séjour sur un territoire élargi vont visiter les villes. Une destination urbaine telle que nous l’avons décrite dans nos publications se compose de trois dimensions : la ville culturelle, avec son patrimoine, ses musées, ses évènements ; la ville générique, c’est-à-dire les commerces, les restaurants, les services ; et l’espace alentour qui vient compléter l’offre touristique. Reims sans le Champagne, est-ce que ce serait la même chose ? Et Nice sans la Côte d’Azur ? Les villes et les territoires alentours sont fortement complémentaires. Certains territoires en Europe l’ont bien compris. Des villes comme Amsterdam ou Lisbonne jouent de cette combinaison en valorisant des visites à l’extérieur de la ville, un accès à l’océan, etc. Cette complémentarité permet d’élargir la palette de l’offre et donc de proposer des perspectives de séjours plus étoffées. C’est encore plus important en France où les villes sont plutôt plus petites que leurs homologues européennes.Positionner les villes comme des hubs à partir desquels il est possible de construire des « séjours en étoile » rayonnant vers l’espace alentour constitue une véritable opportunité pour rallonger la durée des séjours, dont on sait qu’elle est plus courte en France qu’ailleurs. Ceci est d’autant plus valable pour la clientèle en provenance de marchés lointains qui est plus encline à faire de longs déplacements dans la journée. Ce travail de coopération et de complémentarité est engagé notamment grâce aux instruments offerts par les réformes territoriales (EPCI, pôles métropolitains...). Il reste largement à construire mais il est nécessaire compte tenu de la nécessité de faire émerger des destinations fortes et visibles.\\xa0Aujourd’hui, quels sont les grands attracteurs touristiques, ceux pouvant déclencher un voyage dans telle ou telle métropole\\xa0?\\xa0La culture reste un élément essentiel de l’attractivité touristique des métropoles. Bilbao et le musée Guggenheim, l’ouverture d’une antenne du Louvre à Lens et du Centre Pompidou à Metz, le projet\\xa0\\xa0 Le voyage à Nantes\\xa0» autour de la création artistique, Lille 3000, Marseille capitale de la culture en 2013 nous avons d’innombrables exemples qui font la démonstration de l’effet d’entrainement de la culture pour le tourisme. Le patrimoine, les équipements et les événements culturels constituent incontestablement un fort levier d’attractivité touristique. Rappelons que, pour un touriste étranger sur deux, la culture et le patrimoine sont la première motivation d’un voyage en France. De ce point de vue, les différents labels culturels, comme le patrimoine mondial de l’Unesco, les capitales européennes de la culture, etc. jouent un rôle d’accélérateur dans le rayonnement culturel et touristique des métropoles, à condition bien évidemment de l’inscrire dans une stratégie d’ensemble. A Lille, on considère qu’avoir été capitale européenne de la culture a fait gagner dix ans à la ville en termes de notoriété.L’évènementiel constitue un autre élément d’attractivité majeur. Il peut s’inscrire dans le champ culturel, mais pas nécessairement. Un événement sportif, ludique, etc. peut également drainer des visiteurs. Un troisième levier d’attractivité important réside dans l’image de marque de la ville. C’est tout l’enjeu du city branding. Par exemple, Bordeaux joue beaucoup sur la renommée de ses vins pour thématiser la ville. Enfin, on peut évoquer le fait que les villes semblent d’autant plus attractives sur le plan touristique que leurs habitants sont fiers de leur ville, convaincus de vivre dans un endroit de qualité. On aura d’autant plus envie de venir dans une ville que celle-ci est portée par ses habitants. En ce sens, l’effort de mobilisation que l’on évoquait tout à l’heure peut/doit aussi être étendu aux habitants eux-mêmes afin de renforcer la culture d’accueil du territoire et proposer de nouvelles expériences.\\xa0\\xa0 '"
      ]
     },
     "execution_count": 68,
     "metadata": {},
     "output_type": "execute_result"
    }
   ],
   "source": [
    "res.Doc[50]"
   ]
  },
  {
   "attachments": {},
   "cell_type": "markdown",
   "metadata": {},
   "source": [
    "# AVEC TF-IDF"
   ]
  },
  {
   "cell_type": "code",
   "execution_count": 156,
   "metadata": {},
   "outputs": [],
   "source": [
    "from sklearn.feature_extraction.text import CountVectorizer\n",
    "\n",
    "data_folder = \"./data/Texte/\"\n",
    "documents=[]\n",
    "nom_docs=[]\n",
    "for folder_name in os.listdir(data_folder):\n",
    "    # print(folder_name)\n",
    "    folder_path = os.path.join(data_folder, folder_name)\n",
    "    if not os.path.isdir(folder_path):\n",
    "        continue\n",
    "    for file_name in os.listdir(folder_path):\n",
    "        # print(file_name)\n",
    "        if file_name == \"texte.txt\":\n",
    "            file_path = os.path.join(folder_path, file_name)\n",
    "            with open(file_path, \"r\", encoding=\"utf-8\") as file:\n",
    "                text = file.read()\n",
    "                documents.append(text)\n",
    "                nom_docs.append(folder_path.split('/')[3])\n",
    "                # print(folder_path.split('/')[3], text)\n",
    "vectorizer=CountVectorizer(lowercase=False)\n",
    "nOcc=vectorizer.fit_transform(documents)\n",
    "nOcc=pd.DataFrame.sparse.from_spmatrix(nOcc,index=nom_docs,columns=vectorizer.get_feature_names_out())"
   ]
  },
  {
   "cell_type": "code",
   "execution_count": 172,
   "metadata": {},
   "outputs": [],
   "source": [
    "query = vectorizer.transform([\"musique art culture\"]) #Process (lemmatize + stopwords)\n",
    "\n",
    "similarities = cosine_similarity(query, nOcc)\n",
    "\n",
    "# Classement des documents en fonction de leur similarité avec la requête\n",
    "sorted_indices = similarities[0]\n",
    "sim = pd.DataFrame(sorted_indices, nom_docs).sort_values(by=0, ascending=False)"
   ]
  },
  {
   "cell_type": "code",
   "execution_count": 185,
   "metadata": {},
   "outputs": [
    {
     "name": "stdout",
     "output_type": "stream",
     "text": [
      "Lyon et la question des « arts »\n",
      "nan\n",
      "Interroger les singularités de l'identité culturelle lyonnaise ne peut se faire sans que l'on revisite les différentes acceptions qu'a pu revêtir le terme \" art \". Le terme a été référé initialement au champ de l'utilité? bien avant de désigner celui de la spéculation intellectuelle ou celui du beau et du désintéressement. La question se pose de savoir si, à l'orée du 21e siècle, Lyon peut mettre ses institutions au service d'une actualisation des trois sens du terme.Sommaire :1 Pourquoi Lyon n’a pu servir la cause des «  arts libéraux »Mais tout d’abord qu’appelle-t-on « arts libéraux » ?Pourquoi Lyon ne s’est-elle pas illustrée dans les « arts libéraux » ?2 Pourquoi Lyon a remarquablement servi la cause des « arts mécaniques », mais sur un mode éminemment paradoxal Les « arts  mécaniques, arts de transformation de la matièreMais un double paradoxe ne peut pas ne pas être relevéLe contre-exemple nancéen3 Pourquoi Lyon a servi la cause des « beaux-arts » sur un mode qui lui est « étranger » 4 Qu’en est-il, aujourd’hui, du génie du lieu ?La confirmation de la longue et riche tradition des « arts mécaniques »Une  conversion tardive mais significative aux « arts libéraux »Un nouvel âge des « beaux-arts » ?Vers la combinaison « faste » : « arts mécaniques », « arts libéraux », « beaux-arts » ? \n",
      "----------------------\n",
      "La place de l'art dans l'enseignement\n",
      "Docteur en sciences politiques (IEP de Paris), membre fondateur de Aporss (Association pour la Promotion et l’Organisation de la Recherche en Sciences Sociales), de l’agence FRV100 et directeur artistique de l’Ensemble Boréades, Pierre-Alain Four a rédigé une thèse de sciences politiques portant sur la genèse des Frac (Fonds régionaux d’art contemporain), sur leur insertion dans le monde de l’art et sur l’analyse de leurs collections. Il s’est ensuite spécialisé dans l’étude des politiques publiques culturelles et notamment celles consacrées à l’art contemporain. Il s’intéresse par exemple aux interactions entre artistes plasticiens et politiques publiques, aux ateliers de pratiques artistiques et à leur influence dans la perception de l’art. Plus largement, il travaille sur l’apparition d’objets artistiques dissonants dans le paysage culturel, c’est-à-dire produits hors des cadres ordinaires de légitimation. Par ailleurs, Pierre-Alain Four a été le correspondant du Journal des Arts (compte rendu d’exposition, politique culturelle) et a aussi été chargé de cours à l’Université de Montpellier III et à l'école des Beaux-Arts de La Réunion. Il est actuellement chargé de cours au sein du Master Direction et Développement des projets culturels, Université Lumière-Lyon 2. Il développe en parallèle à ses activités d’étude et de recherche une activité artistique au sein de l’Ensemble Boréades, où il assure la direction artistique, l’écriture et la mise en scène de concerts-spectacles, en lien avec l’art contemporain.L'agglomération lyonnaise fait de plus en plus valoir sa situation de métropole innovante et créative, c'est-à-dire une métropole où les sciences, les techniques et les arts sont particulièrement dynamiques. L'économie de la connaissance se développe : nouvelles modalités de production du savoir, approches innovantes et multidisciplinaires de plus en plus privilégiées et recommandées, dialogue sciences-société... Mais il semble encore difficile pour un professionnel -industriel, chercheur, artiste, politique, etc.- de sortir de la discipline pour laquelle il a été formé et de développer des capacités de dialogue avec des professionnels de spécialités différentes, dans une autre « langue » que la sienne. Ces nouvelles pratiques ne s'improvisent pas. Dans ce contexte, nous nous sommes intéressés en particulier à l'art et à son apprentissage.Après avoir exploré les relations arts-sciences, nous abordons ici les questions suivantes : quelle est la place de l'art dans l'enseignement ? Au-delà des formations artistiques, la pratique des arts pourrait-elle enrichir l'enseignement d'autres disciplines ?\n",
      "\n",
      "\n",
      "Le monde actuel semble exiger toujours plus d'innovation, de créativité, pensez-vous que nous y sommes préparés ?Dans une certaine mesure, oui, car on apprend de plus en plus aux enfants, aux collégiens, lycéens et étudiants à être autonomes, à mener des projets par eux-mêmes, à trouver des solutions à un problème. Par contre, on conceptualise assez mal ce processus, on ne le nomme pas. On pourrait davantage insister, valoriser le fait qu’être mis en situation de trouver une solution est un mode d’apprentissage opérationnel, dérivé de l’attitude qu’ont les chercheurs ou les artistes. Cela incite à découvrir des solutions par soi-même, des solutions qui ne sont pas forcément celles que pourraient proposer un enseignant. Dans ce cas de figure, on est assez proche d’une démarche artistico-scientifique qui consiste à apporter des propositions sinon novatrices ou originales, du moins personnelles, à un problème donné. Ceci ne veut pas dire que les réponses sont « artistiques », c’est la démarche qui l’est : on peut être mis en situation d’innover, ou de trouver une réponse, et y arriver. L'art a-t-il une place dans l'enseignement primaire et secondaire ?À l'école maternelle, on envisage les arts comme une matière à part entière, une matière comme une autre, à même de développer certaines aptitudes et traits de la personnalité, tels que la créativité, l'autonomie, l'esprit critique, etc. En termes de pratique, les arts gagneraient à être banalisés, à être considérés comme une activité obligatoire et ordinaire… La danse qui est parfois pratiquée dans les  écoles maternelles, a de nombreuses vertus éducatives. Par exemple, elle permet de travailler le maintien du corps, l'apprentissage du rythme, la discipline, etc. Cela ne veut pas dire que tout le monde sera danseur professionnel ! Ni que l’on instrumentalise une discipline, simplement elle peut apporter sa propre dimension à l’éducation des enfants.Ensuite, le système scolaire fait beaucoup moins de place aux arts, en tant que mode d’apprentissage. Au delà de la maternelle, il n’existe pratiquement plus rien. Il y a de rares classes à horaires aménagés qui permettent par exemple d’apprendre la musique (chant ou instrument), mais on est déjà dans une dimension très spécifique, on y apprend à faire de la musique, beaucoup plus qu’on utilise la musique pour ses dispositions particulières telles que la relation aux autres par l’écoute ou encore la capacité à placer sa voix, etc. Finalement, l’art à l’école demeure dans « une case » qui est celle qui lui est assignée dans la société : un petit monde à part, exotique et marginal. Il n’y a pas que je sache de cours d’histoire qui reposerait sur l’analyse des représentations d’un événement via la peinture. Or pour bon nombre d’événements historiques, la media iconographique est essentiel. Pourquoi ne pas apprendre à lire les images, pour comprendre, par exemple, comment le pouvoir se représente? Côté enseignement supérieur, l'enseignement de l'art est-il toujours distinct des autres formations ou peut-on suivre des cursus « mixtes » ?Il semble que l'enseignement supérieur soit encore relativement cloisonné. Il existe peu de passerelles entre les disciplines : on peut suivre successivement des cursus scientifiques puis artistiques, mais rarement les deux en parallèle. Or, il serait parfois utile de mettre la casquette de l'artiste... On peut par exemple s’étonner que les études de droit ne comportent pas d'ateliers d'écriture, de diction, de théâtre, que les étudiants se destinant au métier de professeur n'aient pas de cours d'expression, de « mise en scène » du savoir, etc. Aucun chercheur n'apprend à parler en public, encore moins à mettre en spectacle des notions complexes, alors que placer sa voix, s'exprimer sans notes, travailler également le support multimédia d'une communication ne pourraient qu'être bénéfique à la transmission des idées énoncées. Il existe pourtant des services culturels au sein des Universités...En effet, mais on est là dans des dispositifs qui cherchent à réduire les inégalités d’accès à la culture. De plus, on sait depuis longtemps que la proximité ne lève que très partiellement les freins à la consommation culturelle. Avoir la possibilité de visionner des films, d'assister à des pièces de théâtre ou à des concerts sur place ne diversifie pas nécessairement le public… Les étudiants qui ont des habitudes de consommation seront les premiers à utiliser ces dispositifs, les autres en demeureront éloignés. Et il ne s’agit pas là d’un apprentissage artistique, et encore moins de la mise en œuvre d’un raisonnement artistique. Autrement dit, il faut distinguer les dispositifs de soutien à la consommation culturelle, de ceux qui permettent l’étude des arts et de ceux qui viseraient à tirer parti de l’art pour explorer d’autres disciplines.Il existe cependant des cursus un peu plus ouverts, comme ceux qui forment les ingénieurs à l’Insa, et qui intègrent des savoirs artistiques. C’est un peu un retour à la case départ, où on enseigne « les humanités » qui dans l’idéal ne distinguent pas les arts des sciences. Les écoles d'architecture et les formations au design semblent elles faire exception, mais c’est aussi que de tels cursus forment des professionnels qui seront nécessairement en lien avec la technique et la créativité. Quels sont les freins à l’expansion de la place de l'art dans l'enseignement supérieur ?    Ce sont les mêmes que ceux qui freinent le dialogue arts et sciences  : une approche cartésienne du savoir, une approche par discipline qui demeure la règle, une « sanctuarisation » de l'art et de la création qui reste dans une sphère à part et ne sont pas mis au service d'autres projets, une vision idéalisée de l'artiste et de l'art où l'inspiration et « l’inné » prennent le pas sur l'apprentissage... L'agglomération lyonnaise a-t-elle des atouts en matière de formation aux métiers créatifs ?En effet, en raison des industries liées aux arts appliqués (soie, gravure sur métal, etc.) présentes en Rhône-Alpes, de nombreuses formations liées aux « arts industriels » y ont été développées. La première école spécialisée, ancêtre des Beaux-arts, a été créée à Lyon en 1756. Il faut aussi remarquer que se sont installées plus récemment, plusieurs lieux de formations artistiques. Il y a aujourd’hui de très nombreuses écoles d’enseignement supérieur artistique. La question est de savoir comment les intégrer ou du moins assurer des échanges avec l’université et les grandes écoles. Tout est encore très compartimenté. Or, on pourrait imaginer que les écoles d'art –École Nationale des Beaux-Arts de Lyon, École Nationale Supérieure des Arts et Techniques du Théâtre (Ensatt), Conservatoire National Supérieur de Musique et de Danse (CNSMD)– rejoignent la vingtaine d'établissements composant le PRES, et notamment l’École d'Architecture et l’École Nationale des Travaux Publics de l'État qui en font déjà partie.   Quelles pourraient être les évolutions possibles ? Comment faire bouger les choses ?Tout ce qui concourt à montrer que l’art a une utilité sociale, qu’il est générateur d’idées, de productions de connaissances sous-exploitées ira dans le bon sens. Il faut arriver à arrimer l’idée que notre développement, que la pérennité de notre société, passe par une croissance qui repose sur l’intelligence et que celle-ci se trouve dans de très nombreuses productions humaines… \n",
      "----------------------\n",
      "Arts appliqués : la mise en place des écoles d’art et des musées\n",
      "nan\n",
      "Les arts appliqués constituent un des éléments moteurs de la croissance des agglomérations de Lyon et de Saint-Étienne à partir de la fin du XVIIIe siècle. En effet, ces villes ont développé des savoir-faire extrêmement puissants et sophistiqués en relation avec l’industrie dans les domaines de la soie, de la passementerie, des armes, des cycles, etc. Ces activités ont connu, au cours des deux siècles passés, de multiples bouleversements, qui se traduisent notamment dans les institutions de formations et dans celles destinées montrer les productions. Les fabricants et les industriels ayant besoin d’une main d’œuvre très qualifiée et capable de s’adapter aux contraintes de la production en série, ont souvent financé les premières écoles d’application, qui sont ensuite passées dans le giron public. Ces écoles formaient alors des « artistes industriels », qui ont aussi cherché à faire valoir un point de vue détaché des contingences de la production en série, contribuant à faire évoluer les écoles appliquées en écoles d’art. Par ailleurs, ces villes et leurs notables ont éprouvé le besoin de rendre compte de leur identité, en soutenant des musées qui leur permettent à la fois de montrer qui ils sont et de contribuer à la formation des artistes industriels. Les musées à leur tour ont connu différentes évolutions, certains demeurant des institutions pilotées parles institutions économiques, d’autres allant plus ouvertement vers les beaux-arts et un fonctionnement financé par les collectivités publiques. Les dates marquantes compilées ici retracent les grandes étapes du développement des écoles d’art et des musées de Lyon et de Saint-Étienne. Elles permettent d’obtenir des repères sur les épisodes marquant de l’histoire de ces institutions. XVIIe siècle1676 : Louis XIV autorise la création d’écoles académiques en province placée sous l’autorité de l’Académie royale de Paris.XVIIIe siècle1756 : À Lyon, une «société de douze amateurs » crée l’École gratuite de dessin pour le progrès des arts et celui de la manufacture. Cette école a pour vocation de former des dessinateurs travaillant pour les soieries lyonnaises. Les professeurs sont nommés et désignés par l’Académie royale. Elle est installée Place du change.1769 : Sous le Consulat, l’École gratuite de dessin devient l’École royale académique de dessin et géométrie.XVIIIe : Pendant toute cette période, des cours de gravure, de sculpture, de ciselure se développent dans les divers ateliers stéphanois. Ces ateliers sont dirigés par des artisans renommés, comme Jacques Olagnier, qui fut le premier à créer un cours d’enseignement artistique. De nombreux graveurs s’y forment, et notamment Augustin Dupré.1780 : À Lyon, l’École royale académique de dessin et géométrie devient l’École royale gratuite. 1796 : Inauguration d’une École centrale dite Conservatoire des arts dans l’ancienne Abbaye des dames bénédictines de Saint-Pierre (place des Terreaux à Lyon). 1799 : Une école spéciale de dessin pour la fleur, formant des artistes se destinant aux manufactures, est ouverte à Lyon.XIXe siècle1801 : Création par décret consulaire du Musée des beaux-arts de Lyon.1803 : Le Musée des beaux-arts de Lyon s’installe au Palais Saint-Pierre, le couvent de Bénédictines de la Place des Terreaux qui avait été réquisitionné à la Révolution. Les premières œuvres du musée sont issues de la confiscation d’œuvres saisies dans les églises. Par la suite, la collection du musée s’étoffe des confiscations faites par Napoléon en Italie. 1803 : Des cours de dessin sont dispensés dans la sacristie de l’ancien Couvent des Minimes (actuelle église Saint-Louis à Saint-Étienne).1805 : L’École de dessin de Saint-Étienne est transférée dans un immeuble communal sur la place de l’Hôtel de Ville.1807 : L’École royale académique de dessin et de géométrie de Lyon est transférée dans les locaux du Palais Saint-Pierre et prend le nom d’École nationale des beaux-arts de la Ville de Lyon. On y enseigne la peinture pour la figure, la peinture pour la fleur, l’architecture et les ornements, la sculpture mais aussi la mise en carte pour la soierie. 1815 : Une salle consacrée à la peinture de fleurs, le Salon des fleurs, est ouverte au Musée des beaux-arts de Lyon. Elle vient en complément à la formation des artistes de l’école de dessin, qui y trouvent là une source d’inspiration. 1833 : Création par un groupe d’industriels stéphanois du Musée de la fabrique. Ce musée est à la fois la vitrine et le lieu de conservation des productions de l’industrie d’art de Saint-Étienne. 1840 : Fermeture du « Salon des fleurs » du Musée des beaux-arts de Lyon.1848 : L’École royale et spéciale de dessin et des beaux-arts de la ville de Lyon prend le nom d’École nationale des beaux-arts. On y enseigne la peinture, la sculpture, l’architecture, la gravure et la lithographie, l’anatomie et la physiologie des formes appliquées aux beaux-arts, l’histoire de l’art, l’archéologie, la géométrie pratique, la géométrie descriptive, la stéréotomie et la perspective.  1851 : Une galerie consacrée aux artistes lyonnais est ouverte au Musée des beaux-arts de Lyon. Jusqu’en 1880, de nombreuses toiles de l’école lyonnaise seront acquises par le musée.1851 : Le Musée de la fabrique de Saint-Étienne s’enrichit de la collection d’armes du Maréchal Oudinot. 1857 : Le Conseil municipal de Saint-Étienne approuve le projet de l’architecte Etienne Boisson pour la construction d’une école de dessin sur le clos Giraud, actuel emplacement de l’École régionale des beaux-arts.1858 : Création à Lyon de l’École de dessin pour dames et demoiselles qui fonctionnera jusqu’en 1953. 1859 : L’École de dessin de Saint-Étienne ouvre ses portes.1861 : L’ensemble de la collection du Musée de la fabrique de Saint-Étienne est installé au Palais des arts.1864 : Création du musée d’art et d’industrie de Lyon par la Chambre de commerce au second étage du Palais de la bourse. De ce musée naîtront deux musées distincts : le Musée des tissus et le Musée des arts décoratifs. 1876 : Les cours de dessin de l’École nationale des beaux-arts sont dispensés dans les écoles municipales de dessin de Lyon. Ces écoles sont destinées aux ouvriers et apprentis afin qu’ils acquièrent les connaissances de dessin et de modelage indispensable à leur profession. À la fin du XIXe, on compte 7 écoles de dessin municipales. 1878 : Le Musée des beaux-arts de Lyon est rénové et étendu. 1884 : L’École de dessin de Saint-Étienne prend le nom d’Ecole régionale des arts industriels. Sont adjoints à l’enseignement artistique des enseignements scientifiques et techniques. On y enseigne l’architecture, l’anatomie, l’histoire de l’art, le dessin, la sculpture, la peinture décorative, la gravure et la ciselure, le dessin géométrique, la mise en carte, le tissage, la mécanique et la géométrie. 1889 : Création du Musée des arts et de l’industrie à Saint-Étienne. Marius Vachon, après une enquête en France et en Europe sur les musées et les écoles d’art, constate le retard Français en matière d’apprentissage et de formation artistique dans les métiers d’art. Il propose alors de restructurer le Musée de la fabrique pour en faire un véritable Musée d’art et industrie, qui se conçoit comme un lieu de conservation et de formation, destiné aux artistes stéphanois, aux dessinateurs de rubans et graveurs sur armes, issus de l’École régionale des arts industriels. Un bâtiment néo-classique magnifiquement situé sur Saint-Étienne est construit pour installer le Musée des arts et de l’industrie. Il est toujours en usage aujourd’hui. 1891 : Le Musée d’art et d’industrie de la Ville de Lyon se spécialise sur les étoffes et devient le Musée des tissus. Il demeure néanmoins dans les locaux du Palais de la bourse. XXe siècle1924 : L’École régionale des arts industriels de Saint-Étienne prend le nom d’École régionale des beaux-arts.1925 : Un groupe d’industriels mécènes achète l’hôtel particulier Lacroix-Laval, rue de la Charité à Lyon, pour y installer le Musée des arts décoratifs, qui demeure placé sous la houlette de la Chambre de commerce et d’industrie de la ville. 1945 : Le Musée des tissus est transféré du Palais de la bourse à l’Hôtel de Villeroy rue de la charité.1960 : L’École nationale des beaux-arts de Lyon s’installe rue Neyret, dans un bâtiment construit à cet usage.1976 : La Ville de Lyon créé l’Espace lyonnais d’art contemporain (Elac).1984 : Une section art contemporain est créée au Musée des beaux-arts de Lyon.1984 : Première édition d’Octobre des arts, événement annuel dédié à l’art contemporain, placé sous l’autorité de la section art contemporain du Musée des beaux-arts. Octobre des arts présente de très nombreuses expositions dans l’agglomération lyonnaise. 1988 : Dernière édition d’Octobre des arts à Lyon.1988 : La section art contemporain du Musée des beaux-arts de Lyon devient un Musée d’art contemporain autonome reconnu par la Direction des musées de France (DMF).1980 : À la fin des années 1980, la collection du Musée d’art et d’industrie de Saint-Étienne est éclatée en trois lieux différents. Ne restent dans le bâtiment d’origine que les collections consacrée à l’art industriel : armes, cycles et rubans. 1987 : Création du Musée d’art moderne de Saint-Étienne dans un bâtiment dessiné par l’architecte Didier Guichard. Ce musée possède une des plus importantes collections d’art contemporain et de design de France (donateurs multiples). 1991 : Première édition de la Biennale d’art contemporain de Lyon. Elle est organisée par le conservateur du Musée d’art contemporain, via une association spécifique. 1995 : Inauguration du bâtiment abritant le Musée d’art contemporain de Lyon, dessiné par l’architecte Renzo Piano, sur le nouveau quartier de la Cité internationale.1998 : La rénovation du Musée des beaux-arts de Lyon, qui s’est étalée sur plusieurs années, prend fin. Elle a été financée conjointement par l’Etat et la Ville de Lyon. Le Musée des beaux-arts comprend alors cinq départements : antiquités, objets d’art, arts graphiques, peintures, sculptures. Il illustre toute l’histoire de l’art occidental.1998 : Première édition de la Biennale internationale du design de Saint-Étienne. Elle est alors organisée par l’École régionale des beaux-arts de Saint-Étienne. 2001 : Réouverture du Musée d’art et d’industrie de Saint-Étienne après de nombreuses années de travaux.2006 : La Biennale internationale du design de Saint-Étienne est placée sous la responsabilité de la Cité du design.2007 : L’École nationale des beaux-arts de Lyon s’installe aux Subsistances « Lieu de confrontation et d’expérimentation consacré aux nouveaux langages du spectacle vivant ». Elle y constituera le pôle arts visuels. Par ailleurs, l’École municipale des arts appliqués de la Ville de Lyon est fondue à l’École nationale des beaux-arts.2007 : L’École régionale des beaux-arts de Saint-Étienne devient l’École supérieure art et design de Saint-Étienne et s’installera à terme dans les locaux de la Cité du design.      \n",
      "----------------------\n",
      "Art & espace public : les passeurs et les passants\n",
      "Si l’espace public appartient à toutes et tous, il est avant tout le lieu de l’affirmation du pouvoir qui l’ordonne, le gère, produit les règles de son organisation. Au service des intentions du commanditaire, l’art public s’insère pleinement dans cette logique. Les artistes sont alors associés à la conception et à l’aménagement de l’espace commun, et s’inscrivent dans le prolongement de stratégies qui les dépassent parfois. Dans certains cas, l'art public est même porté par des acteurs privés (promoteurs, foncières, etc.), obéissant à des orientations variables (valorisation du bâti, préfiguration des quartiers, animation des rez-de-chaussée). Dans cet écosystème aux nombreuses ramifications, les contours de l’art public évoluent et s'entremêlent parfois.\n",
      "\n",
      "Cette pratique traduit une intention de distinction et de valorisation de l’espace public par l’intervention artistique, qu’il s’agisse des Rives de Saône, de la Cité internationale ou encore des parkings de Lyon Parc Auto. Ces derniers ont constitué une véritable innovation, et se présentent désormais comme un « musée souterrain » ! De la même façon, les murs peints de Cité Création se sont imposés comme un marqueur fort du paysage métropolitain. \n",
      "\n",
      "En parallèle de cet art « venu d’en haut », des initiatives citoyennes, comme celles de l’association Ateliers La Mouche, s’appuient sur la dimension sensible de l’urbain, pour faire évoluer ses formes et son sens. Ici, la ville comme œuvre d’art questionne l’art public sous un nouveau jour.  \n",
      "\n",
      "Contrairement à l’art public, fortement institutionnalisé, le street art et, plus singulièrement encore le graffiti, cherchent à échapper au pouvoir. La chercheure Julie Vaslin explique cependant que le « gouvernement des graffitis » demeure un enjeu pour les collectivités. Celles-ci définissent des stratégies de « tri », effaçant, ou au contraire protégeant, ces manifestations artistiques, quitte à les détourner ainsi de leur vocation initiale. Entre institutionnalisation, marchandisation et pratiques « puristes », le graffiti reste une culture morcelée, au sein de laquelle graffeurs légaux et vandales naviguent.\n",
      "\n",
      "Aujourd’hui, nombres de graffeurs et de street artistes, auteurs d’œuvres « inopinées », développent des stratégies en opposition plus ou moins frontale avec le pouvoir gestionnaire du territoire. Notre portfolio en trois parties illustre cette pluralité d’intentions portée par ces artistes qui revendiquent, s’approprient ou subvertissent l’espace public.\n",
      "Sommaire : ♦ Le graffiti entre déviance et démocratisation : récit d’une culture morcelée♦ [Portfolio] Street art dans les rues du Grand Lyon : quelles pratiques, quelles intentions ? 1/3♦ [Portfolio] Street art dans les rues du Grand Lyon : quelles pratiques, quelles intentions ? 2/3♦ [Portfolio] Street art dans les rues du Grand Lyon : quelles pratiques, quelles intentions ? 3/3♦ Patrimoine industriel et poétique de l’habitat citadin : renouveler l’art de faire la ville ?♦ Julie Vaslin : « Je me suis interrogée : pourquoi on garde certains graffitis et pas d’autres ? »♦ Halim Bensaïd de CitéCréation : « Notre travail raconte de manière spectaculaire, monumentale, les choses simples de la vie »♦ Design urbain : le réel en relecture♦ Le rôle de l'art dans l'espace public♦ Les oeuvres d'art de la cité internationale à Lyon♦ Art public et marketing territorial♦ Place de l'art public : artistes, commanditaires et statut des œuvres \n",
      "----------------------\n",
      "Les politiques d’art public dans l’agglomération lyonnaise\n",
      "Yvon Deschamps. Président de Grand Lyon Habitat. Directeur des affaires culturelles de Villeurbanne de 1978 à 1986. Secrétaire général adjoint de la ville de Villeurbanne jusqu’en 2001. Ancien adjoint aux finances à Lyon (2001-2008) et conseiller régional Rhône-Alpes (de 1986 à 2010)\n",
      "\n",
      "\n",
      "En tant qu’ancien responsable à Villeurbanne, vous avez participé à la mise en place d’une politique d’art publique dans l’agglomération. Quels en ont été les ressorts, et les limites ?Dans les années 80, Villeurbanne a développé une politique d’art public en contre-point de la tristesse lyonnaise en la matière. A Lyon, on avait le sentiment que l’artiste était toléré, à défaut d’être accepté et reconnu. En 1983, on a fait un sit in pendant 2 ou 3 jours autour de la sculpture de René Roche (place Jean Macé, Lyon 7e) pour empêcher le démontage de la statue car les riverains devaient préférer une fontaine avec des poissons. Elle a finalement été réinstallée dans un parc industriel au fond du 7e arrondissement, avenue Debourg. C’était symptomatique d’un état d’esprit. Les cultureux n’ont pas pu résister face aux conservatismes locaux. Dans les palais dédiés à la culture, beaucoup de choses se faisaient, mais pas dans l’espace public.Notre parti-pris était de dire : il faut sans doute des musées et des institutions (nous avons soutenu le Nouveau musée devenu Institut d’Art Contemporain) mais il faut aussi que l’art puisse aller à la rencontre des gens dans les lieux où ils sont. On avait truffé d’œuvres les bâtiments publics et développé une politique très forte d’expositions, avec Gisèle Godard, à l’Hôtel de ville de Villeurbanne et dans les maisons de quartier. L’idée était de sortir la culture des lieux qui par définition lui sont consacrés et faire en sorte que les gens puissent se télescoper avec l’art. Pourquoi avoir décidé d’une série d’interventions plastiques autour des ronds points??Le choix des carrefours et des ronds points, c’était simplement pour la rencontre : on est obligés d’aller à la rencontre des œuvres, de tourner autour.Mais ce n’a pas été facile. Le totem de Rougemont, c’est un an de pétition contre ce projet ! Mais on a tenu bon. Jusqu’à ce qu’un jour, lors d’un concours de spécialités culinaires à Villeurbanne, un pâtissier réalise un totem. On a su que c’était gagné ! Quel regard portez-vous sur les politiques d’art public dans l’agglomération lyonnaise?Avec Jacques Oudot à la Région Rhône-Alpes, on s’est attaché à baliser de façon culturelle la route des Jeux Olympiques de 1986 avec des œuvres monumentales qui jalonnaient le parcours. En tant que vice-président culture à la Région, j’ai fait en sorte que chaque fois que c’est possible, l’œuvre issue du 1% culturel soit dans l’espace public : au lycée Jacques Brel à Vénissieux, l’œuvre sera dans la rue, devant le lycée. Ce n’est pas toujours possible pour des problèmes de domanialité. Mais j’ai toujours fait en sorte que l’œuvre soit visible, soit un signal.Avec l’arrivée de Jean-Paul Bret à la mairie de Villeurbanne, l’impulsion a été un peu différente. Ils sont plus partis dans le domaine de la recherche architecturale, avec le Rize, la place Lazare Goujon (avec des interventions de Philippe Favier). Une des dernières œuvres implantées dans l’espace public, c’était en 2000, pour le bimillénaire : l’œuvre de Felice Varini au parc du Centre.A Vénissieux, il y a toujours eu une pratique des arts plastiques très forte sous l’impulsion de Mado Lambert, responsable des ateliers publics d’arts plastiques. Il faut dire que le monde des arts plastiques c’était les compagnons de route du PC. Le PC est l’un des rares partis à gauche à avoir eu une pratique culturelle. Et à Lyon, qui semble en retrait ?Je regrette la timidité lyonnaise en matière d’art plastique et d’art urbain. C’est pour cela que j’avais suggéré un paragraphe dédié au 1% dans le plan du mandat de Gérard Collomb en 2001 : je proposais un 1% universel. A chaque opération technique – lesquelles opérations pouvaient être mutualisées -  il s’agissait de prévoir un pourcentage pour une intervention artistique. On m’avait opposé la cherté, or il reste toujours un reliquat sur les crédits prévus. Personne ne s’est jamais saisi de cette possibilité alors qu’il aurait suffi de faire appliquer ce texte pourtant adopté par le Conseil municipal ! Comment est né le projet d’art public 8e art ?Quand Gérard Collomb a lancé la candidature de Lyon au titre de capitale européenne de la culture, j’ai reçu, pour Grand Lyon Habitat, une invitation afin de réfléchir à ce que nous pouvions faire. J’ai proposé de développer la pratique artistique dans les quartiers à forte densité d’habitat social. Et notamment le boulevard des Etats-Unis en saisissant le prétexte de la ligne de tramway. L’idée de 8e art, le boulevard des arts, est venue ainsi.Cette tentative d’art contemporain en milieu populaire est une expérience. Tous les 200 mètres environ, il y a aura une œuvre d’art. Dans un espace urbain dédié au logement social, une telle concentration d’œuvres, c’est unique en Europe ! Les 4 premiers artistes ont été choisis pour des installations en 2011 et un appel à projets est lancé pour 6 autres projets pour 2012. La culture de l’OPAC est de construire des bâtiments, pas d’avoir un dialogue artistique ; j’ai associé le Sytral et les collectivités, et une communauté artistique présidée par Andrea Bellini. On va mettre en place une fondation 8e art sous l’égide de la fondation Bullukian. Nous avons un budget de 2,250 M€, dont 40% du ministère de la Culture. On a eu le feu vert de la commission nationale de commande publique. Quel sera le « fil rouge » de ces interventions ?Le boulevard des Etats-Unis a d’abord été conçu par Tony Garnier, puis dans les années 50 et 60 les bâtiments ont poussé sans dimension architecturale forte. Il y avait chauffage central et salle de bains donc c’était super… Les jeunes artistes européens ont tous été invités, chacun à sa façon, à réfléchir sur un désenchantement moderniste. Comment allez-vous accompagner ces interventions  plastiques ?On prévoit des actions de médiation. On va ouvrir un lieu pour les ateliers et les expositions, un ancien commerce au pied d’un immeuble, et on va mener des actions avec les lycées Lumière et Lurçat, en lien avec le NTH8. Dix ateliers dont les artistes seront retenus par un jury et installés dans des locaux de Grand Lyon Habitat seront disposés sur le parcours. On a de bons retours de la population, et la tâche est facilitée par les fresques de Tony Garnier. Notre inspiration, ce sont les Ramblas de Barcelone. Je souhaiterais que Vénissieux  s’inscrive dans ce parcours : une promenade plastique urbaine de l’avenue Berthelot jusqu’à la Darnaise, ce serait intéressant, non ?  \n",
      "----------------------\n"
     ]
    }
   ],
   "source": [
    "txt = []\n",
    "for doc in sim[:5].index:\n",
    "    with open(f\"./data/Texte/{doc}/full.txt\", \"r\", encoding=\"utf-8\") as f:\n",
    "        texte = f.read()\n",
    "        print(texte)\n",
    "        txt.append(texte)\n",
    "    print(\"----------------------\")"
   ]
  },
  {
   "attachments": {},
   "cell_type": "markdown",
   "metadata": {},
   "source": [
    "### Resumé avec ChatGPT"
   ]
  },
  {
   "cell_type": "code",
   "execution_count": 194,
   "metadata": {},
   "outputs": [
    {
     "name": "stdout",
     "output_type": "stream",
     "text": [
      "{\n",
      "  \"choices\": [\n",
      "    {\n",
      "      \"finish_reason\": \"stop\",\n",
      "      \"index\": 0,\n",
      "      \"message\": {\n",
      "        \"content\": \"Lyon a connu une \\u00e9volution dans sa vision des arts, passant d'une utilisation limit\\u00e9e dans le champ de l'utilit\\u00e9 \\u00e0 une reconnaissance de l'importance des arts m\\u00e9caniques, des beaux-arts et de leur r\\u00f4le dans l'enseignement. Cependant, il reste encore des limites \\u00e0 l'expansion de l'art dans l'enseignement, notamment dans l'enseignement sup\\u00e9rieur o\\u00f9 les disciplines restent cloisonn\\u00e9es, et les politiques d'art public sont encore timides dans l'agglom\\u00e9ration lyonnaise malgr\\u00e9 quelques initiatives.\",\n",
      "        \"role\": \"assistant\"\n",
      "      }\n",
      "    }\n",
      "  ],\n",
      "  \"created\": 1689850633,\n",
      "  \"id\": \"chatcmpl-7eLdJggwqVaiWoAkYv8re1zmNigA7\",\n",
      "  \"model\": \"gpt-3.5-turbo-16k-0613\",\n",
      "  \"object\": \"chat.completion\",\n",
      "  \"usage\": {\n",
      "    \"completion_tokens\": 132,\n",
      "    \"prompt_tokens\": 9168,\n",
      "    \"total_tokens\": 9300\n",
      "  }\n",
      "}\n"
     ]
    }
   ],
   "source": [
    "import openai\n",
    "\n",
    "with open(\"APIKEY\", \"r\", encoding=\"utf-8\") as f:\n",
    "    openai.api_key = f.read()\n",
    "\n",
    "prompt = f\"\"\"Je cherche à synthétiser au mieux l'information. Résume l'ensemble de ces différents textes séparés par ce signe \"---\" en très peu de phrases : {\"---\".join(txt)}\"\"\"\n",
    "\n",
    "openai.organization = \"org-mqd2akvmI5TNokavyM3mWXSq\"\n",
    "chat_completion = openai.ChatCompletion.create(\n",
    "    model=\"gpt-3.5-turbo-16k\",\n",
    "    messages = [{\"role\": \"user\", \n",
    "                 \"content\": prompt}]\n",
    "    )\n",
    "print(chat_completion)"
   ]
  },
  {
   "cell_type": "code",
   "execution_count": 195,
   "metadata": {},
   "outputs": [
    {
     "name": "stdout",
     "output_type": "stream",
     "text": [
      "Lyon a connu une évolution dans sa vision des arts, passant d'une utilisation limitée dans le champ de l'utilité à une reconnaissance de l'importance des arts mécaniques, des beaux-arts et de leur rôle dans l'enseignement. Cependant, il reste encore des limites à l'expansion de l'art dans l'enseignement, notamment dans l'enseignement supérieur où les disciplines restent cloisonnées, et les politiques d'art public sont encore timides dans l'agglomération lyonnaise malgré quelques initiatives.\n"
     ]
    }
   ],
   "source": [
    "print(chat_completion[\"choices\"][0][\"message\"][\"content\"])\n"
   ]
  },
  {
   "cell_type": "markdown",
   "metadata": {},
   "source": [
    "# Pipeline avec LLama2 & HuggingFace"
   ]
  }
 ],
 "metadata": {
  "kernelspec": {
   "display_name": "base",
   "language": "python",
   "name": "python3"
  },
  "language_info": {
   "codemirror_mode": {
    "name": "ipython",
    "version": 3
   },
   "file_extension": ".py",
   "mimetype": "text/x-python",
   "name": "python",
   "nbconvert_exporter": "python",
   "pygments_lexer": "ipython3",
   "version": "3.9.13"
  },
  "orig_nbformat": 4
 },
 "nbformat": 4,
 "nbformat_minor": 2
}
