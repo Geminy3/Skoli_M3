{
 "cells": [
  {
   "cell_type": "code",
   "execution_count": 33,
   "metadata": {},
   "outputs": [],
   "source": [
    "import os\n",
    "import torch\n",
    "import pickle\n",
    "from transformers import BertTokenizer, BertModel, CamembertModel, CamembertTokenizer, AutoTokenizer, AutoModel\n",
    "from sklearn.metrics.pairwise import cosine_similarity\n",
    "import pandas as pd"
   ]
  },
  {
   "attachments": {},
   "cell_type": "markdown",
   "metadata": {},
   "source": [
    "# Avec CamemBERT (pas au point)"
   ]
  },
  {
   "cell_type": "code",
   "execution_count": 166,
   "metadata": {},
   "outputs": [],
   "source": [
    "def get_document_embeddings(texts, model, tokenizer):\n",
    "    vectors = []\n",
    "    for i, text in enumerate(texts):\n",
    "        print(f\"\\r{i} / {len(texts)}, TXT : {text[:20]}\", end=\"\")\n",
    "        input_ids = tokenizer(text, return_tensors=\"pt\", truncation = True, padding = True)\n",
    "        with torch.no_grad():\n",
    "            outputs = model(**input_ids)\n",
    "        vectors.append(outputs.last_hidden_state.mean(dim = 1))\n",
    "    return(torch.cat(vectors, dim=0))\n",
    "\n",
    "def semantic_search(query, model, tokenizer, document_embeddings, n_results=5):\n",
    "    query_embedding = get_document_embeddings(query, model, tokenizer)\n",
    "    similarity_scores = cosine_similarity(query_embedding, document_embeddings)[0]\n",
    "    return(similarity_scores)\n",
    "    # sorted_indices = similarity_scores.argsort()\n",
    "    # return(sorted_indices[::-1][:n_results])\n",
    "\n",
    "def save_embeddings(embeddings, output_file):\n",
    "    with open(output_file, 'wb') as f:\n",
    "        pickle.dump(embeddings, f)\n",
    "\n",
    "def load_embeddings(input_file):\n",
    "    with open(input_file, 'rb') as f:\n",
    "        return pickle.load(f)\n",
    "    \n",
    "def sortfunc(x):\n",
    "    return(int(x))"
   ]
  },
  {
   "cell_type": "code",
   "execution_count": 213,
   "metadata": {},
   "outputs": [
    {
     "name": "stderr",
     "output_type": "stream",
     "text": [
      "Some weights of the model checkpoint at camembert-base were not used when initializing CamembertModel: ['lm_head.layer_norm.weight', 'lm_head.bias', 'lm_head.layer_norm.bias', 'lm_head.dense.weight', 'lm_head.decoder.weight', 'lm_head.dense.bias']\n",
      "- This IS expected if you are initializing CamembertModel from the checkpoint of a model trained on another task or with another architecture (e.g. initializing a BertForSequenceClassification model from a BertForPreTraining model).\n",
      "- This IS NOT expected if you are initializing CamembertModel from the checkpoint of a model that you expect to be exactly identical (initializing a BertForSequenceClassification model from a BertForSequenceClassification model).\n"
     ]
    },
    {
     "name": "stdout",
     "output_type": "stream",
     "text": [
      "2784\n",
      "LOADING EMBEDDINGS\n"
     ]
    }
   ],
   "source": [
    "\n",
    "if __name__ == \"__main__\":\n",
    "    # Replace 'bert-base-uncased' with any other suitable pre-trained model if needed.\n",
    "    # tokenizer = BertTokenizer.from_pretrained('bert-base-uncased')\n",
    "    # model = BertModel.from_pretrained('bert-base-uncased')\n",
    "    modelname = 'camembert/camembert-base'\n",
    "    model = AutoModel.from_pretrained(\"camembert-base\")\n",
    "    tokenizer = AutoTokenizer.from_pretrained(\"camembert-base\")\n",
    "    \n",
    "    MODE = None#\"Update\"\n",
    "    \n",
    "    embeddings_file = \"document_embeddings.pkl\"\n",
    "\n",
    "    data_folder = \"./data/Texte/\"\n",
    "    n_results = 5  # Change this value to get a different number of relevant documents.\n",
    "\n",
    "    # Load and process your text data from separate folders.\n",
    "    documents = []\n",
    "    index = []\n",
    "    \n",
    "    listdir = list(os.listdir(\"./data/Texte/\"))\n",
    "    listdir.sort(key=sortfunc)\n",
    "    \n",
    "    for folder_name in listdir:\n",
    "        print(f\"\\r{folder_name}\", end = \"\")\n",
    "        folder_path = os.path.join(data_folder, folder_name)\n",
    "        if not os.path.isdir(folder_path):\n",
    "            continue\n",
    "        for file_name in os.listdir(folder_path):\n",
    "            if file_name == \"full.txt\" :\n",
    "                file_path = os.path.join(folder_path, file_name)\n",
    "                with open(file_path, \"r\", encoding=\"utf-8\") as file:\n",
    "                    text = file.read()\n",
    "                    documents.append(text)\n",
    "                    index.append(int(folder_name))\n",
    "    \n",
    "    df = pd.DataFrame(documents, columns = [\"text\"])\n",
    "    df.index = index\n",
    "    # Get embeddings for all the documents.\n",
    "    if os.path.exists(embeddings_file) and MODE != \"Update\":\n",
    "        print(\"\\nLOADING EMBEDDINGS\")\n",
    "        document_embeddings = load_embeddings(embeddings_file)\n",
    "    else:\n",
    "        print(\"\\nCONVERTING DOCUMENTS INTO EMBEDDINGS\")\n",
    "        document_embeddings = get_document_embeddings(documents, model, tokenizer)\n",
    "        save_embeddings(document_embeddings, embeddings_file)"
   ]
  },
  {
   "cell_type": "code",
   "execution_count": 214,
   "metadata": {},
   "outputs": [
    {
     "name": "stdout",
     "output_type": "stream",
     "text": [
      "0 / 1, TXT : faim, manger[0.41158763 0.38515815 0.27724868 ... 0.3687632  0.4435064  0.3589907 ]\n"
     ]
    },
    {
     "data": {
      "text/html": [
       "<div>\n",
       "<style scoped>\n",
       "    .dataframe tbody tr th:only-of-type {\n",
       "        vertical-align: middle;\n",
       "    }\n",
       "\n",
       "    .dataframe tbody tr th {\n",
       "        vertical-align: top;\n",
       "    }\n",
       "\n",
       "    .dataframe thead th {\n",
       "        text-align: right;\n",
       "    }\n",
       "</style>\n",
       "<table border=\"1\" class=\"dataframe\">\n",
       "  <thead>\n",
       "    <tr style=\"text-align: right;\">\n",
       "      <th></th>\n",
       "      <th>Doc</th>\n",
       "      <th>Cos</th>\n",
       "    </tr>\n",
       "  </thead>\n",
       "  <tbody>\n",
       "    <tr>\n",
       "      <th>1326</th>\n",
       "      <td>La longue marche de solid’arte\\nnan\\nArrêt sur...</td>\n",
       "      <td>0.865901</td>\n",
       "    </tr>\n",
       "    <tr>\n",
       "      <th>1136</th>\n",
       "      <td>1-test ressource\\nnan\\nnan</td>\n",
       "      <td>0.836543</td>\n",
       "    </tr>\n",
       "    <tr>\n",
       "      <th>1811</th>\n",
       "      <td>Petit lexique des fleuves\\nnan\\n</td>\n",
       "      <td>0.822544</td>\n",
       "    </tr>\n",
       "    <tr>\n",
       "      <th>2022</th>\n",
       "      <td>Ritualités et transmission : le symptôme commé...</td>\n",
       "      <td>0.768621</td>\n",
       "    </tr>\n",
       "    <tr>\n",
       "      <th>1338</th>\n",
       "      <td>La sécurité urbaine : un bien public\\nnan\\nDan...</td>\n",
       "      <td>0.767657</td>\n",
       "    </tr>\n",
       "    <tr>\n",
       "      <th>1884</th>\n",
       "      <td>Moncey, pour un aménagement adapté\\nnan\\nTexte...</td>\n",
       "      <td>0.753080</td>\n",
       "    </tr>\n",
       "    <tr>\n",
       "      <th>1345</th>\n",
       "      <td>Deux exemples de stratégie hospitalière visant...</td>\n",
       "      <td>0.746994</td>\n",
       "    </tr>\n",
       "    <tr>\n",
       "      <th>1471</th>\n",
       "      <td>La culture est nécessaire pour qu’une collecti...</td>\n",
       "      <td>0.726553</td>\n",
       "    </tr>\n",
       "    <tr>\n",
       "      <th>1307</th>\n",
       "      <td>Lyon, métropole de la lumière\\nnan\\nUsages et ...</td>\n",
       "      <td>0.723364</td>\n",
       "    </tr>\n",
       "    <tr>\n",
       "      <th>1179</th>\n",
       "      <td>Acquérir de nouvelles compétences : quelques p...</td>\n",
       "      <td>0.715874</td>\n",
       "    </tr>\n",
       "    <tr>\n",
       "      <th>1851</th>\n",
       "      <td>Chercheurs, citoyens : au café (des sciences !...</td>\n",
       "      <td>0.715734</td>\n",
       "    </tr>\n",
       "    <tr>\n",
       "      <th>1936</th>\n",
       "      <td>L’Etat au coeur : le meccano de la gouvernance...</td>\n",
       "      <td>0.710889</td>\n",
       "    </tr>\n",
       "    <tr>\n",
       "      <th>1585</th>\n",
       "      <td>Le Grand Rendez-Vous : récit d'un dialogue cit...</td>\n",
       "      <td>0.704731</td>\n",
       "    </tr>\n",
       "    <tr>\n",
       "      <th>1245</th>\n",
       "      <td>Refonder des civilités urbaines, adapter les l...</td>\n",
       "      <td>0.703877</td>\n",
       "    </tr>\n",
       "    <tr>\n",
       "      <th>1648</th>\n",
       "      <td>Action positives et approche intégrée - deux a...</td>\n",
       "      <td>0.698153</td>\n",
       "    </tr>\n",
       "    <tr>\n",
       "      <th>1550</th>\n",
       "      <td>Pour une police de la qualité de la vie. L a m...</td>\n",
       "      <td>0.690240</td>\n",
       "    </tr>\n",
       "    <tr>\n",
       "      <th>2042</th>\n",
       "      <td>Technologies éducatives : déjà une longue hist...</td>\n",
       "      <td>0.686667</td>\n",
       "    </tr>\n",
       "    <tr>\n",
       "      <th>1581</th>\n",
       "      <td>Hommes &amp; animaux : quand vivre “avec” transfor...</td>\n",
       "      <td>0.684890</td>\n",
       "    </tr>\n",
       "    <tr>\n",
       "      <th>1664</th>\n",
       "      <td>Logement et « intégration » des minorités ethn...</td>\n",
       "      <td>0.679092</td>\n",
       "    </tr>\n",
       "    <tr>\n",
       "      <th>1663</th>\n",
       "      <td>Logement et « intégration » des minorités ethn...</td>\n",
       "      <td>0.675949</td>\n",
       "    </tr>\n",
       "  </tbody>\n",
       "</table>\n",
       "</div>"
      ],
      "text/plain": [
       "                                                    Doc       Cos\n",
       "1326  La longue marche de solid’arte\\nnan\\nArrêt sur...  0.865901\n",
       "1136                         1-test ressource\\nnan\\nnan  0.836543\n",
       "1811         Petit lexique des fleuves\\nnan\\n            0.822544\n",
       "2022  Ritualités et transmission : le symptôme commé...  0.768621\n",
       "1338  La sécurité urbaine : un bien public\\nnan\\nDan...  0.767657\n",
       "1884  Moncey, pour un aménagement adapté\\nnan\\nTexte...  0.753080\n",
       "1345  Deux exemples de stratégie hospitalière visant...  0.746994\n",
       "1471  La culture est nécessaire pour qu’une collecti...  0.726553\n",
       "1307  Lyon, métropole de la lumière\\nnan\\nUsages et ...  0.723364\n",
       "1179  Acquérir de nouvelles compétences : quelques p...  0.715874\n",
       "1851  Chercheurs, citoyens : au café (des sciences !...  0.715734\n",
       "1936  L’Etat au coeur : le meccano de la gouvernance...  0.710889\n",
       "1585  Le Grand Rendez-Vous : récit d'un dialogue cit...  0.704731\n",
       "1245  Refonder des civilités urbaines, adapter les l...  0.703877\n",
       "1648  Action positives et approche intégrée - deux a...  0.698153\n",
       "1550  Pour une police de la qualité de la vie. L a m...  0.690240\n",
       "2042  Technologies éducatives : déjà une longue hist...  0.686667\n",
       "1581  Hommes & animaux : quand vivre “avec” transfor...  0.684890\n",
       "1664  Logement et « intégration » des minorités ethn...  0.679092\n",
       "1663  Logement et « intégration » des minorités ethn...  0.675949"
      ]
     },
     "execution_count": 214,
     "metadata": {},
     "output_type": "execute_result"
    }
   ],
   "source": [
    "# Example query.\n",
    "query = [\"faim, manger\"]\n",
    "\n",
    "# Get the most relevant documents.\n",
    "relevant_indices  = semantic_search(query, model, tokenizer, document_embeddings, n_results)\n",
    "# Print the most relevant documents.\n",
    "print(relevant_indices)\n",
    "res = pd.DataFrame(zip(documents, relevant_indices), columns = [\"Doc\", \"Cos\"]).sort_values(by=\"Cos\", ascending=False)\n",
    "res.head(20)\n",
    "# print(\"Most relevant documents:\")\n",
    "# for i, index in enumerate(relevant_indices):\n",
    "#     print(documents[index])\n",
    "#     print(\"------------------------\")\n",
    "\n",
    "# doc = ['La longue marche de solid’arte\\nnan\\nArrêt sur une structure originale de formation pour artistes. ']\n",
    "# cosine_similarity(get_document_embeddings(query, model, tokenizer), get_document_embeddings(doc, model, tokenizer))"
   ]
  },
  {
   "cell_type": "code",
   "execution_count": 155,
   "metadata": {},
   "outputs": [
    {
     "data": {
      "text/plain": [
       "text    Le Rhône, la ville, l’usine\\nL'usine hydroélec...\n",
       "Name: 1811, dtype: object"
      ]
     },
     "execution_count": 155,
     "metadata": {},
     "output_type": "execute_result"
    }
   ],
   "source": []
  },
  {
   "attachments": {},
   "cell_type": "markdown",
   "metadata": {},
   "source": [
    "# AVEC TF-IDF"
   ]
  },
  {
   "cell_type": "code",
   "execution_count": 204,
   "metadata": {},
   "outputs": [],
   "source": [
    "from sklearn.feature_extraction.text import CountVectorizer\n",
    "\n",
    "data_folder = \"./data/Texte/\"\n",
    "documents=[]\n",
    "nom_docs=[]\n",
    "for folder_name in os.listdir(data_folder):\n",
    "    # print(folder_name)\n",
    "    folder_path = os.path.join(data_folder, folder_name)\n",
    "    if not os.path.isdir(folder_path):\n",
    "        continue\n",
    "    for file_name in os.listdir(folder_path):\n",
    "        # print(file_name)\n",
    "        if file_name == \"texte.txt\":\n",
    "            file_path = os.path.join(folder_path, file_name)\n",
    "            with open(file_path, \"r\", encoding=\"utf-8\") as file:\n",
    "                text = file.read()\n",
    "                documents.append(text)\n",
    "                nom_docs.append(folder_path.split('/')[3])\n",
    "                # print(folder_path.split('/')[3], text)\n",
    "vectorizer=CountVectorizer(lowercase=False)\n",
    "nOcc=vectorizer.fit_transform(documents)\n",
    "nOcc=pd.DataFrame.sparse.from_spmatrix(nOcc,index=nom_docs,columns=vectorizer.get_feature_names_out())"
   ]
  },
  {
   "cell_type": "code",
   "execution_count": 243,
   "metadata": {},
   "outputs": [],
   "source": [
    "query = vectorizer.transform([\"gestion eau\"]) #Process (lemmatize + stopwords)\n",
    "\n",
    "similarities = cosine_similarity(query, nOcc)\n",
    "\n",
    "# Classement des documents en fonction de leur similarité avec la requête\n",
    "sorted_indices = similarities[0]\n",
    "sim = pd.DataFrame(sorted_indices, nom_docs).sort_values(by=0, ascending=False)"
   ]
  },
  {
   "cell_type": "code",
   "execution_count": 244,
   "metadata": {},
   "outputs": [
    {
     "data": {
      "text/plain": [
       "<AxesSubplot:ylabel='Frequency'>"
      ]
     },
     "execution_count": 244,
     "metadata": {},
     "output_type": "execute_result"
    },
    {
     "data": {
      "image/png": "[encoded data removed]",
      "text/plain": [
       "<Figure size 640x480 with 1 Axes>"
      ]
     },
     "metadata": {},
     "output_type": "display_data"
    }
   ],
   "source": [
    "sim[0].plot(kind = \"hist\")"
   ]
  },
  {
   "cell_type": "code",
   "execution_count": 247,
   "metadata": {},
   "outputs": [
    {
     "name": "stdout",
     "output_type": "stream",
     "text": [
      "L’eau urbaine et Novatech\n",
      "Cette interview a été réalisée à l'occasion de la Fête de l'eau organisée par le Grand Lyon les 5 et 6 juin, pour la 5ème conférence internationale sur les stratégies durables en assainissement pluvial : Novatech. C'est l’occasion, pour Jean Villien, d'évoquer la question de l’eau dans la ville et le positionnement de la Mission Ecologie du Grand Lyon vis-à-vis de la Direction de l’eau dont l'un des objectifs est de savoir comment éviter la pollution du milieu naturel par les eaux de ruissellement. \n",
      "\n",
      "\n",
      "Novatech est un événement majeur qui permet à de nombreux scientifiques et experts du monde entier de faire le point sur les grands problèmes en matière de gestion des eaux urbaines et d’envisager les différentes réponses, notamment techniques, que l’on peut apporter aujourd’hui. Novatech porte justement sur la gestion des eaux de ruissellement. Lyon est d’ailleurs reconnue internationalement sur la question de l’hydraulique urbaine. On constate, en effet, aujourd’hui en Occident que les préoccupations ne concernent plus l’approvisionnement en eau potable (encore que les nitrates soient préoccupants), ni même le traitement des eaux usées, mais véritablement la qualité des eaux de ruissellement dans la mesure où celles-ci constituent un risque majeur de pollution pour les eaux naturelles. La Mission écologie s’intéresse à la question de l’eau dans la ville. Comment œuvrez-vous au sein du Grand Lyon, quel est votre but ?Tout d’abord, il convient de préciser que la question du cycle de l’eau est cruciale en milieu urbain. Et qu’elle est considérée sous tous ses aspects : en tant qu’élément vital (comme l’eau potable), nécessaire à la santé (comme l’eau à usage domestique), ou en tant qu’élément naturel (traitée, comme l’eau de ruissellement, ou issue de son milieu d’écoulement géographique – fleuve et ruisseau). L’eau est ainsi dite « quantitative » mais surtout « qualitative », fonctionnelle et patrimoniale.Au sein de la Communauté Urbaine de Lyon, les aspects patrimoniaux de l’eau sont examinés par la Mission écologie alors que les aspects fonctionnels (assainissement, traitement) sont étudiés par la Direction de l’eau. Les aspects patrimoniaux sont traités à travers la qualité de l’eau, l’inventaire et la restauration des milieux humides, en étudiant par exemple la flore et la faune aquatiques. Un va-et-vient d’informations s’effectue entre les deux directions sur les questions de qualité de l’eau, sur le traitement des rejets, sur les normes en vigueur…C’est donc un travail croisé permanent. Travailler ensemble est une bonne chose mais il faut aussi faire connaître ces différents aspects au grand public, nous organisons cette année la 1ère fête de l’eau les 5 et 6 juin 2004. Elle aura lieu en plusieurs endroits de l’agglomération pour montrer à la population le grand cycle de l’eau en milieu urbain et faire toucher du doigt que l’eau est un bien commun et qu’en certains endroits elle est absente avec les conséquences que l’on sait. Quelle a été la motivation du Grand Lyon dans l’organisation de la 1ère Fête de l’eau ?Du 6 au 10 juin, Lyon organise Novatech, la 5ème conférence internationale sur les technologies et stratégies durables en assainissement pluvial. Cet événement majeur va permettre à de nombreux scientifiques et experts du monde entier de faire le point sur les grands problèmes en matière de gestion des eaux urbaines et d’envisager les différentes réponses, notamment techniques, que l’on peut apporter aujourd’hui.Il nous semblait important de sensibiliser le grand public aux enjeux relatifs à la présence et au cycle de l’eau dans la ville en parallèle à cette réflexion très technique. L’eau dite « naturelle » (fleuve, rivière, ruisseau) et les plans d’eau (Miribel-Jonage, Grand-Large) sont en effet très présents dans l’agglomération. Ils ont façonné l’histoire et la géographie de notre région. Les aqueducs, les ponts, les vallées du Rhône et de la Saône sont là pour en témoigner. C’est pourquoi nous avons voulu permettre aux Lyonnais de faire un tour d’horizon sur ces aspects et entamer une réflexion avec eux. Ainsi trois thèmes et trois lieux ont été choisis pour rapprocher les riverains de leurs cours d’eau :● Sur la place Antonin Poncet où sera abordée l’histoire de l’eau à Lyon sous forme d’une grande exposition (panneaux et stands d’informations, photos, présence de la péniche Val de Rhône…) et où des conteurs illustreront ce thème ;● A Neuville/Saône, où il sera question des activités ludiques liées à l’eau (avec notamment la présence de la Fédération de pêche) et des découvertes du fleuve ou de la faune et la flore des rivages ;● A Miribel-Jonage, où l’on valorisera « l’eau et la science », « l’eau et la vie », « l’eau support de loisirs », « l’eau en tant qu’espace découverte » et où il y aura une démonstration du pompage de secours de l’eau potable. La sensibilisation du public à la présence de l’eau en ville est une chose mais la question de la pollution de l’eau n’est-elle pas plus complexe à appréhender pour lui ?En effet, car la question de l’eau en ville revêt des aspects multiples et complexes. Il convient donc pour les pouvoirs publics de bien fixer les objectifs relatifs à son utilisation et aussi la qualité que l’on veut lui conserver. De manière plus explicite, l’eau urbaine, dite fonctionnelle, est d’abord un élément essentiel à la survie de tout citadin qui ne peut se passer du réseau d’eau collectif parce qu’il s’en sert de diverses manières : pour renouveler ses ressources en eau propre, pour se nettoyer lui-même... Les rues où les déchets, notamment organiques, sont transportés par l’eau par cette méthode.Le manque d’eau dans le cycle urbain pose le problème de notre survie, de la présence de maladies et une certaine forme d’inconfort . Mais cette eau n’est pas qu’un produit de consommation, elle doit être traitée avant de retourner au fleuve avec une qualité aussi satisfaisante qu’au moment où elle a été captée, afin de préserver les cités voisines en aval. L’essentiel de l’eau de boisson est prise en amont de Lyon au champ captant de « Crépieux Charmy ». Elle est légèrement chlorée pour son stockage afin d’éviter la contamination dans les réseaux : c’est une eau d’excellente qualité.Mais le fait que l’on concentre la production de toute l’agglomération en un seul endroit et que le champ captant soit très superficiel et s’appuie sur une nappe du Rhône rend cette ressource très vulnérable à toute pollution de surface. C’est pour cette raison qu’une sécurisation par un pompage de secours dans le lac des « eaux bleues » de Miribel existe. Ce dernier, assis dans la nappe et situé en dehors des circulations superficielles du Rhône Amont, arrive en surface par un creusement artificiel (réalisé pour en extraire les graviers de construction) qui permet d’avoir entre cinq et huit jours de pompage en réserve en cas de pollution. On voit donc que « comprendre » l’eau c’est « comprendre et connaître son cycle ». C’est ainsi que le public en verra les enjeux. Quels sont en particulier les risques de pollution pour le patrimoine fluvial (lônes, îles…) ?Les ripisylves, les lônes, les îles, les marais situés au niveau de la Saône et du Rhône Aval (partie Ouest), ont une valeur écologique importante. Le projet du SMIRIL1, lancé en 1992, est de retrouver un Rhône vivant en revenant à une situation de milieu humide. Les eaux qui s’écoulent en aval de la cité doivent donc arriver au fleuve en étant de bonne qualité. Aujourd’hui encore des efforts sont à faire pour améliorer la qualité de l’eau et mieux traiter les rejets car cette eau va être pompée à Givors pour son eau de boisson. Plus généralement, une vaste opération de lutte contre les toxiques au niveau du Rhône Moyen2 est ainsi mise en place.Cependant, le maillage des banques de données sur les rejets toxiques est complexe pour montrer une communication simple au grand public. Le réseau CAMALY améliore la situation par la collecte de données, mais seulement à l’échelle parcellaire, ce qui rend ambitieux une vision globale. Une réflexion au sein du Spiral Eau3 a eu lieu pour conduire des analyses en différents points : à Jons, au niveau du Port Saint-Bernard et de Chasse-sur-Rhône, du Pont Morand et de l’Ile Barbe. Une analyse physico-chimique est menée sur l’eau courante ainsi que sur les éléments fixés sur les briophytes (mousses naturelles fixant les produits) et les éléments solides dans les sédiments. Trois mesures par an sont prises pour avoir les données lyonnaises relatives au fleuve. Les données nationales ne suffisent pas : nous suivons ainsi l’évolution de la qualité des eaux.Plus généralement, la Mission écologie prend en charge l’observation des milieux écologiques superficiels et confie à la ZABR4 (zone Atelier du Bassin Rhône) l’analyse de l’incidence des toxiques sur la faune aquatique notamment à travers leur pyramide des âges. Des mesures sont réalisées depuis dix ans. Par ailleurs, l’Agence de l’eau contribue à l’élaboration du répertoire des émissions de produits toxiques dans l’eau. L’écoulement des eaux de ruissellement ne constitue-t-il pas également un risque de pollution ?En effet, notre climat continental a des incidences sur les milieux naturels qui s’assèchent en été et sont gorgés d’eau en automne. L’eau ruisselle et lessive les sols imperméabilisés, utilisés par les automobiles : des particules diverses issues de l’espace urbain se retrouvent concentrées dans le réseau et dans les ruisseaux. Un réseau unitaire existe dans la partie dense de la ville pour réceptionner l’eau de surface. Le volume des eaux de ruissellement le fait déborder. Pour éviter ce phénomène et le risque d’inondation, ces eaux de ruissellement sont dirigées vers le Rhône et la Saône d’où la nécessité d’avoir une vision très fine des réseaux hydrauliques en milieu urbain et de leur fonctionnement en cas de pluie.Dès les « années 70 », un réseau séparatif entre les eaux pluviales et les eaux usées à été mis en place à partir de la 1ère couronne en périphérie de Lyon, notamment à l’Est. Des bassins d’absorption existent autour de la ville pour infiltrer les eaux de ruissellement (après deshuilage et dessablage). Aujourd’hui la réflexion se porte sur les modes d’écoulement des eaux pluviales et de leurs traitements avant rejet dans le fleuve. L’observatoire des techniques hydrauliques urbaines (OTHU) a été créé depuis cinq ans dans cet optique. Notre objectif est de savoir comment éviter la pollution du milieu naturel par les eaux de ruissellement. Novatech va justement porter sur la gestion des eaux de ruissellement, que peut-on en attendre ?Il va rassembler de nombreux acteurs qui interviendront dans le domaine de l’hydraulique urbaine. Lyon est d’ailleurs reconnue internationalement à ce sujet. En effet plusieurs laboratoires se sont positionnés sur la recherche et le développement dans ce domaine tels que l’INSA, le CNRS, l’université Claude Bernard, le CEMAGREF et l’Ecole Nationale des Travaux Publics de l’Etat. Le GRAIE (Groupe de recherche Rhône-Alpes sur les Infrastructures et l’Eau) fédère ces différents acteurs au sein de plusieurs observatoires. Par ailleurs, ceux de la recherche médicale, fortement représentés à Lyon, se penchent aussi sur la question de l’eau, vecteur important de maladies ( polio, peste aviaire…).Depuis vingt ans, Lyon est un lieu d’expérimentation volontaire pour les universités et nous faisons parti des quinze villes dans le monde qui sont susceptibles de rassembler autant de chercheurs sur le sujet. Novatech devrait donc permettre de soulever des problèmes nouveaux relatifs aux pollutions des eaux de ruissellement. Au XIXème siècle, la priorité était d’éviter les épidémies, les eaux croupies et il fallait dans un mouvement hygiéniste les évacuer rapidement vers l’aval.On constate aujourd’hui en Occident que les préoccupations ne concernent plus l’approvisionnement en eau potable (encore que les nitrates soient de plus en plus préoccupants), ni même le traitement des eaux usées, mais véritablement la qualité des eaux de ruissellement. Elles posent non seulement la question de la pollution des rivières mais également celle des lieux de production d’eau potable car nous sommes tous dépendants les uns des autres. Elles posent aussi le problème des financements de cette eau qui n’appartient à personne mais qui concentre l’activité urbaine : ce sera vraisemblablement, dans les dix prochaines années, avec la perspective du traitement de ces eaux, les questions qui seront débattues… 1 Syndicat Mixte d’Aménagement des îles et des Lônes2 Rhône amont : partie du fleuve inscrite au pied du plateau de la Dombes dans le paysage topographiquement plat de la plaine de l’Est. Cette coulée verte prend naissance au niveau du parc de la Tête d’Or en s’élargissant considérablement en direction de Miribel et de Jonage. Rhône aval : partie en aval de la ville de Lyon comprenant la partie fluviale de la vallée de la chimie et le Vieux Rhône, constitué d’îles couvertes de boisement alluviaux longés par le versant à dominante naturelle du plateau d’Irigny. Rhône Moyen : secteur entre le Rhône Amont et Aval.3 Secrétariat Permanent pour la Prévention des Pollutions Industrielles et des Risques dans l’Agglomération Lyonnaise.4 Cf. interview de Jean-Claude Bravard  \n",
      "----------------------\n",
      "Veille M3 / « Quelles rivières pour demain ? », ou comment nos cours d’eau peuvent irriguer nos débats citoyens\n",
      "Trois gouttes de pluie tombent à terre : deux sont bues par les sols, puis la végétation, et s’évaporent. Que reste-t-il ? Une goutte pour alimenter cours d’eau et nappes phréatiques. \n",
      "\n",
      "Une goutte à partager entre faune et humains, entre usages domestiques, industriels, énergétiques, agricoles (irrigation), de loisir et de confort, entre urbains et ruraux, entre ici et là-bas. \n",
      "\n",
      "Face à cette concurrence et dans un contexte de réchauffement climatique, il importe de préserver un équilibre, mais lequel ? \n",
      "\n",
      "Avec son ouvrage « Quelles rivières pour demain ? Réflexions sur l’écologie et la restauration des cours d’eau » (2021, 2éme éd.), l’hydrobiologiste Christian Lévêque nous interpelle sur les concepts au cœur de la gouvernance de l’eau, et invite à élargir le cercle des décideurs.\n",
      "Écologue mondialement reconnu, Christian Lévêque a contribué à l’émergence d’une approche systémique du fonctionnement des cours d’eau, le désormais célèbre concept d’hydrosystème fluvial né en terres rhône-alpines, et pris part à la vie de nombreuses institutions de gouvernance de l’eau (Agences de l'eau de Rhône Méditerranée Corse- RMC et Seine Normandie , GIP Seine Aval...). Cet ensemble d’expériences l’a conduit « à écrire cet ouvrage, qui n’est pas un manuel, mais un ensemble de réflexions sur la démarche systémique et sur les relations entre la recherche et les utilisateurs de la recherche, en mettant un peu plus l’accent sur un acteur muet de la gouvernance, le citoyen ». Pénurie d’eau ou de gouvernance ? Le « grand cycle de l’eau » est un mouvement perpétuel avec une perte infinitésimale à l’échelle de l’humanité. Notre ressource pérenne en eau, ce sont ces trois gouttes – réparties en « eau bleue » (32% des précipitations, celle des nappes et des rivières) et « eau verte » (65%), l’eau de pluie qui nourrit directement le sol et les plantes). Mais l’homme consomme aussi des ressources épuisables : l’eau fossile (aquifères), l’eau de fusion des icebergs et celle des glaciers. « À l'échelle cosmique, l'eau est plus rare que l'or », se plaisait à rappeler l’astrophysicien Hubert Reeves. L’eau douce sur Terre l’est encore plus puisque 97% de l’eau de la planète est salée. Pourtant, à l’échelle du globe, nous ne manquons pas d’eau précise Ghislain de Marsily, professeur émérite à Sorbonne Universités : « La part de cette ressource que consomme l’humanité est encore modeste : 7% de l’eau bleue et 9% de l’eau verte ». Mais ces flux étant « presque entièrement utilisés par les écosystèmes naturels continentaux et côtiers », la marge de manœuvre reste faible à moins de rebattre les cartes entre les écosystèmes.  Pour l'homme, la rareté n’est pas tant une question de quantité mais d’adéquation spatio-temporelle entre disponibilité et besoins en eau de bonne qualité : adéquation entre localisation de la population et de la ressource en eau, pression démographique notamment urbaine, évolution des régimes alimentaires, investissements dans les réseaux, etc. C’est d’ailleurs aussi « en grande partie à une mauvaise gestion » que le Secrétaire général de l'OCDE, Angel Gurría, attribuait la rareté de l’eau : manque d’incitation à des usages économes et non polluants, mauvaise allocation de la ressource, défaut d’investissements dans les réseaux d’eau potable et d’assainissement, faiblesse de la réglementation, etc.En se basant sur une consommation d’eau domestique de 250 l/jour (France 150l/jour), Ghislain de Marsily évalue la quantité totale d’eau nécessaire pour la planète en 2050 à 0,8% des précipitations, ou 2,4 % de l’eau bleue. Il en conclut que « l’eau domestique n’est donc pas un problème de quantité, mais seulement de transport et de qualité, donc d’infrastructures d’adduction et de traitement. La planète n’aura jamais de pénurie d’eau domestique, si elle construit à temps ces infrastructures. La ville de Windhoek (350 000 habitants) par exemple, capitale de la Namibie en plein désert, est alimentée en eau depuis 30 ans par un barrage et une conduite de 800 km de long, ainsi que par le recyclage de ses eaux usées retraitées, qui sont réinjectées dans la nappe locale… ! ». La solidarité, une limite à la souveraineté en matière d’eau ? De nombreux conflits contemporains sont liés à une priorisation des enjeux de souveraineté sur ceux de solidarité entre territoires dépendant d’une même ressource, comme le montrent les tensions autour du partage de l’eau des grands fleuves internationaux (Égypte-Éthiopie, Turquie-Syrie-Irak, Chine-Inde-Bangladesh, USA-Canda, USA-Mexique...). Pour Christian Bréthaut, spécialiste genevois de la gouvernance de l’eau, les fleuves sont des vecteurs puissants de coopération. Des instruments de gouvernance adaptés sont source de stabilité, à l’instar de la coopération autour du fleuve Sénégal ou de l’octroi d’un statut juridique au Gange.     Qu’elle soit transfrontalière, affichée comme l’un des objectifs de développement durable des Nations unies pour 2030, ou nationale, la coopération entre territoires est plus que jamais à l’ordre du jour. Le réchauffement climatique, en déstructurant le cycle de l’eau, accroît la nécessité de repenser la gouvernance, tant au niveau international que national et local. Il est acquis que les précipitations s’intensifient de manière inégale dans le temps et l’espace, créant une « diagonale de la soif », que les évènements extrêmes (déluges, sécheresse, vagues de chaleurs, inondations...) augmentent et que les zones climatiques se déplacent vers les pôles (aridification des latitudes méditerranéennes, gains dans les latitudes nordiques).  Chaque territoire va être impacté de manière singulière par ces évolutions et par le fait que ces trois gouttes d’eau sont prédestinées à alimenter tel ou tel territoire, selon qu’elles tombent d’un côté ou de l’autre de la ligne de partage. Christian Lévêque n’omet pas de rappeler les bases : « Un cours d’eau s’inscrit dans un bassin versant qui marque l’emprise du fleuve sur le milieu géographique. C’est un territoire limité, comparable à une cuvette qui collecte les eaux de pluies ruisselant sur le sol pour les diriger vers la rivière ou vers une nappe d’eau souterraine.Sur le plan écologique, le bassin versant de chaque fleuve est isolé des bassins adjacents par des lignes de partage des eaux (ou lignes de crêtes) qui sont des frontières naturelles dessinées par le relief et séparant les eaux de ruissellement. Il en résulte que les bassins versants sont équivalents à des îles dans chacune desquelles les espèces aquatiques, telles que les poissons, mollusques ou crustacés, évoluent de manière indépendante » (p. 48). Sur chaque bassin pèse donc la responsabilité d’un gouvernement adéquat (investissement dans les réseaux, tarification, etc.) et d’une gouvernance large (partage de l’eau, gestion des inondations, etc.). « Le citoyen, acteur muet de la gouvernance » ? L’auteur souligne la dimension politique du partage de l’eau : la gouvernance, c’est la prise en compte de la dimension humaine de l’eau dans une approche fortement technicienne et écologique. C’est, en fait, considérer le réel car les cours d’eau européens sont le résultat perpétuellement mouvant des dynamiques cumulées de l’environnement physique et des sociétés. Cet anthroposystème, « système interactif entre deux ensembles constitués par un (ou des) sociosystème(s) et un (ou des) écosystème(s) naturel(s) et/ou artificialisé(s) s’inscrivant dans un espace géographique donné et évoluant dans le temps, [est] occupé, aménagé et géré par les sociétés qui utilisent cet espace. On ne peut envisager le futur de notre environnement sans l’homme et sans une nécessaire co-évolution à long terme qui suppose à la fois des adaptations et des compromis » (p. 53).Cette pratique de la recherche de consensus est ancrée depuis longtemps dans la politique française de l’eau. Dès sa première grande loi sur l’eau de 1964 motivée par des préoccupations environnementales, la France adopte un mode de gestion innovant pour l’époque tant sur le fond que la forme et qui inspirera, 36 ans plus tard, la directive cadre européenne sur l’eau : d’une part, une gestion par bassins hydrographiques correspondant aux réalités physiques des fleuves et non par territoires administratifs, et d’autre part, « une gestion décentralisée de l’eau associant l’ensemble des usagers et prenant en compte les spécificités de chaque bassin » (p. 32). Comité de bassin et agence de l’eau endossent à leur échelle les rôles législatif et exécutif de cette politique.La loi du 3 janvier 1992 fait de l’eau un « patrimoine commun de la Nation » et met en place différents outils de planification auxquelles participent des commissions locales de l’eau, composées d’élus locaux, de représentants d’usagers et des administrations. Les citoyens sont donc présents mais surtout « en tant que… » : agriculteurs, industriels, membres d’une association de défense de l’environnement, pêcheurs, consommateurs, et plus récemment en tant qu’usagers non-économiques de l'eau (usagers des milieux marins et de la biodiversité).La Directive cadre européenne sur l’eau (DCE, 2000) incite à aller plus loin en matière de transparence de la politique de l’eau (information et consultation du public), et la loi pour la reconquête de la biodiversité, de la nature et des paysages (2016) vise à démocratiser le dialogue environnemental. Mais l’auteur déplore toujours que « sur le plan local, les citoyens sont finalement peu consultés : l’État et les ONG, certains de leur bon droit, ignorent ou marginalisent les dimensions sociale et économique des mesures environnementales.Alors que la DCE a instauré le principe de concertation en matière de gouvernance, celui-ci est très peu appliqué sur le terrain. Ou alors on le trouve sous des formes bien moins ambitieuses : consultation formelle par questionnaires, informations plus ou moins accessibles, etc. Il est symptomatique que l’on demande souvent aux sciences sociales de travailler sur la question de l’acceptabilité des mesures. La démarche est tendancieuse : il ne s’agit pas de prendre la température de la société pour décider des mesures à prendre, mais de trouver comment faire accepter par le citoyen des mesures déjà prises dans les sphères politico-administratives ! » (p. 241). Tant les Assises de l’eau (2017-2018) que le Varenne agricole de l’eau et de l’adaptation au changement climatique (2021-2022), pourtant forts de leur dynamique de concertation, ont peu donné la place à la parole citoyenne.     La parole citoyenne : un atout pour sortir du cadre La préservation et le partage de la ressource vont demander des compromis ardus dans un contexte de forte divergence des intérêts et visions. Comme l’a montré le conflit autour du barrage de Sivens ou actuellement celui des méga-bassines dans les Deux-Sèvres, en l’absence d’espaces de dialogues suffisants, appels à mobilisations et affrontements risquent de se multiplier. Permettre au citoyen de se réapproprier le débat sur l’eau, c’est lui donner une voix « sur le choix de trajectoire dans lequel on souhaite inscrire éventuellement la dynamique du système ». Pour les professionnels qui pratiquent la participation, c’est un moyen d’apaisement des conflits (Anne Pressurot).Consacrant un numéro entier aux démarches participatives pour penser ensemble la gestion de l’eau et des territoires, la revue Sciences Eaux & Territoires confirme les constats de l’ouvrage tout en faisant état de plusieurs tendances plus optimistes : progression de la démocratisation du dialogue environnemental, développement d’outils participatifs efficaces (jeux de rôles, observatoires participatifs, modélisation, etc.), volonté des citoyens de parler en leur nom et/ou d’agir à leur échelle, meilleure acceptation des élus des démarches participatives incluant davantage citoyens et riverains, ou encore participation ne visant pas seulement à informer mais bien à collecter les opinions.     Citoyens et naturalité des cours d’eau : une approche paradoxale L’approche citoyenne est d’abord subjective : symbolique, sensible, sensorielle, expérientielle, empreinte de sa « proximité avec ce milieu » via ses usages (observation, pêche, sport, etc.) ou son quotidien (lieu de travail ou de résidence), de ses représentations et croyances. Réfléchir avec les citoyens, c’est mettre au cœur des débats les paradoxes entre la nature projetée, idéalisée, et la nature réelle.Ainsi, l’auteur rappelle que les enquêtes réalisées sur le Rhône montrent que « si les individus affichent des préférences pour les environnements naturels, ce sont en réalité les paysages entretenus qu’ils plébiscitent » : une rivière calme, aux berges entretenues donnant un accès visuel et physique à l’eau, permettant d’observer la richesse de la flore et et de la faune, avec des aménagements tels que chemins et toilettes (p. 252). En matière de pollution, il retient les changements visibles, les grandes pollutions industrielles mais reste aveugle aux contaminations chroniques par des résidus chimiques indétectables à l’œil ou au goût. Il est ainsi plus difficile de le mobiliser sur les enjeux de disponibilité de la ressource (sécheresse, étiage, eaux souterraines, etc.) que sur ceux de qualité.Mener à bien des projets de ville perméable pour devenir une water resilient city, nécessitera sans doute de travailler sur les représentations de la présence de l’eau en ville, sur le rapport au risque d’inondation ; le recyclage des eaux usées sur la perception de l’eau domestique et des déchets. A l’inverse, ce sont plutôt les citoyens qui bousculent les normes en matière d’assainissement alternatif collectif que ce soit pour épurer l’eau (Genève) ou pour s’en passer (recours aux toilettes sèches, Grenoble), eux aussi qui se mobilisent pour défendre l’eau contre les tentatives de privatisation et financiarisation et en faire un droit humain.     Dans tous les cas, pour l’auteur, engager le citoyen passe par un partage de la connaissance... mais aussi des doutes.  Bousculer les dogmatismes    Tout en expliquant les enjeux de désartificialisation des rivières tant pour la biodiversité que pour le fonctionnement pérenne de l’hydrosystème fluvial, Christian Lévêque s’attaque hardiment à certains concepts au cœur de la gouvernance de l’eau, tels que la « mythique croyance, encore largement partagée, de systèmes à l’équilibre » (p. 53). Au contraire, l’hydrosystème est caractérisé par sa variabilité sur le long terme : « cette variabilité spatio-temporelle doit être considérée, non pas comme une série de perturbations, mais bien comme un paramètre structurel du fonctionnement des hydrosystèmes ». La résilience, au sens de retour à un état antérieur à la perturbation, ne fait ainsi pas sens et questionne un autre concept, celui de la restauration du « bon état » des cours d’eau.Faisant référence à un passé dans lequel santé ou intégrité de l’écosystème étaient préservés, ce concept normatif pose « comme référence une nature vierge, non impactée par l’homme, [qui] n’a pas de sens dans un environnement avec lequel l’homme interagit depuis des millénaires » (p. 121). La vision dynamique des scientifiques s’oppose ainsi à celle de « nature pristine », « d’âge d’or révolu » des associations naturalistes et militantes, à celle pragmatique des industriels, pour qui ce bon état est une illusion, et enfin à la vision parcellaire des citoyens, pour qui le bon état écologique dépend de la qualité de vie (usages et paysage).     Dans ce contexte, quelle est donc la pertinence d'activités de restauration érigées en norme ? Pourquoi ce qui a été perdu doit-il être privilégié sur ce qui a été gagné ? Si des aménagements ont contribué à la raréfaction d’espèces, ils peuvent avoir favorisé l’émergence de nouvelles zones de biodiversité (ex. la création du lac de Der en Champagne). Faut-il par ailleurs s’évertuer à restaurer des zones vouées à disparaître avec le réchauffement climatique ? Lutter contre les espèces dites invasives, qui font le bonheur de certains usagers (pécheurs, passionnés...) alors que la restauration de la continuité écologique des cours d’eau favorise ces migrations ? Finalement, quelles rivières voulons-nous, et pour quels usages ?En la matière, Christian Lévêque assume la priorité donnée à l’homme, comme le souligne Ghislain de Marsily, auteur de la préface : « pour Christian Lévêque, l’environnement est au service de l’humanité, et non l’inverse. C’est le citoyen qui doit définir les attentes de la société par rapport à l’état des milieux au sein desquels il vit ». Des attentes écologiques, économiques, politiques, éthiques mais aussi émotionnelles et esthétiques. Il rejoint ici l’appel du philosophe mathématicien Olivier Rey, à « réparer l’eau afin qu’elle puisse à nouveau nourrir nos rêves ».En ayant cantonné cet élément à une vision utilitariste et rationnelle, en le dépouillant de sa dimension poétique, l’homme s’est appauvri lui-même et a affaibli sa capacité à répondre aux enjeux de l’eau : « Il est évident que face au tableau apocalyptique, on ne peut pas faire autrement qu'adopter une démarche gestionnaire. Mais en même temps il faut prendre en compte ce qui nous a amené à cette situation : un rapport utilitariste à la nature. Il faudrait aussi traiter la cause de la maladie et restaurer un rapport à la nature qui ne nous amène pas à ces excès. » Quelles rivières pour demain ? Réflexions sur l’écologie et la restauration des cours d’eau (2021, 2éme éd) - Christian Lévêque - Éditions Quae  \n",
      "----------------------\n",
      "Eau/3 - La responsabilité individuelle\n",
      "Le rôle que joue l’eau dans la vie et sa place dans notre quotidien influencent les représentations que nous en avons. \n",
      "\n",
      "Mais il est souvent difficile de trouver les bons repères pour parler de ce sujet : entre eaux « bleue », « verte » et « grise », on ne parle pas de la même « ressource », et la façon de raisonner dépend de l’échelle à laquelle nous nous plaçons (petit cycle de l’eau domestique ou grand cycle naturel).\n",
      "\n",
      "Alors, pour mieux étayer un débat public sur l’eau, quelles sont les informations scientifiques à notre disposition ? \n",
      "\n",
      "Que sait-on de la situation sur le territoire de la métropole de Lyon aujourd’hui et des prévisions dans le futur ? \n",
      "\n",
      "Cette fiche revient sur l’eau consommée par chaque secteur (agriculture, industrie, ménages) aux niveaux mondial et national, en distinguant les différents types d’eaux (verte, bleue, grise).\n",
      "\n",
      "Cette fiche est la troisième sur une série de neuf. Retrouvez l’intégralité de la fiche dans l’article ci-dessous et également en téléchargement sur cette page.\n",
      "«La lutte contre le gâchis d’eau, c’est d’abord l’affaire des agriculteurs et des industriels » ? Comment les habitants se posent-ils cette question ?Les secteurs de l’industrie et de l’agriculture sont désignés chacun par un quart des Français comme étant le secteur utilisant le plus d’eau. Un autre quart des Français considère que les quatre usages (agricole, industriel, énergétique et domestique) utilisent autant d’eau les uns que les autres (CGDD, 2014).Cela étant dit, la plupart des gens (86 % des Français) pensent que les consommateurs ont un rôle à jouer sur la préservation des ressources en eau mais une moindre proportion (65 % seulement en 2020) se sent responsable de la pollution de l’eau : s’il y a vraiment un problème à résoudre, la problématique relève davantage des autorités publiques et des gestionnaires privés que des particuliers (CIEAU, 2020). Ce qu’il faut retenir :L’eau captée pour les activités humaines (« l’eau bleue », cf. sujet 2) est pour plus de la moitié utilisée en France par les activités économiques comme l’agriculture et l’industrie, qui ont de ce fait un rôle important à jouer dans une meilleure gestion de la ressource. Mais cette eau est la plupart du temps captée en surface puis rejetée et ne nécessite pas d’être potable. Au contraire, l’eau potable est généralement plus difficile d’accès et majoritairement souterraine. Elle est distribuée par les collectivités et prioritairement destinée aux ménages, qui ont donc eux aussi un rôle à jouer dans sa préservation. 70 % de l’eau douce est utilisée par le secteur agricoleOn estime que l’agriculture représente 70 % de l’utilisation d’eau douce à travers le monde, contre 20 % pour l’industrie et 10 % pour les habitants (ADEME). Mais si l’agriculture est un secteur grand consommateur d’eau, c’est avant tout parce qu’elle capte une partie de l’eau de pluie (l’« eau verte », cf. sujet 2). L’eau prélevée dans les rivières, les cours d’eau et les nappes phréatiques, aussi appelée « eau bleue », est en revanche majoritairement utilisée pour d’autres usages. 50 % de l’« eau bleue » est, en France, utilisée par l’agriculture et l’industrieEn France, un peu plus de 30 milliards de m3 d’eau sont ainsi prélevés chaque année pour satisfaire aux activités humaines (SoES, 2017). Mais la grande majorité de cette eau a un usage très spécifique puisqu’elle n’est pas consommée mais simplement dérivée afin de refroidir les centrales nucléaires ou alimenter les canaux de navigation.Au-delà de cette eau « dérivée », le reste de l’eau prélevée qui est réellement consommée représente 10,7milliards de m3 (SoES, 2017). Cela équivaut à ce que les spécialistes appellent l’« eau bleue » (cf. sujet 2) c’est-à-dire l’eau captée dans les milieux et utilisée afin de répondre à trois fonctions :💧   Les usages industriels (2,7 milliards de m3/an).💧   Les usages agricoles (2,7 milliards de m3/an) comme l’irrigation.💧   L’eau potable (5,3 milliards de m3/an).Au final, l’eau potable représente donc un peu moins de 50 % du total de la consommation d’« eau bleue ».   Répartition des préléèvements d'eau douce par grands usages et milieux prélevés en France métropolitaine en 2013© SoES, 2017, p.21   + de 2/3 de l’eau potable est issue du sous-solLes usages industriels et agricoles utilisent de l’eau douce mais ne nécessitent pas forcément de faire appel à une eau potable. C’est la raison pour laquelle la majorité de l’eau utilisée par ces secteurs économiques est captée en surface (rivières, lacs, réservoirs). Au contraire, l’eau potable est issue pour plus de deux tiers du sous-sol (nappes phréatiques), souvent de meilleure qualité que l’eau de surface pour s’hydrater. 80 % de l’eau potable serait destinée aux ménagesLes ménages ne représentent pas tous les abonnés au réseau d’adduction d’eau potable. Entreprises, commerces et administrations utilisent également cette ressource. Mais en réalité, les ménages en sont de très loin les premiers destinataires : même si les proportions sont difficiles à évaluer, on estime ainsi qu’environ 80 % de l’eau potable serait destinée aux besoins de la population (SISPEA, 2021).Au-delà de la consommation d’eau à l’étranger issue de nos modes de vie (cf. sujet 2), et de l’eau de pluie (eau verte) essentiellement consommée par l’agriculture, la préservation de la ressource en eau bleue sur le territoire comporte 2 enjeux, qui mobilisent chacun des acteurs différents et qui se complètent :La ressource en eau douce de surface, pour laquelle les agriculteurs et industriels sont en première ligne, mais aussi les pouvoirs publics par les aménagements qu’ils autorisent ;La ressource en eau potable issue essentiellement des nappes phréatiques, dont les stocks dépendent pour une grande partie de la consommation des habitants d’une part, et des aménagements autorisés par les pouvoirs publics d’autre part (capacité à renouveler le stock en facilitant l’infiltration d’eau). Et demain ?En France, l’industrie réduit depuis plusieurs décennies son usage d’eau (environ -20 % de 1994 à 2013) (SoES, 2017), et l’agriculture suit depuis quelques années le même chemin (après avoir beaucoup augmenté sa consommation dans les années 1980-90 du fait de l’accroissement des surfaces irriguées).La consommation d’eau potable, dont plus de 80 % est consommée par les habitants, a également enclenché une baisse depuis une vingtaine d’années.Ces tendances sont encourageantes, mais elles ne suffiront pas forcément pour faire face aux évolutions à venir, que ce soit en termes de raréfaction de la ressource (cf. sujet 5) ou de pollution (cf. sujet 6). Et dans le Grand Lyon ?→ L’eau potable distribuée par le réseau d’adduction de la Métropole de Lyon provient très majoritairement du sous-sol, et plus particulièrement des nappes phréatiques situées sous le champ captant de Crépieux-Charmy (91 % de l’eau distribuée), au Nord-Est de la métropole (communes de Vaulx-en-Velin et Rillieux-la-Pape).→ Les consommations domestiques représentent l’essentiel des abonnés du réseau.→ En revanche, l’équilibre s’inverse pour la nappe de l’Est lyonnais : 47 % des prélèvements sont destinés à l’agriculture, 33 % à la consommation d’eau potable et 20 % à l’industrie (Grand Lyon, 2021).→ L’artificialisation des sols a progressé de +98,5 ha/an entre 2000 et 2015, ce qui contribue à perturber l’infiltration des eaux de pluie dans les nappes et donc la recharge en eau bleue. L’eau est alors évaporée ou s’écoulent dans les eaux de surface (Grand Lyon, 2021). Pour en savoir +• ADEME, non daté, Cycle de l’eau, attention aux fuites, (infographie).• CIEAU, 2019, Les Français et l’eau. Enquête nationale 2019, TNS Sofres.• CIEAU, 2020, Baromètre annuel d’opinion 2020, Kantar.• CGDD, 2014, Ressources en eau : perceptions et consommation des Français.• Grand Lyon, 2019, Rapport annuel 2019 sur le prix et la qualité des services publics de l’eau potable et de l’assainissement.• Grand Lyon, 2021, Schéma Général d’alimentation en eau potable, document interne.• SISPEA, 202, Observatoire des services publics d’eau et d’assainissement• SoES, 2017, Les prélèvements d’eau douce en France : les grands usages en 2013 et leur évolution depuis 20 ans. Retrouvez toutes les fiches Eau :Sujet n°1 – La disponibilité de la ressource en eau douce « La planète bleue ne peut pas manquer d’eau » ?Sujet n°2 – Les consommations visibles… et invisibles « J’ai un comportement responsable, je fais attention à l’eau que je consomme au robinet » ?Sujet n°3 – La responsabilité individuelle « La lutte contre le gâchis d’eau, c’est d’abord l’affaire des agriculteurs et des industriels » ?Sujet n°4 – Les marges de manœuvre individuelles « Pour réduire ses consommations d’eau potable, il suffit de prendre des douches à la place des bains » ?Sujet n°5 – La quantité d’eau douce disponible « Il y aura toujours assez d’eau dans le Rhône et la Saône » ?Sujet n°6 – La qualité de l’eau potable « On trouvera toujours le moyen de rendre l’eau potable » ?Sujet n°7 – Les nombreux effets du changement climatique « Avec le changement climatique, c’est surtout le littoral qui sera touché par la montée des eaux » ?Sujet n°8 – Le prix et le coût de l’eau « L’eau devrait être gratuite » ?Sujet n°9 – Les différentes fonctions de l’eau « Le plus important, c’est l’eau pour boire et pour se nourrir » ?  ――――――――――――――――――――――Pour tout savoir sur la démarche Eau futurE et ses suites, rendez-vous sur jeparticipe.grandlyon.com.―――――――――――――――――――――― \n",
      "----------------------\n",
      "Veille M3 / Élisabeth Thiéblemont, d’Eau de Paris : « Il faut sortir de la vision technique de l'eau »\n",
      "Au terme d’un trimestre passé à réfléchir aux enjeux prospectifs de la gestion de l’eau, la Veille M3 conclue son périple printanier avec Élisabeth Thiéblemont, prospectiviste au sein d’Eau de Paris, l’opérateur public en charge de la production et de la distribution de l’eau dans la capitale.Spécificités des services publics dans la gestion d’un bien commun, échanges citoyens avec les usagers, émergence de nouvelles représentations symboliques : autant de sujets abordés dans cet entretien, qui nous rappelle à quel point le partage de l’eau pourrait bien être la grande question de ce siècle.\n",
      "\n",
      "\n",
      "Quelle place occupe la prospective au sein de l’organisation d’Eau de Paris ? Elle prend différentes dimensions. La plus classique et ancienne est une prospective que je qualifie de « métiers ». À partir du moment où, dans un processus industriel, vous mettez en place des plans d'investissement à 25-30 ans, vous devez obligatoirement intégrer des évolutions de court terme et anticiper les changements qui se profilent à moyen et long termes. À ce titre, les équipes « métiers » font de la prospective, s’appuyant sur des compétences internes ou des bureaux d’études tels que le Bureau de recherches géologiques et minières (BRGM). À Eau de Paris, nos experts réfléchissent par exemple à un nouveau schéma directeur des eaux souterraines à horizon 2030, qui tiendrait compte des impacts du changement climatique sur la qualité et la quantité des ressources, des polluants émergents, de l’évolution des normes de qualité et du développement de nouveaux procédés. Le but est d’anticiper l’évolution de nos modes d’exploitation ou de nos usines de traitement.   Comment conciliez-vous vos impératifs industriels avec une démarche de service public ? C'est une vraie question, qui a toujours été présente à Eau de Paris. Toute entreprise cherche à construire son corps social en donnant du sens aux missions de ses salariés, en se dotant d’une vision, de valeurs, d’orientations stratégiques et de plans d’actions pour asseoir le projet collectif, en misant sur l’excellence opérationnelle, la R&D et l’innovation pour assurer sa pérennité. Eau de Paris n’échappe pas à celle réalité entrepreneuriale. Benjamin Gestin, directeur général, a lancé un nouveau projet d’entreprise 2021-2026 ambitieux qui s’appuie sur deux modalités et leviers de transformation majeurs : la transition écologique et solidaire car nous visons la contribution à la neutralité carbone à 2030 et la transition numérique. Mais nous le faisons avec une dimension particulière, propre à notre raison d’être : celle d’assurer la continuité du service public de l’eau auprès des usagers parisiens, en toutes circonstances, 24h/24, en délivrant une eau de qualité et en prenant en compte les enjeux écologiques et sociaux de nos territoires d’intervention.À quelles attentes correspondent cette envie croissante et ce mouvement de retour en régie publique ? En France, on assiste à un triple phénomène, a priori contradictoire.Le soutien des usagers à un passage de l’eau en régie ne serait donc pas selon vous le signe d'une confiance renouvelée au secteur public, mais plutôt la preuve d’une volonté de reprendre place dans le processus décisionnel ? Cela procède probablement en effet d’un sentiment de participer à une œuvre commune qui touche à la santé, la qualité et le confort de vie. Ce qui se joue ici entre les institutions publiques, les citoyens et l’eau est le rétablissement d’un rapport de confiance pour faire société, avec un « acteur non humain comme l’eau » (je cite le sociologue Bruno Latour), mais un acteur patrimonial.Ce retour du politique dans la gestion de l'eau passe par une forme de « perméabilité » entre une institution, une entreprise publique comme Eau de Paris et la société civile. Comment ce dialogue se met en œuvre à votre niveau ? À Paris, l’invisibilité de l’eau potable est une réalité. On combine plusieurs difficultés. Nos sites de production se situent historiquement (depuis le 19e siècle) à l'extérieur du périphérique, alors que notre mission principale est de distribuer de l’eau potable dans Paris intra-muros. L’habitat parisien est collectif à 95 %. La facture d'eau n'est pas adressée aux locataires, mais aux syndics de copropriété, qui eux-mêmes confient la gestion du contrat eau à des gestionnaires d’immeubles. Les bureaux de ces derniers sont rarement à Paris. La plupart des locataires n’ont aucune idée des mètres cubes qu’ils consomment et du prix de l’eau. À ce sujet, la consommation de l’eau est télé-relevée depuis plus de 30 ans à Paris : les usagers parisiens ne voient pas de releveurs de compteurs d’eau depuis longtemps, alors qu’ils en ont vu jusqu’à récemment pour les compteurs d’électricité ou de gaz. Depuis 2001, depuis les attentats du World Trade Center, les visites des sites d’eau ont été interdites au public, du fait du plan Vigipirate renforcé. Il y a une déconnexion totale entre le service de l’eau, les métiers, les installations que cela recouvre et l'usage de l’eau.  Cette question préoccupe tous les acteurs de la réorientation écologique. Alors que tous les arguments rationnels paraissent déjà posés, il semble encore manquer à cette transition une dimension sensible indispensable à une réelle prise de conscience. Quelles pistes peut-on suivre selon vous ? Le récit comme transmission de ce qui était, de ce qui est et de ce qui sera est très important. Anne-Caroline Prévot, directrice de recherche au CNRS et biologiste de la conservation au Museum national d’histoire naturelle, considère que cette absence de récit est à la base de « l’amnésie générationnelle environnementale » : un oubli progressif de l’histoire environnementale de notre pays qui explique notre incapacité à réagir, alors que les effets du changement climatique se manifestent chaque jour davantage. Pourquoi réagir si on ne sait pas comment c’était avant et comment sera demain ? Christian Clot, explorateur et chercheur en capacités d’adaptation en situation extrême, lui, évoque la nécessité de développer des expériences sensorielles : parler des enjeux de la forêt quand on n’a jamais été dans une forêt est inutile selon lui.Même si la participation des citoyens est régulièrement sollicitée, la multiplication des usages de l’eau implique d’autres acteurs. La gouvernance ouverte intègre-t-elle cette dimension ? Sur quelles premières expériences peut-on s’appuyer pour imaginer ce renouveau ? Vous avez raison, la multiplication des usages de l’eau, dans un contexte de raréfaction de la ressource et de disponibilités différentes de l’eau, sera l’enjeu de demain : un enjeu de partage. Vous en faîtes directement référence dans votre article Entre conflits et coopérations, l’eau comme bien commun ?, et indirectement dans De l’eau dans le numérique ? L’empreinte hydrique méconnue d’un secteur perçu à tort comme immatériel. Aux acteurs classiques de l’eau (les collectivités, les citoyens, les agriculteurs), d’autres acteurs aux activités « aquavores » vont entrer dans la danse à la faveur des transitions énergétique, numérique, alimentaire et industrielle. L’eau, qui est déjà au carrefour de nombreuses politiques publiques, va devenir vecteur d’animation et de développement territorial : sans eau pas d'alimentation, pas ou peu d'énergie, pas d'accès à un logement confortable, pas de confort urbain, pas de numérique, ni de réindustrialisation. Ces partages de la ressource vont nécessiter des arbitrages politiques et une gouvernance repensée au niveau du grand cycle de l’eau. Il n’est pas anodin qu’il y ait plus en plus de colloques et de débats sur l’eau comme facteur d’aménagement du territoire et enjeu de partage.Avec ces interdépendances en série, la question de l’eau n’est-elle pas à elle seule une porte d’entrée vers l’ensemble des problématiques prospectives liées à la transition écologique ? L'eau, c’est en effet bien plus que de l'eau, c’est un carrefour. Grâce à l’ingénierie hydraulique et publique, on est capable d’innerver les territoires et d'être l'animateur essentiel d’une politique de développement territorial. Le rafraîchissement urbain va nécessiter de repenser l’eau dans la ville. La réindustrialisation intègrera une ambition en matière de qualité d'environnement. Il va falloir proposer à des industriels une capacité importante en énergie et en eau pour leurs data centers.\n",
      "----------------------\n"
     ]
    }
   ],
   "source": [
    "txt = []\n",
    "for doc in sim[:4].index:\n",
    "    with open(f\"./data/Texte/{doc}/full.txt\", \"r\", encoding=\"utf-8\") as f:\n",
    "        texte = f.read()\n",
    "        print(texte)\n",
    "        txt.append(texte)\n",
    "    print(\"----------------------\")"
   ]
  },
  {
   "attachments": {},
   "cell_type": "markdown",
   "metadata": {},
   "source": [
    "### Resumé avec ChatGPT"
   ]
  },
  {
   "cell_type": "code",
   "execution_count": 248,
   "metadata": {},
   "outputs": [
    {
     "name": "stdout",
     "output_type": "stream",
     "text": [
      "{\n",
      "  \"choices\": [\n",
      "    {\n",
      "      \"finish_reason\": \"stop\",\n",
      "      \"index\": 0,\n",
      "      \"message\": {\n",
      "        \"content\": \"La F\\u00eate de l'eau et la conf\\u00e9rence Novatech se sont tenues \\u00e0 Lyon les 5 et 6 juin, o\\u00f9 ont \\u00e9t\\u00e9 abord\\u00e9s les enjeux de la gestion des eaux urbaines et de la pollution par les eaux de ruissellement. La Mission Ecologie du Grand Lyon s'int\\u00e9resse \\u00e0 la question de l'eau dans la ville et travaille en collaboration avec la Direction de l'eau pour \\u00e9tudier les aspects patrimoniaux et fonctionnels de l'eau. Novatech met en avant l'expertise de Lyon en mati\\u00e8re d'hydraulique urbaine et cherche \\u00e0 trouver des solutions techniques pour g\\u00e9rer les eaux de ruissellement. Les principales pr\\u00e9occupations actuelles concernent la qualit\\u00e9 de ces eaux de ruissellement et leur impact sur les cours d'eau naturels. La pollution de l'eau est un enjeu complexe et les diff\\u00e9rentes sources de pollution doivent \\u00eatre prises en compte, notamment les rejets industriels et agricoles. La gestion de l'eau potable est \\u00e9galement cruciale, notamment en ce qui concerne l'approvisionnement en eau et le traitement des eaux us\\u00e9es. La pr\\u00e9servation des ressources en eau et la sensibilisation du public sont des objectifs importants pour les acteurs impliqu\\u00e9s. La question de l'eau est \\u00e9galement li\\u00e9e \\u00e0 d'autres enjeux de la transition \\u00e9cologique, tels que le changement climatique et l'artificialisation des sols. Il est essentiel d'impliquer les citoyens dans les d\\u00e9cisions concernant la gestion de l'eau et de promouvoir une vision plus large de l'eau en tant que bien commun.\",\n",
      "        \"role\": \"assistant\"\n",
      "      }\n",
      "    }\n",
      "  ],\n",
      "  \"created\": 1690190148,\n",
      "  \"id\": \"chatcmpl-7flxMfRvb5vOIHSAee9geVNKxMTsa\",\n",
      "  \"model\": \"gpt-3.5-turbo-16k-0613\",\n",
      "  \"object\": \"chat.completion\",\n",
      "  \"usage\": {\n",
      "    \"completion_tokens\": 364,\n",
      "    \"prompt_tokens\": 14062,\n",
      "    \"total_tokens\": 14426\n",
      "  }\n",
      "}\n"
     ]
    }
   ],
   "source": [
    "import openai\n",
    "\n",
    "with open(\"api_key\", \"r\", encoding=\"utf-8\") as f:\n",
    "    openai.api_key = f.read()\n",
    "\n",
    "prompt = f\"\"\"Je cherche à synthétiser au mieux l'information pour dégager les informations des différents textes. Met en avant les principales informations de ces différents textes séparés par ce signe \"---\" : {\"---\".join(txt)}\"\"\"\n",
    "\n",
    "openai.organization = \"org-mqd2akvmI5TNokavyM3mWXSq\"\n",
    "chat_completion = openai.ChatCompletion.create(\n",
    "    model=\"gpt-3.5-turbo-16k\",\n",
    "    messages = [{\"role\": \"user\", \n",
    "                 \"content\": prompt}]\n",
    "    )\n",
    "print(chat_completion)"
   ]
  },
  {
   "cell_type": "code",
   "execution_count": 249,
   "metadata": {},
   "outputs": [
    {
     "name": "stdout",
     "output_type": "stream",
     "text": [
      "\n",
      " La Fête de l'eau et la conférence Novatech se sont tenues à Lyon les 5 et 6 juin, où ont été abordés les enjeux de la gestion des eaux urbaines et de la pollution par les eaux de ruissellement. La Mis\n",
      " sion Ecologie du Grand Lyon s'intéresse à la question de l'eau dans la ville et travaille en collaboration avec la Direction de l'eau pour étudier les aspects patrimoniaux et fonctionnels de l'eau. No\n",
      " vatech met en avant l'expertise de Lyon en matière d'hydraulique urbaine et cherche à trouver des solutions techniques pour gérer les eaux de ruissellement. Les principales préoccupations actuelles co\n",
      " ncernent la qualité de ces eaux de ruissellement et leur impact sur les cours d'eau naturels. La pollution de l'eau est un enjeu complexe et les différentes sources de pollution doivent être prises en\n",
      "  compte, notamment les rejets industriels et agricoles. La gestion de l'eau potable est également cruciale, notamment en ce qui concerne l'approvisionnement en eau et le traitement des eaux usées. La \n",
      " préservation des ressources en eau et la sensibilisation du public sont des objectifs importants pour les acteurs impliqués. La question de l'eau est également liée à d'autres enjeux de la transition \n",
      " écologique, tels que le changement climatique et l'artificialisation des sols. Il est essentiel d'impliquer les citoyens dans les décisions concernant la gestion de l'eau et de promouvoir une vision p\n",
      " lus large de l'eau en tant que bien commun."
     ]
    }
   ],
   "source": [
    "for i, carac in enumerate(chat_completion[\"choices\"][0][\"message\"][\"content\"]):\n",
    "    if i%200 == 0:\n",
    "        print(\"\\n\", carac, end = \"\")\n",
    "    else:\n",
    "        print(carac, end=\"\")\n"
   ]
  },
  {
   "cell_type": "markdown",
   "metadata": {},
   "source": [
    "# Pipeline avec LLama2 & HuggingFace"
   ]
  }
 ],
 "metadata": {
  "kernelspec": {
   "display_name": "base",
   "language": "python",
   "name": "python3"
  },
  "language_info": {
   "codemirror_mode": {
    "name": "ipython",
    "version": 3
   },
   "file_extension": ".py",
   "mimetype": "text/x-python",
   "name": "python",
   "nbconvert_exporter": "python",
   "pygments_lexer": "ipython3",
   "version": "3.9.13"
  },
  "orig_nbformat": 4
 },
 "nbformat": 4,
 "nbformat_minor": 2
}
