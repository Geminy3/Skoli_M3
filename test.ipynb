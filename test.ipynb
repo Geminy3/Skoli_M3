{
 "cells": [
  {
   "cell_type": "code",
   "execution_count": 12,
   "metadata": {},
   "outputs": [],
   "source": [
    "\n",
    "from langchain.vectorstores import Chroma\n",
    "from langchain.embeddings import HuggingFaceEmbeddings\n",
    "import networkx as nx\n",
    "from bs4 import BeautifulSoup\n",
    "import json\n",
    "import pandas as pd\n",
    "import numpy as np\n",
    "\n",
    "embeddings_model_name=\"all-MiniLM-L6-v2\"\n",
    "embeddings = HuggingFaceEmbeddings(model_name=embeddings_model_name, model_kwargs={'device' : 'cpu'})\n",
    "vectorstore2 = Chroma(persist_directory = \"./TEST_chat/chroma\", embedding_function=embeddings)"
   ]
  },
  {
   "cell_type": "code",
   "execution_count": 60,
   "metadata": {},
   "outputs": [],
   "source": [
    "def auteurs_links(mult_items):\n",
    "\n",
    "    aut_dic = {}\n",
    "\n",
    "    for url in mult_items:\n",
    "        for aut in mult_items[url][\"auteurs\"]:\n",
    "            if aut == \"N\" or aut == \"A\":\n",
    "                pass\n",
    "            else:\n",
    "                if aut not in aut_dic.keys():\n",
    "                    aut_dic[aut] = {}\n",
    "                    \n",
    "    for aut in aut_dic.keys():\n",
    "        for url in mult_items:\n",
    "            if aut in mult_items[url][\"auteurs\"]:\n",
    "                # aut_dic[aut][\"value\"] += 1\n",
    "                for a in mult_items[url][\"auteurs\"]:\n",
    "                    if a != aut and a not in aut_dic[aut].keys():\n",
    "                        aut_dic[aut][a] = {\"weight\" : 1}\n",
    "                    elif a != aut and a in aut_dic[aut].keys():\n",
    "                        aut_dic[aut][a][\"weight\"] += 1\n",
    "\n",
    "    g = nx.Graph(aut_dic)\n",
    "    d = nx.to_pandas_adjacency(g)\n",
    "    #d.values[[np.arange(len(d))]*2] = np.nan\n",
    "    d = d.stack().reset_index()\n",
    "    d.columns = [\"source\", \"target\", \"values\"]\n",
    "    d = d[d[\"values\"] > 0]\n",
    "    d.to_csv(\"./pages/data/auteurs_link.csv\")\n",
    "\n",
    "def tag_links(mult_items):\n",
    "\n",
    "    tag_dic = {}\n",
    "\n",
    "\n",
    "    for url in mult_items:\n",
    "        # print(url, len(mult_items[url][\"tags\"]))\n",
    "        for tag in mult_items[url][\"tags\"]:\n",
    "            if tag == \"N\" or tag == \"A\" or tag == '\\n   \\tThéo BATTAGLIA\\n':\n",
    "                pass\n",
    "            else:\n",
    "                if tag not in tag_dic.keys():\n",
    "                    tag_dic[tag] = {}\n",
    "\n",
    "    for tag in tag_dic.keys():\n",
    "        for url in mult_items:\n",
    "            if tag in mult_items[url][\"tags\"]:\n",
    "                for t in mult_items[url][\"tags\"]:\n",
    "                    if t in tag_dic.keys():\n",
    "                        if t != tag and t not in tag_dic[tag].keys():\n",
    "                            tag_dic[tag][t] = {\"weight\" : 1}\n",
    "                        elif t != tag and t in tag_dic[tag].keys():\n",
    "                            tag_dic[tag][t][\"weight\"] += 1\n",
    "\n",
    "    g = nx.Graph(tag_dic)\n",
    "    d = nx.to_pandas_adjacency(g)\n",
    "    #d.values[[np.arange(len(d))]*2] = np.nan\n",
    "    d = d.stack().reset_index()\n",
    "    d.columns = [\"source\", \"target\", \"values\"]\n",
    "    d = d[d[\"values\"] > 0]\n",
    "    d.to_csv(\"./pages/data/tags_link.csv\")"
   ]
  },
  {
   "cell_type": "code",
   "execution_count": 61,
   "metadata": {},
   "outputs": [],
   "source": [
    "import Lib.DATA2NET as net\n",
    "mult_items = net.mult_items\n",
    "tag_links(mult_items)\n",
    "auteurs_links(mult_items)"
   ]
  }
 ],
 "metadata": {
  "kernelspec": {
   "display_name": "env_mac",
   "language": "python",
   "name": "python3"
  },
  "language_info": {
   "codemirror_mode": {
    "name": "ipython",
    "version": 3
   },
   "file_extension": ".py",
   "mimetype": "text/x-python",
   "name": "python",
   "nbconvert_exporter": "python",
   "pygments_lexer": "ipython3",
   "version": "3.11.5"
  },
  "orig_nbformat": 4
 },
 "nbformat": 4,
 "nbformat_minor": 2
}
