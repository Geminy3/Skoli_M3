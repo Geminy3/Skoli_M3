{
 "cells": [
  {
   "cell_type": "code",
   "execution_count": 1,
   "metadata": {},
   "outputs": [],
   "source": [
    "import requests\n",
    "from urllib.parse import urljoin\n",
    "from bs4 import BeautifulSoup\n",
    "import re\n",
    "#from multiprocessing import Pool, Process\n",
    "import os\n"
   ]
  },
  {
   "cell_type": "code",
   "execution_count": 2,
   "metadata": {},
   "outputs": [],
   "source": [
    "def get_all_page(urls, pattern, url_base):\n",
    "\n",
    "    if pattern in urls:\n",
    "        return(urls)\n",
    "    \n",
    "    html = requests.get(pattern)\n",
    "    soup = BeautifulSoup(html.content, \"html.parser\")\n",
    "    last_page = soup.find(\"a\", {\"title\" : \"Dernière page\"})[\"page\"]\n",
    "\n",
    "    iter = soup.find_all(\"div\", {\"class\" : re.compile(\"m3-pagination print_hidden|print_hidden pagination\")})\n",
    "    for item in iter:\n",
    "        lst = re.findall(\"url.*?;\", item.find_next_sibling().text)\n",
    "        nw_url = \"\"\n",
    "        if len(lst) > 0:\n",
    "            for item in lst:\n",
    "                if re.search(\"querystring\", item):\n",
    "                    continue\n",
    "                else:\n",
    "                    item = re.sub(\"url =|url \\+=|url\", \"\", item)\n",
    "                    item = item.replace(\";\", \"\").replace(\"\\\"\", \"\").strip()\n",
    "                    item = item.split(\" + \")\n",
    "                for part in item:\n",
    "                    nw_url += part\n",
    "            match = re.compile(\"\\$\\(this\\)\\.attr\\(page\\)\")\n",
    "            for i in range(1, int(last_page)+1):\n",
    "                url = urljoin(url_base, re.sub(match,str(i), nw_url))\n",
    "                if url not in urls:\n",
    "                    urls.append(url)\n",
    "                    \n",
    "        else:\n",
    "            for i in range(1, int(last_page)+1):\n",
    "                urls.append(urljoin(url_base, re.sub(\"page=.\", f\"page={i}\", pattern)))\n",
    "    \n",
    "    return(urls)"
   ]
  },
  {
   "cell_type": "code",
   "execution_count": 3,
   "metadata": {},
   "outputs": [],
   "source": [
    "def getAllUrl(url, url_base, urls, EXPORT_FILE, DATA_FOLDER, page):\n",
    "\n",
    "    soup = BeautifulSoup(page.content, \"html.parser\")\n",
    "    for anchor in soup.find_all(\"a\"):\n",
    "        if \"href\" in anchor.attrs:\n",
    "            if anchor[\"href\"] == \"JavaScript:void(0);\" and anchor[\"class\"] == \"lien-page\":\n",
    "                try:\n",
    "                    urls.extend(get_all_page(urls), url, url_base)\n",
    "                except:\n",
    "                    continue\n",
    "            absolute_url = urljoin(url_base, anchor[\"href\"])\n",
    "            if \"download\" not in absolute_url and absolute_url not in urls and anchor[\"href\"] != \"JavaScript:void(0);\":\n",
    "                if re.search(url_base, absolute_url):\n",
    "                    urls.append(absolute_url)\n",
    "    # Export des pages html ?\n",
    "                    with open(DATA_FOLDER+EXPORT_FILE, \"a\", encoding=\"utf-8\") as f:\n",
    "                        f.write(absolute_url + '\\n')\n",
    "\n",
    "    return(urls)"
   ]
  },
  {
   "cell_type": "code",
   "execution_count": 4,
   "metadata": {},
   "outputs": [],
   "source": [
    "def read_urls(EXPORT_FILE):\n",
    "    with open(EXPORT_FILE, \"r\") as f:\n",
    "        urls = f.read().split(\"\\n\") \n",
    "    print(len(urls))\n",
    "    return(urls)"
   ]
  },
  {
   "cell_type": "code",
   "execution_count": 59,
   "metadata": {},
   "outputs": [
    {
     "name": "stdout",
     "output_type": "stream",
     "text": [
      "LOAD\n",
      "21432\n",
      "21431 / 21432: "
     ]
    },
    {
     "ename": "MissingSchema",
     "evalue": "Invalid URL '': No scheme supplied. Perhaps you meant http://?",
     "output_type": "error",
     "traceback": [
      "\u001b[1;31m---------------------------------------------------------------------------\u001b[0m",
      "\u001b[1;31mMissingSchema\u001b[0m                             Traceback (most recent call last)",
      "\u001b[1;32m~\\AppData\\Local\\Temp\\ipykernel_25784\\2243132528.py\u001b[0m in \u001b[0;36m<module>\u001b[1;34m\u001b[0m\n\u001b[0;32m     49\u001b[0m             \u001b[0mprint\u001b[0m\u001b[1;33m(\u001b[0m\u001b[1;34mf\"\\r{i} / {len(urls)}: {URL}\"\u001b[0m\u001b[1;33m,\u001b[0m \u001b[0mend\u001b[0m \u001b[1;33m=\u001b[0m \u001b[1;34m\"\"\u001b[0m\u001b[1;33m)\u001b[0m\u001b[1;33m\u001b[0m\u001b[1;33m\u001b[0m\u001b[0m\n\u001b[0;32m     50\u001b[0m \u001b[1;33m\u001b[0m\u001b[0m\n\u001b[1;32m---> 51\u001b[1;33m             \u001b[0mpage\u001b[0m \u001b[1;33m=\u001b[0m \u001b[0mrequests\u001b[0m\u001b[1;33m.\u001b[0m\u001b[0mget\u001b[0m\u001b[1;33m(\u001b[0m\u001b[0murls\u001b[0m\u001b[1;33m[\u001b[0m\u001b[0mi\u001b[0m\u001b[1;33m]\u001b[0m\u001b[1;33m)\u001b[0m\u001b[1;33m\u001b[0m\u001b[1;33m\u001b[0m\u001b[0m\n\u001b[0m\u001b[0;32m     52\u001b[0m             \u001b[1;32mif\u001b[0m \u001b[0mpage\u001b[0m\u001b[1;33m.\u001b[0m\u001b[0mstatus_code\u001b[0m \u001b[1;33m==\u001b[0m \u001b[1;36m200\u001b[0m\u001b[1;33m:\u001b[0m\u001b[1;33m\u001b[0m\u001b[1;33m\u001b[0m\u001b[0m\n\u001b[0;32m     53\u001b[0m                 \u001b[0mgetAllUrl\u001b[0m\u001b[1;33m(\u001b[0m\u001b[0murls\u001b[0m\u001b[1;33m[\u001b[0m\u001b[0mi\u001b[0m\u001b[1;33m]\u001b[0m\u001b[1;33m,\u001b[0m \u001b[0murl_base\u001b[0m\u001b[1;33m,\u001b[0m \u001b[0murls\u001b[0m\u001b[1;33m,\u001b[0m \u001b[0mEXPORT_FILE\u001b[0m\u001b[1;33m,\u001b[0m \u001b[0mDATA_FOLDER\u001b[0m\u001b[1;33m,\u001b[0m \u001b[0mpage\u001b[0m\u001b[1;33m)\u001b[0m\u001b[1;33m\u001b[0m\u001b[1;33m\u001b[0m\u001b[0m\n",
      "\u001b[1;32mc:\\Users\\Alioscha\\anaconda3\\lib\\site-packages\\requests\\api.py\u001b[0m in \u001b[0;36mget\u001b[1;34m(url, params, **kwargs)\u001b[0m\n\u001b[0;32m     71\u001b[0m     \"\"\"\n\u001b[0;32m     72\u001b[0m \u001b[1;33m\u001b[0m\u001b[0m\n\u001b[1;32m---> 73\u001b[1;33m     \u001b[1;32mreturn\u001b[0m \u001b[0mrequest\u001b[0m\u001b[1;33m(\u001b[0m\u001b[1;34m\"get\"\u001b[0m\u001b[1;33m,\u001b[0m \u001b[0murl\u001b[0m\u001b[1;33m,\u001b[0m \u001b[0mparams\u001b[0m\u001b[1;33m=\u001b[0m\u001b[0mparams\u001b[0m\u001b[1;33m,\u001b[0m \u001b[1;33m**\u001b[0m\u001b[0mkwargs\u001b[0m\u001b[1;33m)\u001b[0m\u001b[1;33m\u001b[0m\u001b[1;33m\u001b[0m\u001b[0m\n\u001b[0m\u001b[0;32m     74\u001b[0m \u001b[1;33m\u001b[0m\u001b[0m\n\u001b[0;32m     75\u001b[0m \u001b[1;33m\u001b[0m\u001b[0m\n",
      "\u001b[1;32mc:\\Users\\Alioscha\\anaconda3\\lib\\site-packages\\requests\\api.py\u001b[0m in \u001b[0;36mrequest\u001b[1;34m(method, url, **kwargs)\u001b[0m\n\u001b[0;32m     57\u001b[0m     \u001b[1;31m# cases, and look like a memory leak in others.\u001b[0m\u001b[1;33m\u001b[0m\u001b[1;33m\u001b[0m\u001b[0m\n\u001b[0;32m     58\u001b[0m     \u001b[1;32mwith\u001b[0m \u001b[0msessions\u001b[0m\u001b[1;33m.\u001b[0m\u001b[0mSession\u001b[0m\u001b[1;33m(\u001b[0m\u001b[1;33m)\u001b[0m \u001b[1;32mas\u001b[0m \u001b[0msession\u001b[0m\u001b[1;33m:\u001b[0m\u001b[1;33m\u001b[0m\u001b[1;33m\u001b[0m\u001b[0m\n\u001b[1;32m---> 59\u001b[1;33m         \u001b[1;32mreturn\u001b[0m \u001b[0msession\u001b[0m\u001b[1;33m.\u001b[0m\u001b[0mrequest\u001b[0m\u001b[1;33m(\u001b[0m\u001b[0mmethod\u001b[0m\u001b[1;33m=\u001b[0m\u001b[0mmethod\u001b[0m\u001b[1;33m,\u001b[0m \u001b[0murl\u001b[0m\u001b[1;33m=\u001b[0m\u001b[0murl\u001b[0m\u001b[1;33m,\u001b[0m \u001b[1;33m**\u001b[0m\u001b[0mkwargs\u001b[0m\u001b[1;33m)\u001b[0m\u001b[1;33m\u001b[0m\u001b[1;33m\u001b[0m\u001b[0m\n\u001b[0m\u001b[0;32m     60\u001b[0m \u001b[1;33m\u001b[0m\u001b[0m\n\u001b[0;32m     61\u001b[0m \u001b[1;33m\u001b[0m\u001b[0m\n",
      "\u001b[1;32mc:\\Users\\Alioscha\\anaconda3\\lib\\site-packages\\requests\\sessions.py\u001b[0m in \u001b[0;36mrequest\u001b[1;34m(self, method, url, params, data, headers, cookies, files, auth, timeout, allow_redirects, proxies, hooks, stream, verify, cert, json)\u001b[0m\n\u001b[0;32m    571\u001b[0m             \u001b[0mhooks\u001b[0m\u001b[1;33m=\u001b[0m\u001b[0mhooks\u001b[0m\u001b[1;33m,\u001b[0m\u001b[1;33m\u001b[0m\u001b[1;33m\u001b[0m\u001b[0m\n\u001b[0;32m    572\u001b[0m         )\n\u001b[1;32m--> 573\u001b[1;33m         \u001b[0mprep\u001b[0m \u001b[1;33m=\u001b[0m \u001b[0mself\u001b[0m\u001b[1;33m.\u001b[0m\u001b[0mprepare_request\u001b[0m\u001b[1;33m(\u001b[0m\u001b[0mreq\u001b[0m\u001b[1;33m)\u001b[0m\u001b[1;33m\u001b[0m\u001b[1;33m\u001b[0m\u001b[0m\n\u001b[0m\u001b[0;32m    574\u001b[0m \u001b[1;33m\u001b[0m\u001b[0m\n\u001b[0;32m    575\u001b[0m         \u001b[0mproxies\u001b[0m \u001b[1;33m=\u001b[0m \u001b[0mproxies\u001b[0m \u001b[1;32mor\u001b[0m \u001b[1;33m{\u001b[0m\u001b[1;33m}\u001b[0m\u001b[1;33m\u001b[0m\u001b[1;33m\u001b[0m\u001b[0m\n",
      "\u001b[1;32mc:\\Users\\Alioscha\\anaconda3\\lib\\site-packages\\requests\\sessions.py\u001b[0m in \u001b[0;36mprepare_request\u001b[1;34m(self, request)\u001b[0m\n\u001b[0;32m    482\u001b[0m \u001b[1;33m\u001b[0m\u001b[0m\n\u001b[0;32m    483\u001b[0m         \u001b[0mp\u001b[0m \u001b[1;33m=\u001b[0m \u001b[0mPreparedRequest\u001b[0m\u001b[1;33m(\u001b[0m\u001b[1;33m)\u001b[0m\u001b[1;33m\u001b[0m\u001b[1;33m\u001b[0m\u001b[0m\n\u001b[1;32m--> 484\u001b[1;33m         p.prepare(\n\u001b[0m\u001b[0;32m    485\u001b[0m             \u001b[0mmethod\u001b[0m\u001b[1;33m=\u001b[0m\u001b[0mrequest\u001b[0m\u001b[1;33m.\u001b[0m\u001b[0mmethod\u001b[0m\u001b[1;33m.\u001b[0m\u001b[0mupper\u001b[0m\u001b[1;33m(\u001b[0m\u001b[1;33m)\u001b[0m\u001b[1;33m,\u001b[0m\u001b[1;33m\u001b[0m\u001b[1;33m\u001b[0m\u001b[0m\n\u001b[0;32m    486\u001b[0m             \u001b[0murl\u001b[0m\u001b[1;33m=\u001b[0m\u001b[0mrequest\u001b[0m\u001b[1;33m.\u001b[0m\u001b[0murl\u001b[0m\u001b[1;33m,\u001b[0m\u001b[1;33m\u001b[0m\u001b[1;33m\u001b[0m\u001b[0m\n",
      "\u001b[1;32mc:\\Users\\Alioscha\\anaconda3\\lib\\site-packages\\requests\\models.py\u001b[0m in \u001b[0;36mprepare\u001b[1;34m(self, method, url, headers, files, data, params, auth, cookies, hooks, json)\u001b[0m\n\u001b[0;32m    366\u001b[0m \u001b[1;33m\u001b[0m\u001b[0m\n\u001b[0;32m    367\u001b[0m         \u001b[0mself\u001b[0m\u001b[1;33m.\u001b[0m\u001b[0mprepare_method\u001b[0m\u001b[1;33m(\u001b[0m\u001b[0mmethod\u001b[0m\u001b[1;33m)\u001b[0m\u001b[1;33m\u001b[0m\u001b[1;33m\u001b[0m\u001b[0m\n\u001b[1;32m--> 368\u001b[1;33m         \u001b[0mself\u001b[0m\u001b[1;33m.\u001b[0m\u001b[0mprepare_url\u001b[0m\u001b[1;33m(\u001b[0m\u001b[0murl\u001b[0m\u001b[1;33m,\u001b[0m \u001b[0mparams\u001b[0m\u001b[1;33m)\u001b[0m\u001b[1;33m\u001b[0m\u001b[1;33m\u001b[0m\u001b[0m\n\u001b[0m\u001b[0;32m    369\u001b[0m         \u001b[0mself\u001b[0m\u001b[1;33m.\u001b[0m\u001b[0mprepare_headers\u001b[0m\u001b[1;33m(\u001b[0m\u001b[0mheaders\u001b[0m\u001b[1;33m)\u001b[0m\u001b[1;33m\u001b[0m\u001b[1;33m\u001b[0m\u001b[0m\n\u001b[0;32m    370\u001b[0m         \u001b[0mself\u001b[0m\u001b[1;33m.\u001b[0m\u001b[0mprepare_cookies\u001b[0m\u001b[1;33m(\u001b[0m\u001b[0mcookies\u001b[0m\u001b[1;33m)\u001b[0m\u001b[1;33m\u001b[0m\u001b[1;33m\u001b[0m\u001b[0m\n",
      "\u001b[1;32mc:\\Users\\Alioscha\\anaconda3\\lib\\site-packages\\requests\\models.py\u001b[0m in \u001b[0;36mprepare_url\u001b[1;34m(self, url, params)\u001b[0m\n\u001b[0;32m    437\u001b[0m \u001b[1;33m\u001b[0m\u001b[0m\n\u001b[0;32m    438\u001b[0m         \u001b[1;32mif\u001b[0m \u001b[1;32mnot\u001b[0m \u001b[0mscheme\u001b[0m\u001b[1;33m:\u001b[0m\u001b[1;33m\u001b[0m\u001b[1;33m\u001b[0m\u001b[0m\n\u001b[1;32m--> 439\u001b[1;33m             raise MissingSchema(\n\u001b[0m\u001b[0;32m    440\u001b[0m                 \u001b[1;34mf\"Invalid URL {url!r}: No scheme supplied. \"\u001b[0m\u001b[1;33m\u001b[0m\u001b[1;33m\u001b[0m\u001b[0m\n\u001b[0;32m    441\u001b[0m                 \u001b[1;34mf\"Perhaps you meant http://{url}?\"\u001b[0m\u001b[1;33m\u001b[0m\u001b[1;33m\u001b[0m\u001b[0m\n",
      "\u001b[1;31mMissingSchema\u001b[0m: Invalid URL '': No scheme supplied. Perhaps you meant http://?"
     ]
    }
   ],
   "source": [
    "\n",
    "EXPORT_FILE = \"../M3urls3.txt\"\n",
    "HTML_FOLDER = \"../urls/\"\n",
    "DATA_FOLDER = \"../data/\"\n",
    "\n",
    "if __name__ == \"__main__\":\n",
    "\n",
    "    STATUS = input( \"What do you want to do ? [REBOOT][UPDATE][...] :\\n\")\n",
    "    if STATUS == \"REBOOT\":\n",
    "        verify = input(\"REBOOT entraînera la reconstitution complète de la base de données. Êtes-vous sûr de vouloir continuer ? [Y/n]:\\n\")\n",
    "        if verify != \"Y\":\n",
    "            exit(\"Interrupt by user\")\n",
    "    \n",
    "    url_base = 'https://www.millenaire3.com'\n",
    "    errors = []\n",
    "\n",
    "    if STATUS == \"REBOOT\":\n",
    "        print(\"REBOOT\")\n",
    "        urls = get_all_page(urls = [], \n",
    "                    pattern=\"https://www.millenaire3.com/m3_search?page=1&sort_by=0&SearchText=&modeRecherche=1&titre=&auteurId=&auteurText=&100%25=&100%25_new_value=true&date_debut=01%2F01%2F1900&date_debut_mobile=&date_fin=31%2F12%2F2025&date_fin_mobile=&identifiers=&rubriques=\",\n",
    "                    url_base = url_base)\n",
    "        with open(DATA_FOLDER+EXPORT_FILE, \"w\", encoding=\"utf-8\") as f:\n",
    "            for url in urls:\n",
    "                f.write(url+'\\n')\n",
    "    \n",
    "    elif EXPORT_FILE in os.listdir(DATA_FOLDER) and STATUS != \"UPDATE\":\n",
    "        print(\"LOAD\")\n",
    "        urls = read_urls(DATA_FOLDER+EXPORT_FILE)\n",
    "    else:\n",
    "        print(\"UPDATE\")\n",
    "        urls = get_all_page(urls = read_urls(DATA_FOLDER+EXPORT_FILE), \n",
    "                    pattern=\"https://www.millenaire3.com/m3_search?page=1&sort_by=0&SearchText=&modeRecherche=1&titre=&auteurId=&auteurText=&100%25=&100%25_new_value=true&date_debut=01%2F01%2F1900&date_debut_mobile=&date_fin=31%2F12%2F2025&date_fin_mobile=&identifiers=&rubriques=\",\n",
    "                    url_base = url_base)\n",
    "        with open(DATA_FOLDER+EXPORT_FILE, \"w\", encoding=\"utf-8\") as f:\n",
    "            for url in urls:\n",
    "                f.write(url+'\\n')\n",
    "        \n",
    "    files = os.listdir(HTML_FOLDER)\n",
    "    i = 0 #len(files) ? # On peut changer la valeur de départ\n",
    "    while i <= len(urls)-1:\n",
    "        URL = urls[i].replace(\"/\", \"_\").replace(\".\", \"_\").replace(\":\", \"_\").replace(\"?\", \"_\").replace(\"=\", \"_\").replace(\"&\", \"_\").replace(\"%\", \"_\").replace(\"-\", \"_\").replace(\"httpswwwmillenaire3com\", \"_\").replace(\"_\", \"\")\n",
    "        if f\"{URL}.html\" in files and STATUS != \"REBOOT\":\n",
    "            pass\n",
    "        elif re.search(\"/partage_email/|/generated_pdf/\", urls[i]):\n",
    "            print(re.search(\"/partage_email/|/generated_pdf/\", urls[i]))\n",
    "            errors.append(urls[i])\n",
    "            print(f\"\\r{i} / {len(urls)}, errors\", end = \"\")\n",
    "            pass\n",
    "        else:\n",
    "            print(f\"\\r{i} / {len(urls)}: {URL}\", end = \"\")\n",
    "\n",
    "            page = requests.get(urls[i])\n",
    "            if page.status_code == 200:\n",
    "                getAllUrl(urls[i], url_base, urls, EXPORT_FILE, DATA_FOLDER, page)\n",
    "                with open(f\"{HTML_FOLDER}{URL}.html\", \"w\", encoding=\"utf-8\") as f:\n",
    "                    f.write(page.text)\n",
    "            else:\n",
    "                print(\" \", page.status_code)\n",
    "                errors.append(urls[i])\n",
    "\n",
    "        i += 1"
   ]
  }
 ],
 "metadata": {
  "kernelspec": {
   "display_name": "base",
   "language": "python",
   "name": "python3"
  },
  "language_info": {
   "codemirror_mode": {
    "name": "ipython",
    "version": 3
   },
   "file_extension": ".py",
   "mimetype": "text/x-python",
   "name": "python",
   "nbconvert_exporter": "python",
   "pygments_lexer": "ipython3",
   "version": "3.9.13"
  },
  "orig_nbformat": 4
 },
 "nbformat": 4,
 "nbformat_minor": 2
}
