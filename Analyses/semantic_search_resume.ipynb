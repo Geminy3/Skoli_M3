{
 "cells": [
  {
   "cell_type": "code",
   "execution_count": 2,
   "metadata": {},
   "outputs": [],
   "source": [
    "import os\n",
    "import torch\n",
    "import pickle\n",
    "from transformers import BertTokenizer, BertModel, CamembertModel, CamembertTokenizer, AutoTokenizer, AutoModel\n",
    "from sklearn.metrics.pairwise import cosine_similarity\n",
    "import pandas as pd"
   ]
  },
  {
   "attachments": {},
   "cell_type": "markdown",
   "metadata": {},
   "source": [
    "# Avec CamemBERT (pas au point)"
   ]
  },
  {
   "cell_type": "code",
   "execution_count": 166,
   "metadata": {},
   "outputs": [],
   "source": [
    "def get_document_embeddings(texts, model, tokenizer):\n",
    "    vectors = []\n",
    "    for i, text in enumerate(texts):\n",
    "        print(f\"\\r{i} / {len(texts)}, TXT : {text[:20]}\", end=\"\")\n",
    "        input_ids = tokenizer(text, return_tensors=\"pt\", truncation = True, padding = True)\n",
    "        with torch.no_grad():\n",
    "            outputs = model(**input_ids)\n",
    "        vectors.append(outputs.last_hidden_state.mean(dim = 1))\n",
    "    return(torch.cat(vectors, dim=0))\n",
    "\n",
    "def semantic_search(query, model, tokenizer, document_embeddings, n_results=5):\n",
    "    query_embedding = get_document_embeddings(query, model, tokenizer)\n",
    "    similarity_scores = cosine_similarity(query_embedding, document_embeddings)[0]\n",
    "    return(similarity_scores)\n",
    "    # sorted_indices = similarity_scores.argsort()\n",
    "    # return(sorted_indices[::-1][:n_results])\n",
    "\n",
    "def save_embeddings(embeddings, output_file):\n",
    "    with open(output_file, 'wb') as f:\n",
    "        pickle.dump(embeddings, f)\n",
    "\n",
    "def load_embeddings(input_file):\n",
    "    with open(input_file, 'rb') as f:\n",
    "        return pickle.load(f)\n",
    "    \n",
    "def sortfunc(x):\n",
    "    return(int(x))"
   ]
  },
  {
   "cell_type": "code",
   "execution_count": 213,
   "metadata": {},
   "outputs": [
    {
     "name": "stderr",
     "output_type": "stream",
     "text": [
      "Some weights of the model checkpoint at camembert-base were not used when initializing CamembertModel: ['lm_head.layer_norm.weight', 'lm_head.bias', 'lm_head.layer_norm.bias', 'lm_head.dense.weight', 'lm_head.decoder.weight', 'lm_head.dense.bias']\n",
      "- This IS expected if you are initializing CamembertModel from the checkpoint of a model trained on another task or with another architecture (e.g. initializing a BertForSequenceClassification model from a BertForPreTraining model).\n",
      "- This IS NOT expected if you are initializing CamembertModel from the checkpoint of a model that you expect to be exactly identical (initializing a BertForSequenceClassification model from a BertForSequenceClassification model).\n"
     ]
    },
    {
     "name": "stdout",
     "output_type": "stream",
     "text": [
      "2784\n",
      "LOADING EMBEDDINGS\n"
     ]
    }
   ],
   "source": [
    "\n",
    "if __name__ == \"__main__\":\n",
    "    # Replace 'bert-base-uncased' with any other suitable pre-trained model if needed.\n",
    "    # tokenizer = BertTokenizer.from_pretrained('bert-base-uncased')\n",
    "    # model = BertModel.from_pretrained('bert-base-uncased')\n",
    "    modelname = 'camembert/camembert-base'\n",
    "    model = AutoModel.from_pretrained(\"camembert-base\")\n",
    "    tokenizer = AutoTokenizer.from_pretrained(\"camembert-base\")\n",
    "    \n",
    "    MODE = None#\"Update\"\n",
    "    \n",
    "    embeddings_file = \"../data/document_embeddings.pkl\"\n",
    "\n",
    "    data_folder = \"../data/Texte/\"\n",
    "    n_results = 5  # Change this value to get a different number of relevant documents.\n",
    "\n",
    "    # Load and process your text data from separate folders.\n",
    "    documents = []\n",
    "    index = []\n",
    "    \n",
    "    listdir = list(os.listdir(\"../data/Texte/\"))\n",
    "    listdir.sort(key=sortfunc)\n",
    "    \n",
    "    for folder_name in listdir:\n",
    "        print(f\"\\r{folder_name}\", end = \"\")\n",
    "        folder_path = os.path.join(data_folder, folder_name)\n",
    "        if not os.path.isdir(folder_path):\n",
    "            continue\n",
    "        for file_name in os.listdir(folder_path):\n",
    "            if file_name == \"full.txt\" :\n",
    "                file_path = os.path.join(folder_path, file_name)\n",
    "                with open(file_path, \"r\", encoding=\"utf-8\") as file:\n",
    "                    text = file.read()\n",
    "                    documents.append(text)\n",
    "                    index.append(int(folder_name))\n",
    "    \n",
    "    df = pd.DataFrame(documents, columns = [\"text\"])\n",
    "    df.index = index\n",
    "    # Get embeddings for all the documents.\n",
    "    if os.path.exists(embeddings_file) and MODE != \"Update\":\n",
    "        print(\"\\nLOADING EMBEDDINGS\")\n",
    "        document_embeddings = load_embeddings(embeddings_file)\n",
    "    else:\n",
    "        print(\"\\nCONVERTING DOCUMENTS INTO EMBEDDINGS\")\n",
    "        document_embeddings = get_document_embeddings(documents, model, tokenizer)\n",
    "        save_embeddings(document_embeddings, embeddings_file)"
   ]
  },
  {
   "cell_type": "code",
   "execution_count": 214,
   "metadata": {},
   "outputs": [
    {
     "name": "stdout",
     "output_type": "stream",
     "text": [
      "0 / 1, TXT : faim, manger[0.41158763 0.38515815 0.27724868 ... 0.3687632  0.4435064  0.3589907 ]\n"
     ]
    },
    {
     "data": {
      "text/html": [
       "<div>\n",
       "<style scoped>\n",
       "    .dataframe tbody tr th:only-of-type {\n",
       "        vertical-align: middle;\n",
       "    }\n",
       "\n",
       "    .dataframe tbody tr th {\n",
       "        vertical-align: top;\n",
       "    }\n",
       "\n",
       "    .dataframe thead th {\n",
       "        text-align: right;\n",
       "    }\n",
       "</style>\n",
       "<table border=\"1\" class=\"dataframe\">\n",
       "  <thead>\n",
       "    <tr style=\"text-align: right;\">\n",
       "      <th></th>\n",
       "      <th>Doc</th>\n",
       "      <th>Cos</th>\n",
       "    </tr>\n",
       "  </thead>\n",
       "  <tbody>\n",
       "    <tr>\n",
       "      <th>1326</th>\n",
       "      <td>La longue marche de solid’arte\\nnan\\nArrêt sur...</td>\n",
       "      <td>0.865901</td>\n",
       "    </tr>\n",
       "    <tr>\n",
       "      <th>1136</th>\n",
       "      <td>1-test ressource\\nnan\\nnan</td>\n",
       "      <td>0.836543</td>\n",
       "    </tr>\n",
       "    <tr>\n",
       "      <th>1811</th>\n",
       "      <td>Petit lexique des fleuves\\nnan\\n</td>\n",
       "      <td>0.822544</td>\n",
       "    </tr>\n",
       "    <tr>\n",
       "      <th>2022</th>\n",
       "      <td>Ritualités et transmission : le symptôme commé...</td>\n",
       "      <td>0.768621</td>\n",
       "    </tr>\n",
       "    <tr>\n",
       "      <th>1338</th>\n",
       "      <td>La sécurité urbaine : un bien public\\nnan\\nDan...</td>\n",
       "      <td>0.767657</td>\n",
       "    </tr>\n",
       "    <tr>\n",
       "      <th>1884</th>\n",
       "      <td>Moncey, pour un aménagement adapté\\nnan\\nTexte...</td>\n",
       "      <td>0.753080</td>\n",
       "    </tr>\n",
       "    <tr>\n",
       "      <th>1345</th>\n",
       "      <td>Deux exemples de stratégie hospitalière visant...</td>\n",
       "      <td>0.746994</td>\n",
       "    </tr>\n",
       "    <tr>\n",
       "      <th>1471</th>\n",
       "      <td>La culture est nécessaire pour qu’une collecti...</td>\n",
       "      <td>0.726553</td>\n",
       "    </tr>\n",
       "    <tr>\n",
       "      <th>1307</th>\n",
       "      <td>Lyon, métropole de la lumière\\nnan\\nUsages et ...</td>\n",
       "      <td>0.723364</td>\n",
       "    </tr>\n",
       "    <tr>\n",
       "      <th>1179</th>\n",
       "      <td>Acquérir de nouvelles compétences : quelques p...</td>\n",
       "      <td>0.715874</td>\n",
       "    </tr>\n",
       "    <tr>\n",
       "      <th>1851</th>\n",
       "      <td>Chercheurs, citoyens : au café (des sciences !...</td>\n",
       "      <td>0.715734</td>\n",
       "    </tr>\n",
       "    <tr>\n",
       "      <th>1936</th>\n",
       "      <td>L’Etat au coeur : le meccano de la gouvernance...</td>\n",
       "      <td>0.710889</td>\n",
       "    </tr>\n",
       "    <tr>\n",
       "      <th>1585</th>\n",
       "      <td>Le Grand Rendez-Vous : récit d'un dialogue cit...</td>\n",
       "      <td>0.704731</td>\n",
       "    </tr>\n",
       "    <tr>\n",
       "      <th>1245</th>\n",
       "      <td>Refonder des civilités urbaines, adapter les l...</td>\n",
       "      <td>0.703877</td>\n",
       "    </tr>\n",
       "    <tr>\n",
       "      <th>1648</th>\n",
       "      <td>Action positives et approche intégrée - deux a...</td>\n",
       "      <td>0.698153</td>\n",
       "    </tr>\n",
       "    <tr>\n",
       "      <th>1550</th>\n",
       "      <td>Pour une police de la qualité de la vie. L a m...</td>\n",
       "      <td>0.690240</td>\n",
       "    </tr>\n",
       "    <tr>\n",
       "      <th>2042</th>\n",
       "      <td>Technologies éducatives : déjà une longue hist...</td>\n",
       "      <td>0.686667</td>\n",
       "    </tr>\n",
       "    <tr>\n",
       "      <th>1581</th>\n",
       "      <td>Hommes &amp; animaux : quand vivre “avec” transfor...</td>\n",
       "      <td>0.684890</td>\n",
       "    </tr>\n",
       "    <tr>\n",
       "      <th>1664</th>\n",
       "      <td>Logement et « intégration » des minorités ethn...</td>\n",
       "      <td>0.679092</td>\n",
       "    </tr>\n",
       "    <tr>\n",
       "      <th>1663</th>\n",
       "      <td>Logement et « intégration » des minorités ethn...</td>\n",
       "      <td>0.675949</td>\n",
       "    </tr>\n",
       "  </tbody>\n",
       "</table>\n",
       "</div>"
      ],
      "text/plain": [
       "                                                    Doc       Cos\n",
       "1326  La longue marche de solid’arte\\nnan\\nArrêt sur...  0.865901\n",
       "1136                         1-test ressource\\nnan\\nnan  0.836543\n",
       "1811         Petit lexique des fleuves\\nnan\\n            0.822544\n",
       "2022  Ritualités et transmission : le symptôme commé...  0.768621\n",
       "1338  La sécurité urbaine : un bien public\\nnan\\nDan...  0.767657\n",
       "1884  Moncey, pour un aménagement adapté\\nnan\\nTexte...  0.753080\n",
       "1345  Deux exemples de stratégie hospitalière visant...  0.746994\n",
       "1471  La culture est nécessaire pour qu’une collecti...  0.726553\n",
       "1307  Lyon, métropole de la lumière\\nnan\\nUsages et ...  0.723364\n",
       "1179  Acquérir de nouvelles compétences : quelques p...  0.715874\n",
       "1851  Chercheurs, citoyens : au café (des sciences !...  0.715734\n",
       "1936  L’Etat au coeur : le meccano de la gouvernance...  0.710889\n",
       "1585  Le Grand Rendez-Vous : récit d'un dialogue cit...  0.704731\n",
       "1245  Refonder des civilités urbaines, adapter les l...  0.703877\n",
       "1648  Action positives et approche intégrée - deux a...  0.698153\n",
       "1550  Pour une police de la qualité de la vie. L a m...  0.690240\n",
       "2042  Technologies éducatives : déjà une longue hist...  0.686667\n",
       "1581  Hommes & animaux : quand vivre “avec” transfor...  0.684890\n",
       "1664  Logement et « intégration » des minorités ethn...  0.679092\n",
       "1663  Logement et « intégration » des minorités ethn...  0.675949"
      ]
     },
     "execution_count": 214,
     "metadata": {},
     "output_type": "execute_result"
    }
   ],
   "source": [
    "# Example query.\n",
    "query = [\"faim, manger\"]\n",
    "\n",
    "# Get the most relevant documents.\n",
    "relevant_indices  = semantic_search(query, model, tokenizer, document_embeddings, n_results)\n",
    "# Print the most relevant documents.\n",
    "print(relevant_indices)\n",
    "res = pd.DataFrame(zip(documents, relevant_indices), columns = [\"Doc\", \"Cos\"]).sort_values(by=\"Cos\", ascending=False)\n",
    "res.head(20)\n",
    "# print(\"Most relevant documents:\")\n",
    "# for i, index in enumerate(relevant_indices):\n",
    "#     print(documents[index])\n",
    "#     print(\"------------------------\")\n",
    "\n",
    "# doc = ['La longue marche de solid’arte\\nnan\\nArrêt sur une structure originale de formation pour artistes. ']\n",
    "# cosine_similarity(get_document_embeddings(query, model, tokenizer), get_document_embeddings(doc, model, tokenizer))"
   ]
  },
  {
   "cell_type": "code",
   "execution_count": 155,
   "metadata": {},
   "outputs": [
    {
     "data": {
      "text/plain": [
       "text    Le Rhône, la ville, l’usine\\nL'usine hydroélec...\n",
       "Name: 1811, dtype: object"
      ]
     },
     "execution_count": 155,
     "metadata": {},
     "output_type": "execute_result"
    }
   ],
   "source": []
  },
  {
   "attachments": {},
   "cell_type": "markdown",
   "metadata": {},
   "source": [
    "# AVEC TF-IDF"
   ]
  },
  {
   "cell_type": "code",
   "execution_count": 3,
   "metadata": {},
   "outputs": [],
   "source": [
    "from sklearn.feature_extraction.text import CountVectorizer\n",
    "\n",
    "data_folder = \"../data/Texte/\"\n",
    "documents=[]\n",
    "nom_docs=[]\n",
    "for folder_name in os.listdir(data_folder):\n",
    "    # print(folder_name)\n",
    "    folder_path = os.path.join(data_folder, folder_name)\n",
    "    if not os.path.isdir(folder_path):\n",
    "        continue\n",
    "    for file_name in os.listdir(folder_path):\n",
    "        # print(file_name)\n",
    "        if file_name == \"texte.txt\":\n",
    "            file_path = os.path.join(folder_path, file_name)\n",
    "            with open(file_path, \"r\", encoding=\"utf-8\") as file:\n",
    "                text = file.read()\n",
    "                documents.append(text)\n",
    "                nom_docs.append(folder_path.split('/')[3])\n",
    "                # print(folder_path.split('/')[3], text)\n",
    "vectorizer=CountVectorizer(lowercase=False)\n",
    "nOcc=vectorizer.fit_transform(documents)\n",
    "nOcc=pd.DataFrame.sparse.from_spmatrix(nOcc,index=nom_docs,columns=vectorizer.get_feature_names_out())"
   ]
  },
  {
   "cell_type": "code",
   "execution_count": 11,
   "metadata": {},
   "outputs": [],
   "source": [
    "query = vectorizer.transform([\"Développement durable\"]) #Process (lemmatize + stopwords)\n",
    "\n",
    "similarities = cosine_similarity(query, nOcc)\n",
    "\n",
    "# Classement des documents en fonction de leur similarité avec la requête\n",
    "sorted_indices = similarities[0]\n",
    "sim = pd.DataFrame(sorted_indices, nom_docs).sort_values(by=0, ascending=False)"
   ]
  },
  {
   "cell_type": "code",
   "execution_count": 12,
   "metadata": {},
   "outputs": [
    {
     "data": {
      "text/plain": [
       "<Axes: ylabel='Frequency'>"
      ]
     },
     "execution_count": 12,
     "metadata": {},
     "output_type": "execute_result"
    },
    {
     "data": {
      "image/png": "[encoded data removed]",
      "text/plain": [
       "<Figure size 640x480 with 1 Axes>"
      ]
     },
     "metadata": {},
     "output_type": "display_data"
    }
   ],
   "source": [
    "sim[0].plot(kind = \"hist\")"
   ]
  },
  {
   "cell_type": "code",
   "execution_count": 13,
   "metadata": {},
   "outputs": [
    {
     "name": "stdout",
     "output_type": "stream",
     "text": [
      "Le développement durable : un impératif difficile à mettre en œuvre\n",
      "Ce document est la synthèse d’une étude réalisée pour la Mission prospective et stratégie d’agglomération sur le thème du développement durable par Gabrielle Fack, dans le cadre d’un stage de trois mois en juillet, août et septembre 2001.\n",
      "\" Faire du développement durable \" est un mot d'ordre qui apparaît de plus en plus souvent dans le débat public et qui est la raison d'être des Agendas 21. Mais que signifie cette injonction ?Comment faire pour que le développement durable ne soit pas qu'un mot valise pour invoquer des valeurs généreuses sans réelle application concrète ?Des entretiens avec des acteurs lyonnais de l'administration, de l'urbanisme, de l'économie et du milieu associatif ont permis de cerner un peu mieux comment le développement durable est perçu et mis en œuvre dans l'agglomération lyonnaise. Un clivage net apparaît entre ceux qui sont intéressés par le développement durable et se sont forgé leur propre interprétation de la notion et une majorité qui ne se sent pas vraiment concernée par ce terme trop conceptuel.Car c'est en effet la mise en pratique du développement durable qui pose problème et soulève des enjeux différents pour chaque groupe. Au sommaire • A la recherche d'une définition simple du développement durable• Le passe-jardins : une association qui fait du développement durable comme Monsieur Jourdain fait de la prose.• Une difficile mise en pratique• L'Association pour les pratiques du développement durable : aider les entreprises et les collectivités locales• Liste des personnes interrogées pour l'étude• Quelques événements liés au développement durable \n",
      "----------------------\n",
      "Comment rendre le développement durable opératoire ?\n",
      "Jean Claude Ray anime un groupe de travail municipal dans lequel des élus et des techniciens recensent les actions développement durable et les impulsent de façon à ce qu’elles soient conduites de manière coordonnée. Ce groupe travaille sur un certain nombre de sujets, notamment la charte des espaces extérieurs, la charte des antennes relais de téléphonie mobile, la pose d’une moquette solaire sur la piscine, l’utilisation de la norme HQE pour des équipements municipaux et le logement social, le remplacement des véhicules municipaux par des véhicules peu ou pas polluants, la maîtrise de l’énergie dans les équipements municipaux, le papier recyclé, un PDE, les actions d’éducation à l’environnement et le PEDIBUS.Pour la Municipalité de Villeurbanne « Le développement durable ne doit surtout pas être assimilé à la croissance économique ou à la seule préservation de l’environnement » et ne doit pas être uniquement « un axe de communication fort de la municipalité » mais doit mener à un « développement qui satisfait les générations présentes sans priver les générations futures des ressources qui leur permettront de satisfaire leurs propres besoins ». En tout état de cause, il est impératif pour J-C Ray d’obtenir des résultats concrets le plus tôt possibleIl s’agit surtout de « faire changer les habitudes en créant des incitations et des sanctions, ce qui relève plus du long terme. » C'est dans ce sens où la concertation avec les habitants est un outil, un moyen d’accéder au développement durable.\n",
      "\n",
      "\n",
      "Que représente pour vous le développement durable ?C’est un développement qui satisfait les générations présentes sans priver les générations futures des ressources qui leur permettront de satisfaire leurs propres besoins. Ceci étant le concept est très difficile à cerner, dans la mesure où toute action peut avoir un habillage développement durable. Par rapport aux trois piliers classiques ( économie, social, environnement), il faut ajouter la participation citoyenne. Plus précisément, la concertation est un outil, un moyen d’accéder au développement durable. Le développement durable ne doit surtout pas être assimilé à la croissance économique ou à la seule préservation de l’environnement. Comment appliquez-vous le développement durable sur le territoire de Villeurbanne ?L’action municipale n’est pas centrée sur le développement durable. Pour autant la ville fait du développement durable. Il y a des actions développement durable qui sont menées indépendamment de tout discours. Il y a une nécessité légale et technique de travailler autrement. La communication municipale se fait essentiellement sur la démocratie locale, la beauté dans la ville et sur des actions culturelles. Le développement durable n’est pas un axe de communication fort de la municipalité. Dans la charte des espaces extérieurs, il y a par exemple un règlement sur les enseignes publicitaires dont l’objectif est de dédensifier les panneaux publicitaires et d’être plus vigilant avec les annonceurs. Grâce à cette entrée, on peut arriver à sensibiliser au développement durable et impulser d’autres initiatives. La problématique de l’étalement urbain est abordée à travers l’urbanisation concertée via les conseils de quartiers et les groupes témoins. L’idée en la matière est de pouvoir urbaniser des terrains bien desservis par les transports en commun. Dans le même registre, la construction d’un centre sportif dans le quartier des Brosses et non en centre-ville contribue à l’équilibre de la ville. La ville de Villeurbanne a été la première ville dans la région Rhône-Alpes à appliquer la journée du 22 septembre « en ville sans ma voiture ». Et les aspects économiques et sociaux ?Au niveau économique, il existe une boutique labellisée « commerce équitable » auprès de quelle la mairie se fournit. Par ailleurs, préserver un faible niveau d’endettement relève également du développement durable. Au niveau social, la politique de la ville privilégie la dimension d’insertion. Cet aspect est central dans la politique municipale, mais il n’est pas abordé dans une optique de développement durable. Par exemple 25 % des logements de la commune sont des logements sociaux. Il y a également les politiques menées en direction de la petite enfance qui s’inscrivent dans ce cadre. La ville dispose d’une faible marge de manœuvre dans certains domaines notamment en matière de transports et de développement économique car ils relèvent de la Communauté Urbaine. Contrairement à d’autres communes (Echirolles, Angers …) les décisions de la municipalité ne sont pas passées au tamis du développement durable. Notre commune est en amont de cela, car il se pose également une question budgétaire. Lorsque l’on mène une action développement durable comment la financer ? Deux solutions sont possibles soit puiser dans l’enveloppe budgétaire développement durable qui est de 150.000 euros, soit négocier avec l’adjoint chargé du domaine où l’action est menée pour qu’il finance tout ou partie du surcoût lié à la dimension développement durable. Il s’agit là d’un débat et d’arbitrages politiques qui doivent êtres menés de façon très pragmatique et au cas par cas, sachant que le Maire demande aux élus de trouver un compromis entre eux. Qu’est ce qui vous pousse à faire du développement durable ?C’est une nécessité pour l’avenir, une solidarité avec les générations futures. Mais c’est aussi une nécessité légale et technique. Quels sont les principaux enjeux et problèmes pour la décennie à venir ?Les enjeux sont sociaux sur les quartiers de Saint Jean et des Brosses, et écologiques et environnementaux. Sachant qu’il faut arriver à une mixité sociale dans ces quartiers, en évitant le départ des personnes qui trouvent un emploi et en rendant Ces quartiers attractifs notamment en termes d’équipements. Sur le reste de la commune les enjeux sont d’une part l’équilibre entre la construction immobilière , les équipements éducatifs, sociaux (centres sociaux, MJC, …) culturels et sportifs, les espaces verts et d’autre part l’identité de la ville. Villeurbanne doit avoir des équipements à la mesure de la taille de la ville et ne pas être une succession de quartiers sans originalité. Il s’agit ici d’une conception sociétale de la ville. Quels sont les objectifs de la commune en matière de développement durable ?Des réalisations concrètes telles que :- La généralisation du PEDIBUS qui concerne actuellement trois écoles et une quatrième qui voudrait suivre.- Le développement de l’éducation à l’environnement tel que les bons plans, qui rentrent dans ce qui était appelé les journées de l’environnement, avec une déclinaison spécifiquement villeurbannaise.- Le développement des équipements petite enfance et notamment des crèches.- Le PDE.- Le développement du tri sélectif.- Les opérations HQE dans des bâtiments municipaux Comment rendre le développement durable opératoire ?Pour être opératoire, le développement durable doit s’appuyer sur des objectifs précis, ponctuels et pragmatiques. Il doit être approprié par les décideurs sans être un habillage de communication, et par les citoyens. Ceci peut ce faire dans le cadre de commissions développement durable. Il s’agit d’obtenir des résultats concrets le plus tôt possible. Le développement durable ne doit pas être un habillage purement formel au niveau de la communication. Il faut qu’il garde un minimum d’originalité autour des trois ou quatre critères évoqués. Ensuite, il s’agit de les hiérarchiser en fonction des diverses contraintes. Il s’agit également de faire changer les habitudes en créant des incitations et des sanctions, ce qui relève plus du long terme. \n",
      "----------------------\n",
      "Agenda 21 du sport français en faveur du développement durable\n",
      "« Le développement durable n’est pas une recette d’application immédiate, c’est un mode de pensée, une manière actuelle de concevoir et de mettre en œuvre les politiques et naturellement les politiques sportives. Cela consiste à mener chacune de nos réflexions, de nos actions et de nos projets selon une approche transversale, concertée et prospective », Henri Serandour, président du CNOSF & membre du CIO.\n",
      "SOMMAIRE- Le développement durable, une nouvelle approche des politiques sportives- La solidarité sportive au service du développement durable- Une gestion et une organisation du sport respectueuses de l’environnement- Une économie sportive au service du développement durable \n",
      "----------------------\n",
      "Vers une alliance acteurs économiques-société civile ?\n",
      "Comment les entreprises, par leurs initiatives et leurs pratiques, peuvent-elles prendre en compte les objectifs socio-économiques du développement durable ?\n",
      "\n",
      "Le développement durable depuis quelques années est pris en compte par les entreprises mais les initiatives sont très inégales. Une alliance pour le développement durable susceptible de regrouper industries, milieux d’affaires et société civile est indispensable.\n",
      "Sommaire ● Engagements volontaires, ou régulations contraignantes ?● Une demande de droit et de politique● Des responsabilités collectives● Le défi de l'intelligence  \n",
      "----------------------\n"
     ]
    }
   ],
   "source": [
    "txt = []\n",
    "for doc in sim[:4].index:\n",
    "    with open(f\"../data/Texte/{doc}/full.txt\", \"r\", encoding=\"utf-8\") as f:\n",
    "        texte = f.read()\n",
    "        print(texte)\n",
    "        txt.append(texte)\n",
    "    print(\"----------------------\")"
   ]
  },
  {
   "attachments": {},
   "cell_type": "markdown",
   "metadata": {},
   "source": [
    "### Resumé avec ChatGPT"
   ]
  },
  {
   "cell_type": "code",
   "execution_count": 14,
   "metadata": {},
   "outputs": [
    {
     "name": "stdout",
     "output_type": "stream",
     "text": [
      "{\n",
      "  \"id\": \"chatcmpl-81GiGqMaVHGodvG6cvtDz6o0F0Pwd\",\n",
      "  \"object\": \"chat.completion\",\n",
      "  \"created\": 1695313264,\n",
      "  \"model\": \"gpt-3.5-turbo-16k-0613\",\n",
      "  \"choices\": [\n",
      "    {\n",
      "      \"index\": 0,\n",
      "      \"message\": {\n",
      "        \"role\": \"assistant\",\n",
      "        \"content\": \"- Le d\\u00e9veloppement durable est un concept souvent utilis\\u00e9 mais difficile \\u00e0 d\\u00e9finir et \\u00e0 mettre en pratique.\\n- Certains acteurs lyonnais sont int\\u00e9ress\\u00e9s par le d\\u00e9veloppement durable et ont leur propre interpr\\u00e9tation, tandis que d'autres ne se sentent pas concern\\u00e9s.\\n- Jean Claude Ray anime un groupe de travail municipal qui recense les actions de d\\u00e9veloppement durable et les coordonne.\\n- La Municipalit\\u00e9 de Villeurbanne consid\\u00e8re que le d\\u00e9veloppement durable ne se r\\u00e9duit pas \\u00e0 la croissance \\u00e9conomique ou \\u00e0 la pr\\u00e9servation de l'environnement.\\n- Pour rendre le d\\u00e9veloppement durable op\\u00e9ratoire, il faut cr\\u00e9er des incitations et des sanctions, mais cela rel\\u00e8ve du long terme.\\n- La concertation avec les habitants est un moyen d'acc\\u00e9der au d\\u00e9veloppement durable.\\n- La ville de Villeurbanne met en \\u0153uvre des actions de d\\u00e9veloppement durable, notamment dans les domaines de l'urbanisation concert\\u00e9e et de la pr\\u00e9servation de l'environnement.\\n- Au niveau \\u00e9conomique, la ville soutient le commerce \\u00e9quitable et maintient un faible niveau d'endettement.\\n- Au niveau social, la ville privil\\u00e9gie l'insertion et dispose d'un pourcentage important de logements sociaux.\\n- Les principaux enjeux pour la d\\u00e9cennie \\u00e0 venir sont sociaux, \\u00e9cologiques et environnementaux.\\n- Les objectifs de la commune en mati\\u00e8re de d\\u00e9veloppement durable sont la g\\u00e9n\\u00e9ralisation du PEDIBUS, le d\\u00e9veloppement de l'\\u00e9ducation \\u00e0 l'environnement, des \\u00e9quipements petite enfance, le PDE et le tri s\\u00e9lectif.\\n- Le d\\u00e9veloppement durable doit s'appuyer sur des objectifs pr\\u00e9cis et \\u00eatre appropri\\u00e9 par les d\\u00e9cideurs et les citoyens.\\n- Le d\\u00e9veloppement durable n\\u00e9cessite de faire changer les habitudes en cr\\u00e9ant des incitations et des sanctions.\\n- Il est important de construire une alliance entre les acteurs \\u00e9conomiques et la soci\\u00e9t\\u00e9 civile pour promouvoir le d\\u00e9veloppement durable.\\n- Les entreprises doivent prendre en compte les objectifs socio-\\u00e9conomiques du d\\u00e9veloppement durable \\u00e0 travers des initiatives et des pratiques.\"\n",
      "      },\n",
      "      \"finish_reason\": \"stop\"\n",
      "    }\n",
      "  ],\n",
      "  \"usage\": {\n",
      "    \"prompt_tokens\": 2624,\n",
      "    \"completion_tokens\": 443,\n",
      "    \"total_tokens\": 3067\n",
      "  }\n",
      "}\n"
     ]
    }
   ],
   "source": [
    "import openai\n",
    "\n",
    "with open(\"../api_key\", \"r\", encoding=\"utf-8\") as f:\n",
    "    openai.api_key = f.read()\n",
    "\n",
    "prompt = f\"\"\"Je cherche à synthétiser au mieux l'information pour dégager les informations des différents textes. Met en avant les principales informations de ces différents textes séparés par ce signe \"---\" : {\"---\".join(txt)}\"\"\"\n",
    "\n",
    "openai.organization = \"org-mqd2akvmI5TNokavyM3mWXSq\"\n",
    "chat_completion = openai.ChatCompletion.create(\n",
    "    model=\"gpt-3.5-turbo-16k\",\n",
    "    messages = [{\"role\": \"user\", \n",
    "                 \"content\": prompt}]\n",
    "    )\n",
    "print(chat_completion)"
   ]
  },
  {
   "cell_type": "code",
   "execution_count": 15,
   "metadata": {},
   "outputs": [
    {
     "name": "stdout",
     "output_type": "stream",
     "text": [
      "\n",
      " - Le développement durable est un concept souvent utilisé mais difficile à définir et à mettre en pratique.\n",
      "- Certains acteurs lyonnais sont intéressés par le développement durable et ont leur propre \n",
      " interprétation, tandis que d'autres ne se sentent pas concernés.\n",
      "- Jean Claude Ray anime un groupe de travail municipal qui recense les actions de développement durable et les coordonne.\n",
      "- La Municipa\n",
      " lité de Villeurbanne considère que le développement durable ne se réduit pas à la croissance économique ou à la préservation de l'environnement.\n",
      "- Pour rendre le développement durable opératoire, il f\n",
      " aut créer des incitations et des sanctions, mais cela relève du long terme.\n",
      "- La concertation avec les habitants est un moyen d'accéder au développement durable.\n",
      "- La ville de Villeurbanne met en œuvr\n",
      " e des actions de développement durable, notamment dans les domaines de l'urbanisation concertée et de la préservation de l'environnement.\n",
      "- Au niveau économique, la ville soutient le commerce équitabl\n",
      " e et maintient un faible niveau d'endettement.\n",
      "- Au niveau social, la ville privilégie l'insertion et dispose d'un pourcentage important de logements sociaux.\n",
      "- Les principaux enjeux pour la décennie \n",
      " à venir sont sociaux, écologiques et environnementaux.\n",
      "- Les objectifs de la commune en matière de développement durable sont la généralisation du PEDIBUS, le développement de l'éducation à l'environn\n",
      " ement, des équipements petite enfance, le PDE et le tri sélectif.\n",
      "- Le développement durable doit s'appuyer sur des objectifs précis et être approprié par les décideurs et les citoyens.\n",
      "- Le développe\n",
      " ment durable nécessite de faire changer les habitudes en créant des incitations et des sanctions.\n",
      "- Il est important de construire une alliance entre les acteurs économiques et la société civile pour \n",
      " promouvoir le développement durable.\n",
      "- Les entreprises doivent prendre en compte les objectifs socio-économiques du développement durable à travers des initiatives et des pratiques."
     ]
    }
   ],
   "source": [
    "for i, carac in enumerate(chat_completion[\"choices\"][0][\"message\"][\"content\"]):\n",
    "    if i%200 == 0:\n",
    "        print(\"\\n\", carac, end = \"\")\n",
    "    else:\n",
    "        print(carac, end=\"\")\n"
   ]
  },
  {
   "cell_type": "code",
   "execution_count": 9,
   "metadata": {},
   "outputs": [
    {
     "name": "stdout",
     "output_type": "stream",
     "text": [
      "\n",
      " Dans les différents textes, on retrouve les informations suivantes :\n",
      "\n",
      "- Novatech est une conférence internationale sur les stratégies durables en assainissement pluvial qui aborde le sujet de la gesti\n",
      " on des eaux de ruissellement. Lyon est reconnue internationalement sur cette question.\n",
      "- La Mission Ecologie du Grand Lyon se concentre sur les aspects patrimoniaux de l'eau, tels que la qualité de l'\n",
      " eau, l'inventaire et la restauration des milieux humides, tandis que la Direction de l'eau se concentre sur les aspects fonctionnels tels que l'assainissement et le traitement des eaux.\n",
      "- La question \n",
      " de l'eau dans la ville est cruciale en milieu urbain, à la fois pour les usages domestiques, les besoins de santé et la préservation de l'environnement.\n",
      "- Les eaux de ruissellement dans les villes con\n",
      " stituent un risque majeur de pollution pour les eaux naturelles.\n",
      "- L'eau potable distribuée par le réseau d'adduction d'eau potable provient en grande partie du sous-sol (les nappes phréatiques).\n",
      "- La\n",
      "  gestion de l'eau implique différents acteurs tels que les agriculteurs, les industriels, les collectivités et les citoyens. La coopération entre ces acteurs est essentielle pour une gestion durable d\n",
      " e la ressource en eau.\n",
      "- La gouvernance de l'eau doit être ouverte et prendre en compte les attentes et les contributions des citoyens pour une meilleure gestion de la ressource."
     ]
    }
   ],
   "source": [
    "for i, carac in enumerate(chat_completion[\"choices\"][0][\"message\"][\"content\"]):\n",
    "    if i%200 == 0:\n",
    "        print(\"\\n\", carac, end = \"\")\n",
    "    else:\n",
    "        print(carac, end=\"\")"
   ]
  },
  {
   "cell_type": "markdown",
   "metadata": {},
   "source": [
    "# Pipeline avec LLama2 & HuggingFace"
   ]
  }
 ],
 "metadata": {
  "kernelspec": {
   "display_name": "base",
   "language": "python",
   "name": "python3"
  },
  "language_info": {
   "codemirror_mode": {
    "name": "ipython",
    "version": 3
   },
   "file_extension": ".py",
   "mimetype": "text/x-python",
   "name": "python",
   "nbconvert_exporter": "python",
   "pygments_lexer": "ipython3",
   "version": "3.10.11"
  },
  "orig_nbformat": 4
 },
 "nbformat": 4,
 "nbformat_minor": 2
}
